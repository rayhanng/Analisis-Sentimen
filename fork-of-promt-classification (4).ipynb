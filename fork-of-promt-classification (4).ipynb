{
 "cells": [
  {
   "cell_type": "code",
   "execution_count": 1,
   "id": "68dc9efb",
   "metadata": {
    "execution": {
     "iopub.execute_input": "2025-10-07T18:01:10.563435Z",
     "iopub.status.busy": "2025-10-07T18:01:10.563149Z",
     "iopub.status.idle": "2025-10-07T18:01:14.745949Z",
     "shell.execute_reply": "2025-10-07T18:01:14.745359Z"
    },
    "papermill": {
     "duration": 4.192296,
     "end_time": "2025-10-07T18:01:14.747745",
     "exception": false,
     "start_time": "2025-10-07T18:01:10.555449",
     "status": "completed"
    },
    "tags": []
   },
   "outputs": [
    {
     "name": "stdout",
     "output_type": "stream",
     "text": [
      "Collecting emoji\r\n"
     ]
    },
    {
     "name": "stdout",
     "output_type": "stream",
     "text": [
      "  Downloading emoji-2.15.0-py3-none-any.whl (608 kB)\r\n",
      "\u001b[?25l     \u001b[90m━━━━━━━━━━━━━━━━━━━━━━━━━━━━━━━━━━━━━━━━\u001b[0m \u001b[32m0.0/608.4 kB\u001b[0m \u001b[31m?\u001b[0m eta \u001b[36m-:--:--\u001b[0m"
     ]
    },
    {
     "name": "stdout",
     "output_type": "stream",
     "text": [
      "\r",
      "\u001b[2K     \u001b[91m━━━━━━━━━━━━━━━━━\u001b[0m\u001b[91m╸\u001b[0m\u001b[90m━━━━━━━━━━━━━━━━━━━━━\u001b[0m \u001b[32m276.5/608.4 kB\u001b[0m \u001b[31m8.1 MB/s\u001b[0m eta \u001b[36m0:00:01\u001b[0m\r",
      "\u001b[2K     \u001b[90m━━━━━━━━━━━━━━━━━━━━━━━━━━━━━━━━━━━━━━\u001b[0m \u001b[32m608.4/608.4 kB\u001b[0m \u001b[31m10.2 MB/s\u001b[0m eta \u001b[36m0:00:00\u001b[0m\r\n",
      "\u001b[?25h"
     ]
    },
    {
     "name": "stdout",
     "output_type": "stream",
     "text": [
      "Installing collected packages: emoji\r\n"
     ]
    },
    {
     "name": "stdout",
     "output_type": "stream",
     "text": [
      "Successfully installed emoji-2.15.0\r\n",
      "\u001b[33mWARNING: Running pip as the 'root' user can result in broken permissions and conflicting behaviour with the system package manager. It is recommended to use a virtual environment instead: https://pip.pypa.io/warnings/venv\u001b[0m\u001b[33m\r\n",
      "\u001b[0m"
     ]
    },
    {
     "name": "stdout",
     "output_type": "stream",
     "text": [
      "\r\n",
      "\u001b[1m[\u001b[0m\u001b[34;49mnotice\u001b[0m\u001b[1;39;49m]\u001b[0m\u001b[39;49m A new release of pip is available: \u001b[0m\u001b[31;49m23.0.1\u001b[0m\u001b[39;49m -> \u001b[0m\u001b[32;49m25.2\u001b[0m\r\n",
      "\u001b[1m[\u001b[0m\u001b[34;49mnotice\u001b[0m\u001b[1;39;49m]\u001b[0m\u001b[39;49m To update, run: \u001b[0m\u001b[32;49mpip install --upgrade pip\u001b[0m\r\n"
     ]
    }
   ],
   "source": [
    "!pip install emoji\n"
   ]
  },
  {
   "cell_type": "code",
   "execution_count": 2,
   "id": "cff9db93",
   "metadata": {
    "execution": {
     "iopub.execute_input": "2025-10-07T18:01:14.760145Z",
     "iopub.status.busy": "2025-10-07T18:01:14.759924Z",
     "iopub.status.idle": "2025-10-07T18:02:40.731404Z",
     "shell.execute_reply": "2025-10-07T18:02:40.730750Z"
    },
    "papermill": {
     "duration": 85.979951,
     "end_time": "2025-10-07T18:02:40.733528",
     "exception": false,
     "start_time": "2025-10-07T18:01:14.753577",
     "status": "completed"
    },
    "tags": []
   },
   "outputs": [
    {
     "name": "stdout",
     "output_type": "stream",
     "text": [
      "\u001b[33mWARNING: Running pip as the 'root' user can result in broken permissions and conflicting behaviour with the system package manager. It is recommended to use a virtual environment instead: https://pip.pypa.io/warnings/venv\u001b[0m\u001b[33m\r\n",
      "\u001b[0m\r\n",
      "\u001b[1m[\u001b[0m\u001b[34;49mnotice\u001b[0m\u001b[1;39;49m]\u001b[0m\u001b[39;49m A new release of pip is available: \u001b[0m\u001b[31;49m23.0.1\u001b[0m\u001b[39;49m -> \u001b[0m\u001b[32;49m25.2\u001b[0m\r\n",
      "\u001b[1m[\u001b[0m\u001b[34;49mnotice\u001b[0m\u001b[1;39;49m]\u001b[0m\u001b[39;49m To update, run: \u001b[0m\u001b[32;49mpip install --upgrade pip\u001b[0m\r\n"
     ]
    }
   ],
   "source": [
    "!pip install -q \"transformers[tf]==4.40.2\" \"tokenizers==0.19.1\" \"sentencepiece>=0.1.99\" \"huggingface_hub>=0.23.0\" emoji\n"
   ]
  },
  {
   "cell_type": "code",
   "execution_count": 3,
   "id": "4c5b8595",
   "metadata": {
    "execution": {
     "iopub.execute_input": "2025-10-07T18:02:40.747074Z",
     "iopub.status.busy": "2025-10-07T18:02:40.746817Z",
     "iopub.status.idle": "2025-10-07T18:03:22.746350Z",
     "shell.execute_reply": "2025-10-07T18:03:22.745685Z"
    },
    "papermill": {
     "duration": 42.008795,
     "end_time": "2025-10-07T18:03:22.748559",
     "exception": false,
     "start_time": "2025-10-07T18:02:40.739764",
     "status": "completed"
    },
    "tags": []
   },
   "outputs": [
    {
     "name": "stderr",
     "output_type": "stream",
     "text": [
      "2025-10-07 18:02:45.739467: E external/local_xla/xla/stream_executor/cuda/cuda_dnn.cc:9261] Unable to register cuDNN factory: Attempting to register factory for plugin cuDNN when one has already been registered\n",
      "2025-10-07 18:02:45.739518: E external/local_xla/xla/stream_executor/cuda/cuda_fft.cc:607] Unable to register cuFFT factory: Attempting to register factory for plugin cuFFT when one has already been registered\n",
      "2025-10-07 18:02:45.740295: E external/local_xla/xla/stream_executor/cuda/cuda_blas.cc:1515] Unable to register cuBLAS factory: Attempting to register factory for plugin cuBLAS when one has already been registered\n"
     ]
    },
    {
     "name": "stderr",
     "output_type": "stream",
     "text": [
      "/usr/local/lib/python3.10/site-packages/tqdm/auto.py:21: TqdmWarning: IProgress not found. Please update jupyter and ipywidgets. See https://ipywidgets.readthedocs.io/en/stable/user_install.html\n",
      "  from .autonotebook import tqdm as notebook_tqdm\n"
     ]
    }
   ],
   "source": [
    "import numpy as np\n",
    "import pandas as pd\n",
    "import re\n",
    "from tqdm import tqdm\n",
    "\n",
    "import os\n",
    "os.environ[\"TF_CPP_MIN_LOG_LEVEL\"] = \"2\"  # set sebelum import tensorflow\n",
    "\n",
    "import tensorflow as tf\n",
    "from transformers import TFAlbertModel, BertTokenizerFast\n",
    "\n",
    "import emoji\n",
    "\n",
    "from sklearn import preprocessing\n",
    "from sklearn.model_selection import train_test_split\n",
    "from sklearn.utils.class_weight import compute_class_weight"
   ]
  },
  {
   "cell_type": "code",
   "execution_count": 4,
   "id": "2a1edc02",
   "metadata": {
    "execution": {
     "iopub.execute_input": "2025-10-07T18:03:22.761289Z",
     "iopub.status.busy": "2025-10-07T18:03:22.760922Z",
     "iopub.status.idle": "2025-10-07T18:03:22.774512Z",
     "shell.execute_reply": "2025-10-07T18:03:22.773940Z"
    },
    "papermill": {
     "duration": 0.02121,
     "end_time": "2025-10-07T18:03:22.775650",
     "exception": false,
     "start_time": "2025-10-07T18:03:22.754440",
     "status": "completed"
    },
    "tags": []
   },
   "outputs": [
    {
     "name": "stdout",
     "output_type": "stream",
     "text": [
      "one of my fave  baru nyoba tapi langsung jadi favorite deh  wajah bener2 bersih dan keset  halus dan ga kering  kalo malem bersihin pake ini trus water mask nya  besok pagi kulit enak bangeett  harga masih oke pula\n",
      "bau nya enak banget  aku suka  rosey gitu tapi ga terlalu kuat  dia lembut  ga bikin muka kering tapi tetep besih jadi ga bikin break out  pass aja sayangnya satu  mahal uhuuuuy  jadi make nya disayang sayang\n"
     ]
    }
   ],
   "source": [
    "def clean_non_alphanumeric(text):\n",
    "    # Define a regex pattern to match @USER format\n",
    "    user_pattern = re.compile(r'@USER')\n",
    "    \n",
    "    # Split the text by spaces to handle each word separately\n",
    "    words = text.split()\n",
    "    \n",
    "    # Initialize a list to hold the cleaned words\n",
    "    cleaned_words = []\n",
    "    \n",
    "    # Loop through each word in the text\n",
    "    for word in words:\n",
    "        # If the word matches @USER, add it as is\n",
    "        if user_pattern.fullmatch(word):\n",
    "            cleaned_words.append(word)\n",
    "        else:\n",
    "            # Define a regex pattern to match non-alphanumeric characters\n",
    "            pattern = re.compile(r'[\\W_]+')  # Matches any non-alphanumeric character or underscore\n",
    "            # Replace non-alphanumeric characters with a space\n",
    "            cleaned_word = re.sub(pattern, ' ', word)\n",
    "            cleaned_words.append(cleaned_word)\n",
    "    \n",
    "    # Join the cleaned words back into a single string with spaces\n",
    "    cleaned_text = ' '.join(cleaned_words)\n",
    "    return cleaned_text\n",
    "\n",
    "def clean_text(text):\n",
    "    # Define regex pattern to match unwanted unicode characters\n",
    "    pattern = re.compile(r'[^\\x00-\\x7F]+')  # Matches any non-ASCII characters\n",
    "\n",
    "    # Use sub() method to remove unwanted characters\n",
    "    cleaned_text = re.sub(pattern, '', text)\n",
    "    \n",
    "    return cleaned_text\n",
    "\n",
    "def preprocess_text(text):\n",
    "    # Remove \"RT @username:\" at the beginning of the text\n",
    "    if isinstance(text, bytes):\n",
    "        try:\n",
    "            text = text.decode('utf-8')\n",
    "        except UnicodeDecodeError:\n",
    "            text = text.decode('latin-1')\n",
    "\n",
    "    text = re.sub(r'^RT ', '', text)\n",
    "    text = re.sub(r'\\[.*?\\]', '', text)\n",
    "    # Remove URLs\n",
    "    \n",
    "\n",
    "    # Remove emojis and other non-ASCII symbols\n",
    "    text = emoji.demojize(text)\n",
    "\n",
    "    # Convert to lowercase\n",
    "    text = text.lower()\n",
    "    text = re.sub(r'https?://\\S+', 'HTTPURL', text)\n",
    "    text = clean_text(text)\n",
    "    # Remove hashtags along with their content (words starting with # followed by alphanumeric characters)\n",
    "    text = re.sub(r'#\\w+', '', text)\n",
    "\n",
    "    # Remove mentions (words starting with @ followed by alphanumeric characters)\n",
    "    text = re.sub(r'@\\S+', '@USER', text)\n",
    "\n",
    "    # Remove non-alphanumeric characters including remaining symbols\n",
    "    text = clean_non_alphanumeric(text)\n",
    "\n",
    "    # Remove leading and trailing spaces\n",
    "    text = text.strip()\n",
    "\n",
    "    return text\n",
    "\n",
    "\n",
    "# Example usage\n",
    "texts = [\n",
    "    \"One of my fave.. baru nyoba tapi langsung jadi favorite deh.. wajah bener2 bersih dan keset, halus dan ga kering. Kalo malem bersihin pake ini trus water mask nya, besok pagi kulit enak bangeett.. harga masih oke pula..\",\n",
    "    \"Bau nya enak banget, aku suka.. rosey gitu tapi ga terlalu kuat.. Dia lembut, ga bikin muka kering tapi tetep besih jadi ga bikin break out.. pass aja sayangnya satu.. mahal uhuuuuy.. jadi make nya disayang sayang\"\n",
    "]\n",
    "\n",
    "processed_text = [preprocess_text(text) for text in texts]\n",
    "for text in processed_text:\n",
    "    print(text)"
   ]
  },
  {
   "cell_type": "code",
   "execution_count": 5,
   "id": "21833d82",
   "metadata": {
    "execution": {
     "iopub.execute_input": "2025-10-07T18:03:22.788205Z",
     "iopub.status.busy": "2025-10-07T18:03:22.788013Z",
     "iopub.status.idle": "2025-10-07T18:03:22.810713Z",
     "shell.execute_reply": "2025-10-07T18:03:22.810151Z"
    },
    "papermill": {
     "duration": 0.030679,
     "end_time": "2025-10-07T18:03:22.812145",
     "exception": false,
     "start_time": "2025-10-07T18:03:22.781466",
     "status": "completed"
    },
    "tags": []
   },
   "outputs": [],
   "source": [
    "train = pd.read_csv('/kaggle/input/dataset-facialwash/dataset (3).csv', delimiter=',')"
   ]
  },
  {
   "cell_type": "code",
   "execution_count": 6,
   "id": "0921d93d",
   "metadata": {
    "execution": {
     "iopub.execute_input": "2025-10-07T18:03:22.824675Z",
     "iopub.status.busy": "2025-10-07T18:03:22.824481Z",
     "iopub.status.idle": "2025-10-07T18:03:22.838256Z",
     "shell.execute_reply": "2025-10-07T18:03:22.837737Z"
    },
    "papermill": {
     "duration": 0.021373,
     "end_time": "2025-10-07T18:03:22.839354",
     "exception": false,
     "start_time": "2025-10-07T18:03:22.817981",
     "status": "completed"
    },
    "tags": []
   },
   "outputs": [
    {
     "data": {
      "text/html": [
       "<div>\n",
       "<style scoped>\n",
       "    .dataframe tbody tr th:only-of-type {\n",
       "        vertical-align: middle;\n",
       "    }\n",
       "\n",
       "    .dataframe tbody tr th {\n",
       "        vertical-align: top;\n",
       "    }\n",
       "\n",
       "    .dataframe thead th {\n",
       "        text-align: right;\n",
       "    }\n",
       "</style>\n",
       "<table border=\"1\" class=\"dataframe\">\n",
       "  <thead>\n",
       "    <tr style=\"text-align: right;\">\n",
       "      <th></th>\n",
       "      <th>ID Data</th>\n",
       "      <th>Nama Produk</th>\n",
       "      <th>Jenis Kulit</th>\n",
       "      <th>Review Produk</th>\n",
       "      <th>Rating</th>\n",
       "      <th>Label</th>\n",
       "    </tr>\n",
       "  </thead>\n",
       "  <tbody>\n",
       "    <tr>\n",
       "      <th>0</th>\n",
       "      <td>A001</td>\n",
       "      <td>Cetaphil: Gentle Skin Cleanser</td>\n",
       "      <td>Oily</td>\n",
       "      <td>Aku suka banget sama ini. Cuma ini cleanser ya...</td>\n",
       "      <td>5</td>\n",
       "      <td>Positive</td>\n",
       "    </tr>\n",
       "    <tr>\n",
       "      <th>1</th>\n",
       "      <td>A002</td>\n",
       "      <td>Cetaphil: Gentle Skin Cleanser</td>\n",
       "      <td>Oily</td>\n",
       "      <td>Walaupun produknya mengklaim dapat digunakan s...</td>\n",
       "      <td>5</td>\n",
       "      <td>Positive</td>\n",
       "    </tr>\n",
       "    <tr>\n",
       "      <th>2</th>\n",
       "      <td>A003</td>\n",
       "      <td>Cetaphil: Gentle Skin Cleanser</td>\n",
       "      <td>Dry</td>\n",
       "      <td>Thanks God for this product. Produk ini udah p...</td>\n",
       "      <td>5</td>\n",
       "      <td>Positive</td>\n",
       "    </tr>\n",
       "    <tr>\n",
       "      <th>3</th>\n",
       "      <td>A004</td>\n",
       "      <td>Cetaphil: Gentle Skin Cleanser</td>\n",
       "      <td>Oily</td>\n",
       "      <td>Another favorite product from Cetaphil. Seneng...</td>\n",
       "      <td>5</td>\n",
       "      <td>Positive</td>\n",
       "    </tr>\n",
       "    <tr>\n",
       "      <th>4</th>\n",
       "      <td>A005</td>\n",
       "      <td>Cetaphil: Gentle Skin Cleanser</td>\n",
       "      <td>Oily</td>\n",
       "      <td>awalnya kaget karena cleanser ini enggak berbu...</td>\n",
       "      <td>5</td>\n",
       "      <td>Positive</td>\n",
       "    </tr>\n",
       "    <tr>\n",
       "      <th>...</th>\n",
       "      <td>...</td>\n",
       "      <td>...</td>\n",
       "      <td>...</td>\n",
       "      <td>...</td>\n",
       "      <td>...</td>\n",
       "      <td>...</td>\n",
       "    </tr>\n",
       "    <tr>\n",
       "      <th>495</th>\n",
       "      <td>A496</td>\n",
       "      <td>Acnes: Creamy Wash</td>\n",
       "      <td>Dry</td>\n",
       "      <td>Aku beli ini karna baca blog female daily 3 cl...</td>\n",
       "      <td>1</td>\n",
       "      <td>Negative</td>\n",
       "    </tr>\n",
       "    <tr>\n",
       "      <th>496</th>\n",
       "      <td>A497</td>\n",
       "      <td>Acnes: Creamy Wash</td>\n",
       "      <td>Dry</td>\n",
       "      <td>aku pake ini udh ngabisin 1 botol, saat aku je...</td>\n",
       "      <td>1</td>\n",
       "      <td>Negative</td>\n",
       "    </tr>\n",
       "    <tr>\n",
       "      <th>497</th>\n",
       "      <td>A498</td>\n",
       "      <td>Acnes: Creamy Wash</td>\n",
       "      <td>Dry</td>\n",
       "      <td>Facial Wash yg aku beli pas awal2 mulai jerawa...</td>\n",
       "      <td>1</td>\n",
       "      <td>Negative</td>\n",
       "    </tr>\n",
       "    <tr>\n",
       "      <th>498</th>\n",
       "      <td>A499</td>\n",
       "      <td>Acnes: Creamy Wash</td>\n",
       "      <td>Dry</td>\n",
       "      <td>Aku pernah beli ini dengan harapan bisa bantu ...</td>\n",
       "      <td>1</td>\n",
       "      <td>Negative</td>\n",
       "    </tr>\n",
       "    <tr>\n",
       "      <th>499</th>\n",
       "      <td>A500</td>\n",
       "      <td>Acnes: Creamy Wash</td>\n",
       "      <td>Dry</td>\n",
       "      <td>Beli ini waktu awal kuliah pas banyak jerawat....</td>\n",
       "      <td>1</td>\n",
       "      <td>Negative</td>\n",
       "    </tr>\n",
       "  </tbody>\n",
       "</table>\n",
       "<p>500 rows × 6 columns</p>\n",
       "</div>"
      ],
      "text/plain": [
       "    ID Data                     Nama Produk Jenis Kulit  \\\n",
       "0      A001  Cetaphil: Gentle Skin Cleanser        Oily   \n",
       "1      A002  Cetaphil: Gentle Skin Cleanser        Oily   \n",
       "2      A003  Cetaphil: Gentle Skin Cleanser         Dry   \n",
       "3      A004  Cetaphil: Gentle Skin Cleanser        Oily   \n",
       "4      A005  Cetaphil: Gentle Skin Cleanser        Oily   \n",
       "..      ...                             ...         ...   \n",
       "495    A496              Acnes: Creamy Wash         Dry   \n",
       "496    A497              Acnes: Creamy Wash         Dry   \n",
       "497    A498              Acnes: Creamy Wash         Dry   \n",
       "498    A499              Acnes: Creamy Wash         Dry   \n",
       "499    A500              Acnes: Creamy Wash         Dry   \n",
       "\n",
       "                                         Review Produk  Rating     Label  \n",
       "0    Aku suka banget sama ini. Cuma ini cleanser ya...       5  Positive  \n",
       "1    Walaupun produknya mengklaim dapat digunakan s...       5  Positive  \n",
       "2    Thanks God for this product. Produk ini udah p...       5  Positive  \n",
       "3    Another favorite product from Cetaphil. Seneng...       5  Positive  \n",
       "4    awalnya kaget karena cleanser ini enggak berbu...       5  Positive  \n",
       "..                                                 ...     ...       ...  \n",
       "495  Aku beli ini karna baca blog female daily 3 cl...       1  Negative  \n",
       "496  aku pake ini udh ngabisin 1 botol, saat aku je...       1  Negative  \n",
       "497  Facial Wash yg aku beli pas awal2 mulai jerawa...       1  Negative  \n",
       "498  Aku pernah beli ini dengan harapan bisa bantu ...       1  Negative  \n",
       "499  Beli ini waktu awal kuliah pas banyak jerawat....       1  Negative  \n",
       "\n",
       "[500 rows x 6 columns]"
      ]
     },
     "execution_count": 6,
     "metadata": {},
     "output_type": "execute_result"
    }
   ],
   "source": [
    "train"
   ]
  },
  {
   "cell_type": "code",
   "execution_count": 7,
   "id": "6b290f37",
   "metadata": {
    "execution": {
     "iopub.execute_input": "2025-10-07T18:03:22.852089Z",
     "iopub.status.busy": "2025-10-07T18:03:22.851901Z",
     "iopub.status.idle": "2025-10-07T18:03:22.860267Z",
     "shell.execute_reply": "2025-10-07T18:03:22.859746Z"
    },
    "papermill": {
     "duration": 0.016095,
     "end_time": "2025-10-07T18:03:22.861380",
     "exception": false,
     "start_time": "2025-10-07T18:03:22.845285",
     "status": "completed"
    },
    "tags": []
   },
   "outputs": [
    {
     "name": "stdout",
     "output_type": "stream",
     "text": [
      "Jumlah Data Duplikat:  0\n"
     ]
    },
    {
     "data": {
      "text/html": [
       "<div>\n",
       "<style scoped>\n",
       "    .dataframe tbody tr th:only-of-type {\n",
       "        vertical-align: middle;\n",
       "    }\n",
       "\n",
       "    .dataframe tbody tr th {\n",
       "        vertical-align: top;\n",
       "    }\n",
       "\n",
       "    .dataframe thead th {\n",
       "        text-align: right;\n",
       "    }\n",
       "</style>\n",
       "<table border=\"1\" class=\"dataframe\">\n",
       "  <thead>\n",
       "    <tr style=\"text-align: right;\">\n",
       "      <th></th>\n",
       "      <th>ID Data</th>\n",
       "      <th>Nama Produk</th>\n",
       "      <th>Jenis Kulit</th>\n",
       "      <th>Review Produk</th>\n",
       "      <th>Rating</th>\n",
       "      <th>Label</th>\n",
       "    </tr>\n",
       "  </thead>\n",
       "  <tbody>\n",
       "  </tbody>\n",
       "</table>\n",
       "</div>"
      ],
      "text/plain": [
       "Empty DataFrame\n",
       "Columns: [ID Data, Nama Produk, Jenis Kulit, Review Produk, Rating, Label]\n",
       "Index: []"
      ]
     },
     "execution_count": 7,
     "metadata": {},
     "output_type": "execute_result"
    }
   ],
   "source": [
    "print('Jumlah Data Duplikat: ', train.duplicated().sum())\n",
    "train[train.duplicated() == True]"
   ]
  },
  {
   "cell_type": "code",
   "execution_count": 8,
   "id": "8af18384",
   "metadata": {
    "execution": {
     "iopub.execute_input": "2025-10-07T18:03:22.874401Z",
     "iopub.status.busy": "2025-10-07T18:03:22.874227Z",
     "iopub.status.idle": "2025-10-07T18:03:22.878019Z",
     "shell.execute_reply": "2025-10-07T18:03:22.877425Z"
    },
    "papermill": {
     "duration": 0.011676,
     "end_time": "2025-10-07T18:03:22.879124",
     "exception": false,
     "start_time": "2025-10-07T18:03:22.867448",
     "status": "completed"
    },
    "tags": []
   },
   "outputs": [
    {
     "name": "stdout",
     "output_type": "stream",
     "text": [
      "Jumlah Data Kosong:\n",
      " ID Data          0\n",
      "Nama Produk      0\n",
      "Jenis Kulit      0\n",
      "Review Produk    0\n",
      "Rating           0\n",
      "Label            0\n",
      "dtype: int64\n"
     ]
    }
   ],
   "source": [
    "# Informasi Missing Value\n",
    "print('Jumlah Data Kosong:\\n',train.isna().sum())"
   ]
  },
  {
   "cell_type": "code",
   "execution_count": 9,
   "id": "239a9546",
   "metadata": {
    "execution": {
     "iopub.execute_input": "2025-10-07T18:03:22.892438Z",
     "iopub.status.busy": "2025-10-07T18:03:22.892253Z",
     "iopub.status.idle": "2025-10-07T18:03:22.897065Z",
     "shell.execute_reply": "2025-10-07T18:03:22.896527Z"
    },
    "papermill": {
     "duration": 0.012667,
     "end_time": "2025-10-07T18:03:22.898134",
     "exception": false,
     "start_time": "2025-10-07T18:03:22.885467",
     "status": "completed"
    },
    "tags": []
   },
   "outputs": [
    {
     "name": "stdout",
     "output_type": "stream",
     "text": [
      "Jumlah Awal Data:  500\n",
      "Jumlah Setelah Bebas Duplikat:  500\n"
     ]
    }
   ],
   "source": [
    "print('Jumlah Awal Data: ', train.shape[0])\n",
    "train.drop_duplicates(inplace=True)\n",
    "print('Jumlah Setelah Bebas Duplikat: ', train.shape[0])"
   ]
  },
  {
   "cell_type": "code",
   "execution_count": 10,
   "id": "75dfbe8d",
   "metadata": {
    "execution": {
     "iopub.execute_input": "2025-10-07T18:03:22.911608Z",
     "iopub.status.busy": "2025-10-07T18:03:22.911423Z",
     "iopub.status.idle": "2025-10-07T18:03:23.116332Z",
     "shell.execute_reply": "2025-10-07T18:03:23.115750Z"
    },
    "papermill": {
     "duration": 0.212978,
     "end_time": "2025-10-07T18:03:23.117563",
     "exception": false,
     "start_time": "2025-10-07T18:03:22.904585",
     "status": "completed"
    },
    "tags": []
   },
   "outputs": [
    {
     "data": {
      "text/html": [
       "<div>\n",
       "<style scoped>\n",
       "    .dataframe tbody tr th:only-of-type {\n",
       "        vertical-align: middle;\n",
       "    }\n",
       "\n",
       "    .dataframe tbody tr th {\n",
       "        vertical-align: top;\n",
       "    }\n",
       "\n",
       "    .dataframe thead th {\n",
       "        text-align: right;\n",
       "    }\n",
       "</style>\n",
       "<table border=\"1\" class=\"dataframe\">\n",
       "  <thead>\n",
       "    <tr style=\"text-align: right;\">\n",
       "      <th></th>\n",
       "      <th>ID Data</th>\n",
       "      <th>Nama Produk</th>\n",
       "      <th>Jenis Kulit</th>\n",
       "      <th>Review Produk</th>\n",
       "      <th>Rating</th>\n",
       "      <th>Label</th>\n",
       "      <th>processed_text</th>\n",
       "    </tr>\n",
       "  </thead>\n",
       "  <tbody>\n",
       "    <tr>\n",
       "      <th>0</th>\n",
       "      <td>A001</td>\n",
       "      <td>Cetaphil: Gentle Skin Cleanser</td>\n",
       "      <td>Oily</td>\n",
       "      <td>Aku suka banget sama ini. Cuma ini cleanser ya...</td>\n",
       "      <td>5</td>\n",
       "      <td>Positive</td>\n",
       "      <td>aku suka banget sama ini  cuma ini cleanser ya...</td>\n",
       "    </tr>\n",
       "    <tr>\n",
       "      <th>1</th>\n",
       "      <td>A002</td>\n",
       "      <td>Cetaphil: Gentle Skin Cleanser</td>\n",
       "      <td>Oily</td>\n",
       "      <td>Walaupun produknya mengklaim dapat digunakan s...</td>\n",
       "      <td>5</td>\n",
       "      <td>Positive</td>\n",
       "      <td>walaupun produknya mengklaim dapat digunakan s...</td>\n",
       "    </tr>\n",
       "    <tr>\n",
       "      <th>2</th>\n",
       "      <td>A003</td>\n",
       "      <td>Cetaphil: Gentle Skin Cleanser</td>\n",
       "      <td>Dry</td>\n",
       "      <td>Thanks God for this product. Produk ini udah p...</td>\n",
       "      <td>5</td>\n",
       "      <td>Positive</td>\n",
       "      <td>thanks god for this product  produk ini udah p...</td>\n",
       "    </tr>\n",
       "    <tr>\n",
       "      <th>3</th>\n",
       "      <td>A004</td>\n",
       "      <td>Cetaphil: Gentle Skin Cleanser</td>\n",
       "      <td>Oily</td>\n",
       "      <td>Another favorite product from Cetaphil. Seneng...</td>\n",
       "      <td>5</td>\n",
       "      <td>Positive</td>\n",
       "      <td>another favorite product from cetaphil  seneng...</td>\n",
       "    </tr>\n",
       "    <tr>\n",
       "      <th>4</th>\n",
       "      <td>A005</td>\n",
       "      <td>Cetaphil: Gentle Skin Cleanser</td>\n",
       "      <td>Oily</td>\n",
       "      <td>awalnya kaget karena cleanser ini enggak berbu...</td>\n",
       "      <td>5</td>\n",
       "      <td>Positive</td>\n",
       "      <td>awalnya kaget karena cleanser ini enggak berbu...</td>\n",
       "    </tr>\n",
       "  </tbody>\n",
       "</table>\n",
       "</div>"
      ],
      "text/plain": [
       "  ID Data                     Nama Produk Jenis Kulit  \\\n",
       "0    A001  Cetaphil: Gentle Skin Cleanser        Oily   \n",
       "1    A002  Cetaphil: Gentle Skin Cleanser        Oily   \n",
       "2    A003  Cetaphil: Gentle Skin Cleanser         Dry   \n",
       "3    A004  Cetaphil: Gentle Skin Cleanser        Oily   \n",
       "4    A005  Cetaphil: Gentle Skin Cleanser        Oily   \n",
       "\n",
       "                                       Review Produk  Rating     Label  \\\n",
       "0  Aku suka banget sama ini. Cuma ini cleanser ya...       5  Positive   \n",
       "1  Walaupun produknya mengklaim dapat digunakan s...       5  Positive   \n",
       "2  Thanks God for this product. Produk ini udah p...       5  Positive   \n",
       "3  Another favorite product from Cetaphil. Seneng...       5  Positive   \n",
       "4  awalnya kaget karena cleanser ini enggak berbu...       5  Positive   \n",
       "\n",
       "                                      processed_text  \n",
       "0  aku suka banget sama ini  cuma ini cleanser ya...  \n",
       "1  walaupun produknya mengklaim dapat digunakan s...  \n",
       "2  thanks god for this product  produk ini udah p...  \n",
       "3  another favorite product from cetaphil  seneng...  \n",
       "4  awalnya kaget karena cleanser ini enggak berbu...  "
      ]
     },
     "execution_count": 10,
     "metadata": {},
     "output_type": "execute_result"
    }
   ],
   "source": [
    "train['processed_text'] = train['Review Produk'].apply(preprocess_text)\n",
    "train.head()  "
   ]
  },
  {
   "cell_type": "code",
   "execution_count": 11,
   "id": "08a3de7b",
   "metadata": {
    "execution": {
     "iopub.execute_input": "2025-10-07T18:03:23.131145Z",
     "iopub.status.busy": "2025-10-07T18:03:23.130953Z",
     "iopub.status.idle": "2025-10-07T18:03:23.135385Z",
     "shell.execute_reply": "2025-10-07T18:03:23.134813Z"
    },
    "papermill": {
     "duration": 0.012853,
     "end_time": "2025-10-07T18:03:23.136775",
     "exception": false,
     "start_time": "2025-10-07T18:03:23.123922",
     "status": "completed"
    },
    "tags": []
   },
   "outputs": [
    {
     "data": {
      "text/plain": [
       "Label\n",
       "Positive    250\n",
       "Negative    250\n",
       "Name: count, dtype: int64"
      ]
     },
     "execution_count": 11,
     "metadata": {},
     "output_type": "execute_result"
    }
   ],
   "source": [
    "train.Label.value_counts()"
   ]
  },
  {
   "cell_type": "code",
   "execution_count": 12,
   "id": "b20181b9",
   "metadata": {
    "execution": {
     "iopub.execute_input": "2025-10-07T18:03:23.150385Z",
     "iopub.status.busy": "2025-10-07T18:03:23.150217Z",
     "iopub.status.idle": "2025-10-07T18:03:23.153300Z",
     "shell.execute_reply": "2025-10-07T18:03:23.152729Z"
    },
    "papermill": {
     "duration": 0.011198,
     "end_time": "2025-10-07T18:03:23.154376",
     "exception": false,
     "start_time": "2025-10-07T18:03:23.143178",
     "status": "completed"
    },
    "tags": []
   },
   "outputs": [],
   "source": [
    "possible_labels = train.Label.unique()"
   ]
  },
  {
   "cell_type": "code",
   "execution_count": 13,
   "id": "3cf83d07",
   "metadata": {
    "execution": {
     "iopub.execute_input": "2025-10-07T18:03:23.168080Z",
     "iopub.status.busy": "2025-10-07T18:03:23.167888Z",
     "iopub.status.idle": "2025-10-07T18:03:23.170858Z",
     "shell.execute_reply": "2025-10-07T18:03:23.170255Z"
    },
    "papermill": {
     "duration": 0.011154,
     "end_time": "2025-10-07T18:03:23.171986",
     "exception": false,
     "start_time": "2025-10-07T18:03:23.160832",
     "status": "completed"
    },
    "tags": []
   },
   "outputs": [],
   "source": [
    "possible_labels = sorted(possible_labels)"
   ]
  },
  {
   "cell_type": "code",
   "execution_count": 14,
   "id": "2dfd6b60",
   "metadata": {
    "execution": {
     "iopub.execute_input": "2025-10-07T18:03:23.186291Z",
     "iopub.status.busy": "2025-10-07T18:03:23.186097Z",
     "iopub.status.idle": "2025-10-07T18:03:23.189995Z",
     "shell.execute_reply": "2025-10-07T18:03:23.189355Z"
    },
    "papermill": {
     "duration": 0.012859,
     "end_time": "2025-10-07T18:03:23.191248",
     "exception": false,
     "start_time": "2025-10-07T18:03:23.178389",
     "status": "completed"
    },
    "tags": []
   },
   "outputs": [
    {
     "data": {
      "text/plain": [
       "['Negative', 'Positive']"
      ]
     },
     "execution_count": 14,
     "metadata": {},
     "output_type": "execute_result"
    }
   ],
   "source": [
    "possible_labels"
   ]
  },
  {
   "cell_type": "code",
   "execution_count": 15,
   "id": "410eccce",
   "metadata": {
    "execution": {
     "iopub.execute_input": "2025-10-07T18:03:23.206256Z",
     "iopub.status.busy": "2025-10-07T18:03:23.206072Z",
     "iopub.status.idle": "2025-10-07T18:03:23.209033Z",
     "shell.execute_reply": "2025-10-07T18:03:23.208523Z"
    },
    "papermill": {
     "duration": 0.011856,
     "end_time": "2025-10-07T18:03:23.210167",
     "exception": false,
     "start_time": "2025-10-07T18:03:23.198311",
     "status": "completed"
    },
    "tags": []
   },
   "outputs": [],
   "source": [
    "label_dict = {}\n",
    "for index, possible_label in enumerate(possible_labels):\n",
    "    label_dict[possible_label] = index"
   ]
  },
  {
   "cell_type": "code",
   "execution_count": 16,
   "id": "6ddcf23e",
   "metadata": {
    "execution": {
     "iopub.execute_input": "2025-10-07T18:03:23.225158Z",
     "iopub.status.busy": "2025-10-07T18:03:23.224964Z",
     "iopub.status.idle": "2025-10-07T18:03:23.228809Z",
     "shell.execute_reply": "2025-10-07T18:03:23.228242Z"
    },
    "papermill": {
     "duration": 0.012891,
     "end_time": "2025-10-07T18:03:23.230015",
     "exception": false,
     "start_time": "2025-10-07T18:03:23.217124",
     "status": "completed"
    },
    "tags": []
   },
   "outputs": [
    {
     "data": {
      "text/plain": [
       "{'Negative': 0, 'Positive': 1}"
      ]
     },
     "execution_count": 16,
     "metadata": {},
     "output_type": "execute_result"
    }
   ],
   "source": [
    "label_dict"
   ]
  },
  {
   "cell_type": "code",
   "execution_count": 17,
   "id": "7b68c4cf",
   "metadata": {
    "execution": {
     "iopub.execute_input": "2025-10-07T18:03:23.244528Z",
     "iopub.status.busy": "2025-10-07T18:03:23.244347Z",
     "iopub.status.idle": "2025-10-07T18:03:23.247651Z",
     "shell.execute_reply": "2025-10-07T18:03:23.247141Z"
    },
    "papermill": {
     "duration": 0.01188,
     "end_time": "2025-10-07T18:03:23.248791",
     "exception": false,
     "start_time": "2025-10-07T18:03:23.236911",
     "status": "completed"
    },
    "tags": []
   },
   "outputs": [],
   "source": [
    "train.Label = train['Label'].map(label_dict)"
   ]
  },
  {
   "cell_type": "code",
   "execution_count": 18,
   "id": "6dfe6d46",
   "metadata": {
    "execution": {
     "iopub.execute_input": "2025-10-07T18:03:23.262830Z",
     "iopub.status.busy": "2025-10-07T18:03:23.262665Z",
     "iopub.status.idle": "2025-10-07T18:03:23.270110Z",
     "shell.execute_reply": "2025-10-07T18:03:23.269620Z"
    },
    "papermill": {
     "duration": 0.015811,
     "end_time": "2025-10-07T18:03:23.271204",
     "exception": false,
     "start_time": "2025-10-07T18:03:23.255393",
     "status": "completed"
    },
    "tags": []
   },
   "outputs": [
    {
     "data": {
      "text/html": [
       "<div>\n",
       "<style scoped>\n",
       "    .dataframe tbody tr th:only-of-type {\n",
       "        vertical-align: middle;\n",
       "    }\n",
       "\n",
       "    .dataframe tbody tr th {\n",
       "        vertical-align: top;\n",
       "    }\n",
       "\n",
       "    .dataframe thead th {\n",
       "        text-align: right;\n",
       "    }\n",
       "</style>\n",
       "<table border=\"1\" class=\"dataframe\">\n",
       "  <thead>\n",
       "    <tr style=\"text-align: right;\">\n",
       "      <th></th>\n",
       "      <th>ID Data</th>\n",
       "      <th>Nama Produk</th>\n",
       "      <th>Jenis Kulit</th>\n",
       "      <th>Review Produk</th>\n",
       "      <th>Rating</th>\n",
       "      <th>Label</th>\n",
       "      <th>processed_text</th>\n",
       "    </tr>\n",
       "  </thead>\n",
       "  <tbody>\n",
       "    <tr>\n",
       "      <th>0</th>\n",
       "      <td>A001</td>\n",
       "      <td>Cetaphil: Gentle Skin Cleanser</td>\n",
       "      <td>Oily</td>\n",
       "      <td>Aku suka banget sama ini. Cuma ini cleanser ya...</td>\n",
       "      <td>5</td>\n",
       "      <td>1</td>\n",
       "      <td>aku suka banget sama ini  cuma ini cleanser ya...</td>\n",
       "    </tr>\n",
       "    <tr>\n",
       "      <th>1</th>\n",
       "      <td>A002</td>\n",
       "      <td>Cetaphil: Gentle Skin Cleanser</td>\n",
       "      <td>Oily</td>\n",
       "      <td>Walaupun produknya mengklaim dapat digunakan s...</td>\n",
       "      <td>5</td>\n",
       "      <td>1</td>\n",
       "      <td>walaupun produknya mengklaim dapat digunakan s...</td>\n",
       "    </tr>\n",
       "    <tr>\n",
       "      <th>2</th>\n",
       "      <td>A003</td>\n",
       "      <td>Cetaphil: Gentle Skin Cleanser</td>\n",
       "      <td>Dry</td>\n",
       "      <td>Thanks God for this product. Produk ini udah p...</td>\n",
       "      <td>5</td>\n",
       "      <td>1</td>\n",
       "      <td>thanks god for this product  produk ini udah p...</td>\n",
       "    </tr>\n",
       "    <tr>\n",
       "      <th>3</th>\n",
       "      <td>A004</td>\n",
       "      <td>Cetaphil: Gentle Skin Cleanser</td>\n",
       "      <td>Oily</td>\n",
       "      <td>Another favorite product from Cetaphil. Seneng...</td>\n",
       "      <td>5</td>\n",
       "      <td>1</td>\n",
       "      <td>another favorite product from cetaphil  seneng...</td>\n",
       "    </tr>\n",
       "    <tr>\n",
       "      <th>4</th>\n",
       "      <td>A005</td>\n",
       "      <td>Cetaphil: Gentle Skin Cleanser</td>\n",
       "      <td>Oily</td>\n",
       "      <td>awalnya kaget karena cleanser ini enggak berbu...</td>\n",
       "      <td>5</td>\n",
       "      <td>1</td>\n",
       "      <td>awalnya kaget karena cleanser ini enggak berbu...</td>\n",
       "    </tr>\n",
       "    <tr>\n",
       "      <th>...</th>\n",
       "      <td>...</td>\n",
       "      <td>...</td>\n",
       "      <td>...</td>\n",
       "      <td>...</td>\n",
       "      <td>...</td>\n",
       "      <td>...</td>\n",
       "      <td>...</td>\n",
       "    </tr>\n",
       "    <tr>\n",
       "      <th>495</th>\n",
       "      <td>A496</td>\n",
       "      <td>Acnes: Creamy Wash</td>\n",
       "      <td>Dry</td>\n",
       "      <td>Aku beli ini karna baca blog female daily 3 cl...</td>\n",
       "      <td>1</td>\n",
       "      <td>0</td>\n",
       "      <td>aku beli ini karna baca blog female daily 3 cl...</td>\n",
       "    </tr>\n",
       "    <tr>\n",
       "      <th>496</th>\n",
       "      <td>A497</td>\n",
       "      <td>Acnes: Creamy Wash</td>\n",
       "      <td>Dry</td>\n",
       "      <td>aku pake ini udh ngabisin 1 botol, saat aku je...</td>\n",
       "      <td>1</td>\n",
       "      <td>0</td>\n",
       "      <td>aku pake ini udh ngabisin 1 botol  saat aku je...</td>\n",
       "    </tr>\n",
       "    <tr>\n",
       "      <th>497</th>\n",
       "      <td>A498</td>\n",
       "      <td>Acnes: Creamy Wash</td>\n",
       "      <td>Dry</td>\n",
       "      <td>Facial Wash yg aku beli pas awal2 mulai jerawa...</td>\n",
       "      <td>1</td>\n",
       "      <td>0</td>\n",
       "      <td>facial wash yg aku beli pas awal2 mulai jerawa...</td>\n",
       "    </tr>\n",
       "    <tr>\n",
       "      <th>498</th>\n",
       "      <td>A499</td>\n",
       "      <td>Acnes: Creamy Wash</td>\n",
       "      <td>Dry</td>\n",
       "      <td>Aku pernah beli ini dengan harapan bisa bantu ...</td>\n",
       "      <td>1</td>\n",
       "      <td>0</td>\n",
       "      <td>aku pernah beli ini dengan harapan bisa bantu ...</td>\n",
       "    </tr>\n",
       "    <tr>\n",
       "      <th>499</th>\n",
       "      <td>A500</td>\n",
       "      <td>Acnes: Creamy Wash</td>\n",
       "      <td>Dry</td>\n",
       "      <td>Beli ini waktu awal kuliah pas banyak jerawat....</td>\n",
       "      <td>1</td>\n",
       "      <td>0</td>\n",
       "      <td>beli ini waktu awal kuliah pas banyak jerawat ...</td>\n",
       "    </tr>\n",
       "  </tbody>\n",
       "</table>\n",
       "<p>500 rows × 7 columns</p>\n",
       "</div>"
      ],
      "text/plain": [
       "    ID Data                     Nama Produk Jenis Kulit  \\\n",
       "0      A001  Cetaphil: Gentle Skin Cleanser        Oily   \n",
       "1      A002  Cetaphil: Gentle Skin Cleanser        Oily   \n",
       "2      A003  Cetaphil: Gentle Skin Cleanser         Dry   \n",
       "3      A004  Cetaphil: Gentle Skin Cleanser        Oily   \n",
       "4      A005  Cetaphil: Gentle Skin Cleanser        Oily   \n",
       "..      ...                             ...         ...   \n",
       "495    A496              Acnes: Creamy Wash         Dry   \n",
       "496    A497              Acnes: Creamy Wash         Dry   \n",
       "497    A498              Acnes: Creamy Wash         Dry   \n",
       "498    A499              Acnes: Creamy Wash         Dry   \n",
       "499    A500              Acnes: Creamy Wash         Dry   \n",
       "\n",
       "                                         Review Produk  Rating  Label  \\\n",
       "0    Aku suka banget sama ini. Cuma ini cleanser ya...       5      1   \n",
       "1    Walaupun produknya mengklaim dapat digunakan s...       5      1   \n",
       "2    Thanks God for this product. Produk ini udah p...       5      1   \n",
       "3    Another favorite product from Cetaphil. Seneng...       5      1   \n",
       "4    awalnya kaget karena cleanser ini enggak berbu...       5      1   \n",
       "..                                                 ...     ...    ...   \n",
       "495  Aku beli ini karna baca blog female daily 3 cl...       1      0   \n",
       "496  aku pake ini udh ngabisin 1 botol, saat aku je...       1      0   \n",
       "497  Facial Wash yg aku beli pas awal2 mulai jerawa...       1      0   \n",
       "498  Aku pernah beli ini dengan harapan bisa bantu ...       1      0   \n",
       "499  Beli ini waktu awal kuliah pas banyak jerawat....       1      0   \n",
       "\n",
       "                                        processed_text  \n",
       "0    aku suka banget sama ini  cuma ini cleanser ya...  \n",
       "1    walaupun produknya mengklaim dapat digunakan s...  \n",
       "2    thanks god for this product  produk ini udah p...  \n",
       "3    another favorite product from cetaphil  seneng...  \n",
       "4    awalnya kaget karena cleanser ini enggak berbu...  \n",
       "..                                                 ...  \n",
       "495  aku beli ini karna baca blog female daily 3 cl...  \n",
       "496  aku pake ini udh ngabisin 1 botol  saat aku je...  \n",
       "497  facial wash yg aku beli pas awal2 mulai jerawa...  \n",
       "498  aku pernah beli ini dengan harapan bisa bantu ...  \n",
       "499  beli ini waktu awal kuliah pas banyak jerawat ...  \n",
       "\n",
       "[500 rows x 7 columns]"
      ]
     },
     "execution_count": 18,
     "metadata": {},
     "output_type": "execute_result"
    }
   ],
   "source": [
    "train"
   ]
  },
  {
   "cell_type": "code",
   "execution_count": 19,
   "id": "6841a42f",
   "metadata": {
    "execution": {
     "iopub.execute_input": "2025-10-07T18:03:23.309388Z",
     "iopub.status.busy": "2025-10-07T18:03:23.309195Z",
     "iopub.status.idle": "2025-10-07T18:03:23.315322Z",
     "shell.execute_reply": "2025-10-07T18:03:23.314774Z"
    },
    "papermill": {
     "duration": 0.015782,
     "end_time": "2025-10-07T18:03:23.316602",
     "exception": false,
     "start_time": "2025-10-07T18:03:23.300820",
     "status": "completed"
    },
    "tags": []
   },
   "outputs": [],
   "source": [
    "from sklearn.model_selection import train_test_split\n",
    "\n",
    "# Bagi dataset menjadi train+validation (80%) dan test (20%)\n",
    "X_train_val, X_test, y_train_val, y_test = train_test_split(\n",
    "    train['processed_text'].values,\n",
    "    train['Label'].values,\n",
    "    test_size=0.2,\n",
    "    stratify=train['Label'].values,\n",
    "    random_state=42\n",
    ")\n",
    "\n",
    "#  Bagi train+validation menjadi train (70%) dan validation (10%)\n",
    "X_train, X_valid, y_train, y_valid = train_test_split(\n",
    "    X_train_val,\n",
    "    y_train_val,\n",
    "    test_size=0.125,  # 0.125 dari 80% = 10% dari keseluruhan data\n",
    "    stratify=y_train_val,\n",
    "    random_state=42\n",
    ")\n"
   ]
  },
  {
   "cell_type": "code",
   "execution_count": 20,
   "id": "870b86be",
   "metadata": {
    "execution": {
     "iopub.execute_input": "2025-10-07T18:03:23.331733Z",
     "iopub.status.busy": "2025-10-07T18:03:23.331558Z",
     "iopub.status.idle": "2025-10-07T18:03:23.981881Z",
     "shell.execute_reply": "2025-10-07T18:03:23.981389Z"
    },
    "papermill": {
     "duration": 0.659579,
     "end_time": "2025-10-07T18:03:23.983394",
     "exception": false,
     "start_time": "2025-10-07T18:03:23.323815",
     "status": "completed"
    },
    "tags": []
   },
   "outputs": [
    {
     "name": "stderr",
     "output_type": "stream",
     "text": [
      "/usr/local/lib/python3.10/site-packages/huggingface_hub/file_download.py:1132: FutureWarning: `resume_download` is deprecated and will be removed in version 1.0.0. Downloads always resume when possible. If you want to force a new download, use `force_download=True`.\n",
      "  warnings.warn(\n"
     ]
    },
    {
     "name": "stderr",
     "output_type": "stream",
     "text": [
      "The tokenizer class you load from this checkpoint is not the same type as the class this function is called from. It may result in unexpected tokenization. \n",
      "The tokenizer class you load from this checkpoint is 'AlbertTokenizer'. \n",
      "The class this function is called from is 'BertTokenizer'.\n"
     ]
    },
    {
     "name": "stderr",
     "output_type": "stream",
     "text": [
      "The tokenizer class you load from this checkpoint is not the same type as the class this function is called from. It may result in unexpected tokenization. \n",
      "The tokenizer class you load from this checkpoint is 'AlbertTokenizer'. \n",
      "The class this function is called from is 'BertTokenizerFast'.\n"
     ]
    }
   ],
   "source": [
    "from transformers import BertTokenizerFast\n",
    "tokenizer = BertTokenizerFast.from_pretrained(\"indobenchmark/indobert-lite-large-p1\")\n"
   ]
  },
  {
   "cell_type": "code",
   "execution_count": 21,
   "id": "fb157297",
   "metadata": {
    "execution": {
     "iopub.execute_input": "2025-10-07T18:03:23.999175Z",
     "iopub.status.busy": "2025-10-07T18:03:23.998999Z",
     "iopub.status.idle": "2025-10-07T18:03:24.002673Z",
     "shell.execute_reply": "2025-10-07T18:03:24.002221Z"
    },
    "papermill": {
     "duration": 0.012736,
     "end_time": "2025-10-07T18:03:24.003756",
     "exception": false,
     "start_time": "2025-10-07T18:03:23.991020",
     "status": "completed"
    },
    "tags": []
   },
   "outputs": [],
   "source": [
    "def tokenize(data, max_len):\n",
    "    input_ids = []\n",
    "    attention_masks = []\n",
    "    for text in data:\n",
    "        encoded = tokenizer.encode_plus(\n",
    "            text,\n",
    "            add_special_tokens=True,\n",
    "            max_length=max_len,\n",
    "            padding='max_length',\n",
    "            truncation=True,\n",
    "            return_attention_mask=True,\n",
    "            return_tensors='np'\n",
    "        )\n",
    "        input_ids.append(encoded['input_ids'][0])\n",
    "        attention_masks.append(encoded['attention_mask'][0])\n",
    "    \n",
    "    return np.array(input_ids), np.array(attention_masks)"
   ]
  },
  {
   "cell_type": "code",
   "execution_count": 22,
   "id": "e51af544",
   "metadata": {
    "execution": {
     "iopub.execute_input": "2025-10-07T18:03:24.018602Z",
     "iopub.status.busy": "2025-10-07T18:03:24.018378Z",
     "iopub.status.idle": "2025-10-07T18:03:24.136664Z",
     "shell.execute_reply": "2025-10-07T18:03:24.136142Z"
    },
    "papermill": {
     "duration": 0.127425,
     "end_time": "2025-10-07T18:03:24.138151",
     "exception": false,
     "start_time": "2025-10-07T18:03:24.010726",
     "status": "completed"
    },
    "tags": []
   },
   "outputs": [],
   "source": [
    "train_input_ids, train_attention_masks = tokenize(X_train, 128)\n",
    "val_input_ids, val_attention_masks = tokenize(X_valid, 128)\n",
    "test_input_ids, test_attention_masks = tokenize(X_test, 128)"
   ]
  },
  {
   "cell_type": "code",
   "execution_count": 23,
   "id": "d4507c1e",
   "metadata": {
    "execution": {
     "iopub.execute_input": "2025-10-07T18:03:24.153200Z",
     "iopub.status.busy": "2025-10-07T18:03:24.152997Z",
     "iopub.status.idle": "2025-10-07T18:03:24.156836Z",
     "shell.execute_reply": "2025-10-07T18:03:24.156376Z"
    },
    "papermill": {
     "duration": 0.012729,
     "end_time": "2025-10-07T18:03:24.157942",
     "exception": false,
     "start_time": "2025-10-07T18:03:24.145213",
     "status": "completed"
    },
    "tags": []
   },
   "outputs": [],
   "source": [
    "class_weights = compute_class_weight(class_weight=\"balanced\", classes=np.unique(y_train), y=y_train)"
   ]
  },
  {
   "cell_type": "code",
   "execution_count": 24,
   "id": "1c93d5aa",
   "metadata": {
    "execution": {
     "iopub.execute_input": "2025-10-07T18:03:24.173005Z",
     "iopub.status.busy": "2025-10-07T18:03:24.172819Z",
     "iopub.status.idle": "2025-10-07T18:03:24.176275Z",
     "shell.execute_reply": "2025-10-07T18:03:24.175839Z"
    },
    "papermill": {
     "duration": 0.012416,
     "end_time": "2025-10-07T18:03:24.177406",
     "exception": false,
     "start_time": "2025-10-07T18:03:24.164990",
     "status": "completed"
    },
    "tags": []
   },
   "outputs": [
    {
     "data": {
      "text/plain": [
       "array([1., 1.])"
      ]
     },
     "execution_count": 24,
     "metadata": {},
     "output_type": "execute_result"
    }
   ],
   "source": [
    "class_weights"
   ]
  },
  {
   "cell_type": "code",
   "execution_count": 25,
   "id": "29607c7d",
   "metadata": {
    "execution": {
     "iopub.execute_input": "2025-10-07T18:03:24.192685Z",
     "iopub.status.busy": "2025-10-07T18:03:24.192491Z",
     "iopub.status.idle": "2025-10-07T18:03:24.197311Z",
     "shell.execute_reply": "2025-10-07T18:03:24.196878Z"
    },
    "papermill": {
     "duration": 0.013779,
     "end_time": "2025-10-07T18:03:24.198433",
     "exception": false,
     "start_time": "2025-10-07T18:03:24.184654",
     "status": "completed"
    },
    "tags": []
   },
   "outputs": [],
   "source": [
    "ohe = preprocessing.OneHotEncoder()\n",
    "y_train = ohe.fit_transform(y_train.reshape(-1,1)).toarray()\n",
    "y_valid = ohe.transform   (y_valid.reshape(-1,1)).toarray()\n",
    "y_test  = ohe.transform   (y_test .reshape(-1,1)).toarray()\n",
    "\n",
    "# Simpan urutan nama kelas dari OHE agar konsisten di semua laporan/plot\n",
    "class_names = ohe.categories_[0].tolist()\n"
   ]
  },
  {
   "cell_type": "code",
   "execution_count": 26,
   "id": "c5082c61",
   "metadata": {
    "execution": {
     "iopub.execute_input": "2025-10-07T18:03:24.214033Z",
     "iopub.status.busy": "2025-10-07T18:03:24.213854Z",
     "iopub.status.idle": "2025-10-07T18:03:24.217642Z",
     "shell.execute_reply": "2025-10-07T18:03:24.217209Z"
    },
    "papermill": {
     "duration": 0.013062,
     "end_time": "2025-10-07T18:03:24.218878",
     "exception": false,
     "start_time": "2025-10-07T18:03:24.205816",
     "status": "completed"
    },
    "tags": []
   },
   "outputs": [
    {
     "name": "stdout",
     "output_type": "stream",
     "text": [
      "No TPU, fallback to default strategy: Please provide a TPU Name to connect to.\n"
     ]
    }
   ],
   "source": [
    "try:\n",
    "    tpu = tf.distribute.cluster_resolver.TPUClusterResolver()\n",
    "    tf.config.experimental_connect_to_cluster(tpu)\n",
    "    tf.tpu.experimental.initialize_tpu_system(tpu)\n",
    "    strategy = tf.distribute.TPUStrategy(tpu)\n",
    "    print(\"TPU ready.\")\n",
    "except Exception as e:\n",
    "    print(\"No TPU, fallback to default strategy:\", e)\n",
    "    strategy = tf.distribute.get_strategy()\n"
   ]
  },
  {
   "cell_type": "code",
   "execution_count": 27,
   "id": "a79e4f93",
   "metadata": {
    "execution": {
     "iopub.execute_input": "2025-10-07T18:03:24.234297Z",
     "iopub.status.busy": "2025-10-07T18:03:24.234097Z",
     "iopub.status.idle": "2025-10-07T18:03:24.237278Z",
     "shell.execute_reply": "2025-10-07T18:03:24.236844Z"
    },
    "papermill": {
     "duration": 0.012226,
     "end_time": "2025-10-07T18:03:24.238418",
     "exception": false,
     "start_time": "2025-10-07T18:03:24.226192",
     "status": "completed"
    },
    "tags": []
   },
   "outputs": [
    {
     "name": "stdout",
     "output_type": "stream",
     "text": [
      "BertTokenizerFast\n",
      "[2, 1841, 17461, 1144, 972, 3]\n"
     ]
    }
   ],
   "source": [
    "print(tokenizer.__class__.__name__)   # harusnya 'AlbertTokenizerFast'\n",
    "print(tokenizer(\"coba tokenisasi cepat\")[\"input_ids\"][:10])\n"
   ]
  },
  {
   "cell_type": "code",
   "execution_count": 28,
   "id": "7bb816d5",
   "metadata": {
    "execution": {
     "iopub.execute_input": "2025-10-07T18:03:24.254064Z",
     "iopub.status.busy": "2025-10-07T18:03:24.253867Z",
     "iopub.status.idle": "2025-10-07T18:03:24.258364Z",
     "shell.execute_reply": "2025-10-07T18:03:24.257939Z"
    },
    "papermill": {
     "duration": 0.013705,
     "end_time": "2025-10-07T18:03:24.259477",
     "exception": false,
     "start_time": "2025-10-07T18:03:24.245772",
     "status": "completed"
    },
    "tags": []
   },
   "outputs": [],
   "source": [
    "from transformers import TFAlbertModel  # pastikan import ini aktif (bukan di sel yang lain)\n",
    "\n",
    "def create_model(max_len=128):\n",
    "    with strategy.scope():  # ← 'strategy' sesuai Sel 26\n",
    "        bert_model = TFAlbertModel.from_pretrained(\n",
    "            \"indobenchmark/indobert-lite-large-p1\",\n",
    "            from_pt=True\n",
    "        )\n",
    "        opt = tf.keras.optimizers.AdamW(learning_rate=2e-5, weight_decay=1e-2)\n",
    "        loss = tf.keras.losses.CategoricalCrossentropy()\n",
    "        metrics = [tf.keras.metrics.CategoricalAccuracy()]\n",
    "\n",
    "        input_ids       = tf.keras.Input(shape=(max_len,), dtype='int32')\n",
    "        attention_masks = tf.keras.Input(shape=(max_len,), dtype='int32')\n",
    "\n",
    "        outputs    = bert_model(input_ids=input_ids, attention_mask=attention_masks)\n",
    "        embeddings = outputs.pooler_output\n",
    "\n",
    "        x      = tf.keras.layers.Dropout(0.2)(embeddings)\n",
    "        output = tf.keras.layers.Dense(2, activation=\"softmax\")(x)\n",
    "\n",
    "        model = tf.keras.Model([input_ids, attention_masks], output)\n",
    "        model.compile(optimizer=opt, loss=loss, metrics=metrics)\n",
    "    return model\n"
   ]
  },
  {
   "cell_type": "code",
   "execution_count": 29,
   "id": "450f1e30",
   "metadata": {
    "execution": {
     "iopub.execute_input": "2025-10-07T18:03:24.275320Z",
     "iopub.status.busy": "2025-10-07T18:03:24.275063Z",
     "iopub.status.idle": "2025-10-07T18:03:36.955552Z",
     "shell.execute_reply": "2025-10-07T18:03:36.954658Z"
    },
    "papermill": {
     "duration": 12.690225,
     "end_time": "2025-10-07T18:03:36.957068",
     "exception": false,
     "start_time": "2025-10-07T18:03:24.266843",
     "status": "completed"
    },
    "tags": []
   },
   "outputs": [
    {
     "name": "stderr",
     "output_type": "stream",
     "text": [
      "/usr/local/lib/python3.10/site-packages/huggingface_hub/file_download.py:1132: FutureWarning: `resume_download` is deprecated and will be removed in version 1.0.0. Downloads always resume when possible. If you want to force a new download, use `force_download=True`.\n",
      "  warnings.warn(\n"
     ]
    },
    {
     "name": "stderr",
     "output_type": "stream",
     "text": [
      "All PyTorch model weights were used when initializing TFAlbertModel.\n",
      "\n"
     ]
    },
    {
     "name": "stderr",
     "output_type": "stream",
     "text": [
      "All the weights of TFAlbertModel were initialized from the PyTorch model.\n",
      "If your task is similar to the task the model of the checkpoint was trained on, you can already use TFAlbertModel for predictions without further training.\n"
     ]
    },
    {
     "name": "stdout",
     "output_type": "stream",
     "text": [
      "Model: \"model\"\n"
     ]
    },
    {
     "name": "stdout",
     "output_type": "stream",
     "text": [
      "__________________________________________________________________________________________________\n"
     ]
    },
    {
     "name": "stdout",
     "output_type": "stream",
     "text": [
      " Layer (type)                Output Shape                 Param #   Connected to                  \n"
     ]
    },
    {
     "name": "stdout",
     "output_type": "stream",
     "text": [
      "==================================================================================================\n"
     ]
    },
    {
     "name": "stdout",
     "output_type": "stream",
     "text": [
      " input_1 (InputLayer)        [(None, 128)]                0         []                            \n"
     ]
    },
    {
     "name": "stdout",
     "output_type": "stream",
     "text": [
      "                                                                                                  \n"
     ]
    },
    {
     "name": "stdout",
     "output_type": "stream",
     "text": [
      " input_2 (InputLayer)        [(None, 128)]                0         []                            \n"
     ]
    },
    {
     "name": "stdout",
     "output_type": "stream",
     "text": [
      "                                                                                                  \n"
     ]
    },
    {
     "name": "stdout",
     "output_type": "stream",
     "text": [
      " tf_albert_model (TFAlbertM  TFBaseModelOutputWithPooli   1768396   ['input_1[0][0]',             \n"
     ]
    },
    {
     "name": "stdout",
     "output_type": "stream",
     "text": [
      " odel)                       ng(last_hidden_state=(None   8          'input_2[0][0]']             \n"
     ]
    },
    {
     "name": "stdout",
     "output_type": "stream",
     "text": [
      "                             , 128, 1024),                                                        \n"
     ]
    },
    {
     "name": "stdout",
     "output_type": "stream",
     "text": [
      "                              pooler_output=(None, 1024                                           \n"
     ]
    },
    {
     "name": "stdout",
     "output_type": "stream",
     "text": [
      "                             ),                                                                   \n"
     ]
    },
    {
     "name": "stdout",
     "output_type": "stream",
     "text": [
      "                              hidden_states=None, atten                                           \n"
     ]
    },
    {
     "name": "stdout",
     "output_type": "stream",
     "text": [
      "                             tions=None)                                                          \n"
     ]
    },
    {
     "name": "stdout",
     "output_type": "stream",
     "text": [
      "                                                                                                  \n"
     ]
    },
    {
     "name": "stdout",
     "output_type": "stream",
     "text": [
      " dropout_4 (Dropout)         (None, 1024)                 0         ['tf_albert_model[0][1]']     \n"
     ]
    },
    {
     "name": "stdout",
     "output_type": "stream",
     "text": [
      "                                                                                                  \n"
     ]
    },
    {
     "name": "stdout",
     "output_type": "stream",
     "text": [
      " dense (Dense)               (None, 2)                    2050      ['dropout_4[0][0]']           \n"
     ]
    },
    {
     "name": "stdout",
     "output_type": "stream",
     "text": [
      "                                                                                                  \n"
     ]
    },
    {
     "name": "stdout",
     "output_type": "stream",
     "text": [
      "==================================================================================================\n"
     ]
    },
    {
     "name": "stdout",
     "output_type": "stream",
     "text": [
      "Total params: 17686018 (67.47 MB)\n"
     ]
    },
    {
     "name": "stdout",
     "output_type": "stream",
     "text": [
      "Trainable params: 17686018 (67.47 MB)\n"
     ]
    },
    {
     "name": "stdout",
     "output_type": "stream",
     "text": [
      "Non-trainable params: 0 (0.00 Byte)\n"
     ]
    },
    {
     "name": "stdout",
     "output_type": "stream",
     "text": [
      "__________________________________________________________________________________________________\n"
     ]
    }
   ],
   "source": [
    "model = create_model()\n",
    "model.summary()"
   ]
  },
  {
   "cell_type": "code",
   "execution_count": null,
   "id": "aae0ae1e",
   "metadata": {
    "papermill": {
     "duration": 0.008414,
     "end_time": "2025-10-07T18:03:36.974294",
     "exception": false,
     "start_time": "2025-10-07T18:03:36.965880",
     "status": "completed"
    },
    "tags": []
   },
   "outputs": [],
   "source": []
  },
  {
   "cell_type": "code",
   "execution_count": 30,
   "id": "d52c9dce",
   "metadata": {
    "execution": {
     "iopub.execute_input": "2025-10-07T18:03:36.992588Z",
     "iopub.status.busy": "2025-10-07T18:03:36.992295Z",
     "iopub.status.idle": "2025-10-07T18:03:36.995547Z",
     "shell.execute_reply": "2025-10-07T18:03:36.994916Z"
    },
    "papermill": {
     "duration": 0.014056,
     "end_time": "2025-10-07T18:03:36.996723",
     "exception": false,
     "start_time": "2025-10-07T18:03:36.982667",
     "status": "completed"
    },
    "tags": []
   },
   "outputs": [],
   "source": [
    "# CELL 31\n",
    "# reduce_lr = tf.keras.callbacks.ReduceLROnPlateau(\n",
    "#     monitor='val_loss',   # Metric to monitor\n",
    "#     factor=0.1,           # Factor by which the learning rate will be reduced. new_lr = lr * factor\n",
    "#     patience=50,           \n",
    "#     verbose=1             # Verbosity mode.\n",
    "# )"
   ]
  },
  {
   "cell_type": "code",
   "execution_count": 31,
   "id": "048addc1",
   "metadata": {
    "execution": {
     "iopub.execute_input": "2025-10-07T18:03:37.014724Z",
     "iopub.status.busy": "2025-10-07T18:03:37.014543Z",
     "iopub.status.idle": "2025-10-07T18:03:37.017644Z",
     "shell.execute_reply": "2025-10-07T18:03:37.017027Z"
    },
    "papermill": {
     "duration": 0.013754,
     "end_time": "2025-10-07T18:03:37.018840",
     "exception": false,
     "start_time": "2025-10-07T18:03:37.005086",
     "status": "completed"
    },
    "tags": []
   },
   "outputs": [],
   "source": [
    "class_weight = {i: class_weights[i] for i in range(len(class_weights))}"
   ]
  },
  {
   "cell_type": "code",
   "execution_count": 32,
   "id": "43ca2f64",
   "metadata": {
    "execution": {
     "iopub.execute_input": "2025-10-07T18:03:37.036695Z",
     "iopub.status.busy": "2025-10-07T18:03:37.036490Z",
     "iopub.status.idle": "2025-10-07T18:25:24.794508Z",
     "shell.execute_reply": "2025-10-07T18:25:24.793683Z"
    },
    "papermill": {
     "duration": 1307.768598,
     "end_time": "2025-10-07T18:25:24.795814",
     "exception": false,
     "start_time": "2025-10-07T18:03:37.027216",
     "status": "completed"
    },
    "tags": []
   },
   "outputs": [
    {
     "name": "stderr",
     "output_type": "stream",
     "text": [
      "All PyTorch model weights were used when initializing TFAlbertModel.\n",
      "\n"
     ]
    },
    {
     "name": "stderr",
     "output_type": "stream",
     "text": [
      "All the weights of TFAlbertModel were initialized from the PyTorch model.\n",
      "If your task is similar to the task the model of the checkpoint was trained on, you can already use TFAlbertModel for predictions without further training.\n"
     ]
    },
    {
     "name": "stdout",
     "output_type": "stream",
     "text": [
      "Epoch 1/30\n"
     ]
    },
    {
     "name": "stdout",
     "output_type": "stream",
     "text": [
      "\r",
      " 1/11 [=>............................] - ETA: 7:07 - loss: 0.6965 - categorical_accuracy: 0.5625"
     ]
    },
    {
     "name": "stdout",
     "output_type": "stream",
     "text": [
      "\b\b\b\b\b\b\b\b\b\b\b\b\b\b\b\b\b\b\b\b\b\b\b\b\b\b\b\b\b\b\b\b\b\b\b\b\b\b\b\b\b\b\b\b\b\b\b\b\b\b\b\b\b\b\b\b\b\b\b\b\b\b\b\b\b\b\b\b\b\b\b\b\b\b\b\b\b\b\b\b\b\b\b\b\b\b\b\b\b\b\b\b\b\b\b\b\r",
      " 2/11 [====>.........................] - ETA: 1:06 - loss: 0.7647 - categorical_accuracy: 0.5312"
     ]
    },
    {
     "name": "stdout",
     "output_type": "stream",
     "text": [
      "\b\b\b\b\b\b\b\b\b\b\b\b\b\b\b\b\b\b\b\b\b\b\b\b\b\b\b\b\b\b\b\b\b\b\b\b\b\b\b\b\b\b\b\b\b\b\b\b\b\b\b\b\b\b\b\b\b\b\b\b\b\b\b\b\b\b\b\b\b\b\b\b\b\b\b\b\b\b\b\b\b\b\b\b\b\b\b\b\b\b\b\b\b\b\b\b\r",
      " 3/11 [=======>......................] - ETA: 58s - loss: 0.7327 - categorical_accuracy: 0.5521 "
     ]
    },
    {
     "name": "stdout",
     "output_type": "stream",
     "text": [
      "\b\b\b\b\b\b\b\b\b\b\b\b\b\b\b\b\b\b\b\b\b\b\b\b\b\b\b\b\b\b\b\b\b\b\b\b\b\b\b\b\b\b\b\b\b\b\b\b\b\b\b\b\b\b\b\b\b\b\b\b\b\b\b\b\b\b\b\b\b\b\b\b\b\b\b\b\b\b\b\b\b\b\b\b\b\b\b\b\b\b\b\b\b\b\b\r",
      " 4/11 [=========>....................] - ETA: 52s - loss: 0.7268 - categorical_accuracy: 0.5234"
     ]
    },
    {
     "name": "stdout",
     "output_type": "stream",
     "text": [
      "\b\b\b\b\b\b\b\b\b\b\b\b\b\b\b\b\b\b\b\b\b\b\b\b\b\b\b\b\b\b\b\b\b\b\b\b\b\b\b\b\b\b\b\b\b\b\b\b\b\b\b\b\b\b\b\b\b\b\b\b\b\b\b\b\b\b\b\b\b\b\b\b\b\b\b\b\b\b\b\b\b\b\b\b\b\b\b\b\b\b\b\b\b\b\b\r",
      " 5/11 [============>.................] - ETA: 44s - loss: 0.7084 - categorical_accuracy: 0.5437"
     ]
    },
    {
     "name": "stdout",
     "output_type": "stream",
     "text": [
      "\b\b\b\b\b\b\b\b\b\b\b\b\b\b\b\b\b\b\b\b\b\b\b\b\b\b\b\b\b\b\b\b\b\b\b\b\b\b\b\b\b\b\b\b\b\b\b\b\b\b\b\b\b\b\b\b\b\b\b\b\b\b\b\b\b\b\b\b\b\b\b\b\b\b\b\b\b\b\b\b\b\b\b\b\b\b\b\b\b\b\b\b\b\b\b\r",
      " 6/11 [===============>..............] - ETA: 37s - loss: 0.7055 - categorical_accuracy: 0.5573"
     ]
    },
    {
     "name": "stdout",
     "output_type": "stream",
     "text": [
      "\b\b\b\b\b\b\b\b\b\b\b\b\b\b\b\b\b\b\b\b\b\b\b\b\b\b\b\b\b\b\b\b\b\b\b\b\b\b\b\b\b\b\b\b\b\b\b\b\b\b\b\b\b\b\b\b\b\b\b\b\b\b\b\b\b\b\b\b\b\b\b\b\b\b\b\b\b\b\b\b\b\b\b\b\b\b\b\b\b\b\b\b\b\b\b\r",
      " 7/11 [==================>...........] - ETA: 29s - loss: 0.7173 - categorical_accuracy: 0.5312"
     ]
    },
    {
     "name": "stdout",
     "output_type": "stream",
     "text": [
      "\b\b\b\b\b\b\b\b\b\b\b\b\b\b\b\b\b\b\b\b\b\b\b\b\b\b\b\b\b\b\b\b\b\b\b\b\b\b\b\b\b\b\b\b\b\b\b\b\b\b\b\b\b\b\b\b\b\b\b\b\b\b\b\b\b\b\b\b\b\b\b\b\b\b\b\b\b\b\b\b\b\b\b\b\b\b\b\b\b\b\b\b\b\b\b\r",
      " 8/11 [====================>.........] - ETA: 22s - loss: 0.7237 - categorical_accuracy: 0.5078"
     ]
    },
    {
     "name": "stdout",
     "output_type": "stream",
     "text": [
      "\b\b\b\b\b\b\b\b\b\b\b\b\b\b\b\b\b\b\b\b\b\b\b\b\b\b\b\b\b\b\b\b\b\b\b\b\b\b\b\b\b\b\b\b\b\b\b\b\b\b\b\b\b\b\b\b\b\b\b\b\b\b\b\b\b\b\b\b\b\b\b\b\b\b\b\b\b\b\b\b\b\b\b\b\b\b\b\b\b\b\b\b\b\b\b\r",
      " 9/11 [=======================>......] - ETA: 14s - loss: 0.7211 - categorical_accuracy: 0.5000"
     ]
    },
    {
     "name": "stdout",
     "output_type": "stream",
     "text": [
      "\b\b\b\b\b\b\b\b\b\b\b\b\b\b\b\b\b\b\b\b\b\b\b\b\b\b\b\b\b\b\b\b\b\b\b\b\b\b\b\b\b\b\b\b\b\b\b\b\b\b\b\b\b\b\b\b\b\b\b\b\b\b\b\b\b\b\b\b\b\b\b\b\b\b\b\b\b\b\b\b\b\b\b\b\b\b\b\b\b\b\b\b\b\b\b\r",
      "10/11 [==========================>...] - ETA: 7s - loss: 0.7184 - categorical_accuracy: 0.5063 "
     ]
    },
    {
     "name": "stdout",
     "output_type": "stream",
     "text": [
      "\b\b\b\b\b\b\b\b\b\b\b\b\b\b\b\b\b\b\b\b\b\b\b\b\b\b\b\b\b\b\b\b\b\b\b\b\b\b\b\b\b\b\b\b\b\b\b\b\b\b\b\b\b\b\b\b\b\b\b\b\b\b\b\b\b\b\b\b\b\b\b\b\b\b\b\b\b\b\b\b\b\b\b\b\b\b\b\b\b\b\b\b\b\b\r",
      "11/11 [==============================] - ETA: 0s - loss: 0.7167 - categorical_accuracy: 0.5171"
     ]
    },
    {
     "name": "stdout",
     "output_type": "stream",
     "text": [
      "\b\b\b\b\b\b\b\b\b\b\b\b\b\b\b\b\b\b\b\b\b\b\b\b\b\b\b\b\b\b\b\b\b\b\b\b\b\b\b\b\b\b\b\b\b\b\b\b\b\b\b\b\b\b\b\b\b\b\b\b\b\b\b\b\b\b\b\b\b\b\b\b\b\b\b\b\b\b\b\b\b\b\b\b\b\b\b\b\b\b\b\b\b\b\r",
      "11/11 [==============================] - 130s 9s/step - loss: 0.7167 - categorical_accuracy: 0.5171 - val_loss: 0.6793 - val_categorical_accuracy: 0.5000 - lr: 2.0000e-05\n"
     ]
    },
    {
     "name": "stdout",
     "output_type": "stream",
     "text": [
      "Epoch 2/30\n"
     ]
    },
    {
     "name": "stdout",
     "output_type": "stream",
     "text": [
      "\r",
      " 1/11 [=>............................] - ETA: 1:13 - loss: 0.7064 - categorical_accuracy: 0.5625"
     ]
    },
    {
     "name": "stdout",
     "output_type": "stream",
     "text": [
      "\b\b\b\b\b\b\b\b\b\b\b\b\b\b\b\b\b\b\b\b\b\b\b\b\b\b\b\b\b\b\b\b\b\b\b\b\b\b\b\b\b\b\b\b\b\b\b\b\b\b\b\b\b\b\b\b\b\b\b\b\b\b\b\b\b\b\b\b\b\b\b\b\b\b\b\b\b\b\b\b\b\b\b\b\b\b\b\b\b\b\b\b\b\b\b\b\r",
      " 2/11 [====>.........................] - ETA: 1:06 - loss: 0.6833 - categorical_accuracy: 0.5469"
     ]
    },
    {
     "name": "stdout",
     "output_type": "stream",
     "text": [
      "\b\b\b\b\b\b\b\b\b\b\b\b\b\b\b\b\b\b\b\b\b\b\b\b\b\b\b\b\b\b\b\b\b\b\b\b\b\b\b\b\b\b\b\b\b\b\b\b\b\b\b\b\b\b\b\b\b\b\b\b\b\b\b\b\b\b\b\b\b\b\b\b\b\b\b\b\b\b\b\b\b\b\b\b\b\b\b\b\b\b\b\b\b\b\b\b\r",
      " 3/11 [=======>......................] - ETA: 58s - loss: 0.6721 - categorical_accuracy: 0.5312 "
     ]
    },
    {
     "name": "stdout",
     "output_type": "stream",
     "text": [
      "\b\b\b\b\b\b\b\b\b\b\b\b\b\b\b\b\b\b\b\b\b\b\b\b\b\b\b\b\b\b\b\b\b\b\b\b\b\b\b\b\b\b\b\b\b\b\b\b\b\b\b\b\b\b\b\b\b\b\b\b\b\b\b\b\b\b\b\b\b\b\b\b\b\b\b\b\b\b\b\b\b\b\b\b\b\b\b\b\b\b\b\b\b\b\b\r",
      " 4/11 [=========>....................] - ETA: 51s - loss: 0.6728 - categorical_accuracy: 0.5391"
     ]
    },
    {
     "name": "stdout",
     "output_type": "stream",
     "text": [
      "\b\b\b\b\b\b\b\b\b\b\b\b\b\b\b\b\b\b\b\b\b\b\b\b\b\b\b\b\b\b\b\b\b\b\b\b\b\b\b\b\b\b\b\b\b\b\b\b\b\b\b\b\b\b\b\b\b\b\b\b\b\b\b\b\b\b\b\b\b\b\b\b\b\b\b\b\b\b\b\b\b\b\b\b\b\b\b\b\b\b\b\b\b\b\b\r",
      " 5/11 [============>.................] - ETA: 44s - loss: 0.6515 - categorical_accuracy: 0.6062"
     ]
    },
    {
     "name": "stdout",
     "output_type": "stream",
     "text": [
      "\b\b\b\b\b\b\b\b\b\b\b\b\b\b\b\b\b\b\b\b\b\b\b\b\b\b\b\b\b\b\b\b\b\b\b\b\b\b\b\b\b\b\b\b\b\b\b\b\b\b\b\b\b\b\b\b\b\b\b\b\b\b\b\b\b\b\b\b\b\b\b\b\b\b\b\b\b\b\b\b\b\b\b\b\b\b\b\b\b\b\b\b\b\b\b\r",
      " 6/11 [===============>..............] - ETA: 36s - loss: 0.6385 - categorical_accuracy: 0.6250"
     ]
    },
    {
     "name": "stdout",
     "output_type": "stream",
     "text": [
      "\b\b\b\b\b\b\b\b\b\b\b\b\b\b\b\b\b\b\b\b\b\b\b\b\b\b\b\b\b\b\b\b\b\b\b\b\b\b\b\b\b\b\b\b\b\b\b\b\b\b\b\b\b\b\b\b\b\b\b\b\b\b\b\b\b\b\b\b\b\b\b\b\b\b\b\b\b\b\b\b\b\b\b\b\b\b\b\b\b\b\b\b\b\b\b\r",
      " 7/11 [==================>...........] - ETA: 29s - loss: 0.6239 - categorical_accuracy: 0.6562"
     ]
    },
    {
     "name": "stdout",
     "output_type": "stream",
     "text": [
      "\b\b\b\b\b\b\b\b\b\b\b\b\b\b\b\b\b\b\b\b\b\b\b\b\b\b\b\b\b\b\b\b\b\b\b\b\b\b\b\b\b\b\b\b\b\b\b\b\b\b\b\b\b\b\b\b\b\b\b\b\b\b\b\b\b\b\b\b\b\b\b\b\b\b\b\b\b\b\b\b\b\b\b\b\b\b\b\b\b\b\b\b\b\b\b\r",
      " 8/11 [====================>.........] - ETA: 22s - loss: 0.6259 - categorical_accuracy: 0.6562"
     ]
    },
    {
     "name": "stdout",
     "output_type": "stream",
     "text": [
      "\b\b\b\b\b\b\b\b\b\b\b\b\b\b\b\b\b\b\b\b\b\b\b\b\b\b\b\b\b\b\b\b\b\b\b\b\b\b\b\b\b\b\b\b\b\b\b\b\b\b\b\b\b\b\b\b\b\b\b\b\b\b\b\b\b\b\b\b\b\b\b\b\b\b\b\b\b\b\b\b\b\b\b\b\b\b\b\b\b\b\b\b\b\b\b\r",
      " 9/11 [=======================>......] - ETA: 14s - loss: 0.6008 - categorical_accuracy: 0.6736"
     ]
    },
    {
     "name": "stdout",
     "output_type": "stream",
     "text": [
      "\b\b\b\b\b\b\b\b\b\b\b\b\b\b\b\b\b\b\b\b\b\b\b\b\b\b\b\b\b\b\b\b\b\b\b\b\b\b\b\b\b\b\b\b\b\b\b\b\b\b\b\b\b\b\b\b\b\b\b\b\b\b\b\b\b\b\b\b\b\b\b\b\b\b\b\b\b\b\b\b\b\b\b\b\b\b\b\b\b\b\b\b\b\b\b\r",
      "10/11 [==========================>...] - ETA: 7s - loss: 0.5815 - categorical_accuracy: 0.6906 "
     ]
    },
    {
     "name": "stdout",
     "output_type": "stream",
     "text": [
      "\b\b\b\b\b\b\b\b\b\b\b\b\b\b\b\b\b\b\b\b\b\b\b\b\b\b\b\b\b\b\b\b\b\b\b\b\b\b\b\b\b\b\b\b\b\b\b\b\b\b\b\b\b\b\b\b\b\b\b\b\b\b\b\b\b\b\b\b\b\b\b\b\b\b\b\b\b\b\b\b\b\b\b\b\b\b\b\b\b\b\b\b\b\b\r",
      "11/11 [==============================] - ETA: 0s - loss: 0.5796 - categorical_accuracy: 0.6943"
     ]
    },
    {
     "name": "stdout",
     "output_type": "stream",
     "text": [
      "\b\b\b\b\b\b\b\b\b\b\b\b\b\b\b\b\b\b\b\b\b\b\b\b\b\b\b\b\b\b\b\b\b\b\b\b\b\b\b\b\b\b\b\b\b\b\b\b\b\b\b\b\b\b\b\b\b\b\b\b\b\b\b\b\b\b\b\b\b\b\b\b\b\b\b\b\b\b\b\b\b\b\b\b\b\b\b\b\b\b\b\b\b\b\r",
      "11/11 [==============================] - 85s 8s/step - loss: 0.5796 - categorical_accuracy: 0.6943 - val_loss: 0.4892 - val_categorical_accuracy: 0.7600 - lr: 2.0000e-05\n"
     ]
    },
    {
     "name": "stdout",
     "output_type": "stream",
     "text": [
      "Epoch 3/30\n"
     ]
    },
    {
     "name": "stdout",
     "output_type": "stream",
     "text": [
      "\r",
      " 1/11 [=>............................] - ETA: 1:12 - loss: 0.5489 - categorical_accuracy: 0.7812"
     ]
    },
    {
     "name": "stdout",
     "output_type": "stream",
     "text": [
      "\b\b\b\b\b\b\b\b\b\b\b\b\b\b\b\b\b\b\b\b\b\b\b\b\b\b\b\b\b\b\b\b\b\b\b\b\b\b\b\b\b\b\b\b\b\b\b\b\b\b\b\b\b\b\b\b\b\b\b\b\b\b\b\b\b\b\b\b\b\b\b\b\b\b\b\b\b\b\b\b\b\b\b\b\b\b\b\b\b\b\b\b\b\b\b\b\r",
      " 2/11 [====>.........................] - ETA: 1:04 - loss: 0.5178 - categorical_accuracy: 0.7812"
     ]
    },
    {
     "name": "stdout",
     "output_type": "stream",
     "text": [
      "\b\b\b\b\b\b\b\b\b\b\b\b\b\b\b\b\b\b\b\b\b\b\b\b\b\b\b\b\b\b\b\b\b\b\b\b\b\b\b\b\b\b\b\b\b\b\b\b\b\b\b\b\b\b\b\b\b\b\b\b\b\b\b\b\b\b\b\b\b\b\b\b\b\b\b\b\b\b\b\b\b\b\b\b\b\b\b\b\b\b\b\b\b\b\b\b\r",
      " 3/11 [=======>......................] - ETA: 57s - loss: 0.4629 - categorical_accuracy: 0.7917 "
     ]
    },
    {
     "name": "stdout",
     "output_type": "stream",
     "text": [
      "\b\b\b\b\b\b\b\b\b\b\b\b\b\b\b\b\b\b\b\b\b\b\b\b\b\b\b\b\b\b\b\b\b\b\b\b\b\b\b\b\b\b\b\b\b\b\b\b\b\b\b\b\b\b\b\b\b\b\b\b\b\b\b\b\b\b\b\b\b\b\b\b\b\b\b\b\b\b\b\b\b\b\b\b\b\b\b\b\b\b\b\b\b\b\b\r",
      " 4/11 [=========>....................] - ETA: 49s - loss: 0.4646 - categorical_accuracy: 0.8047"
     ]
    },
    {
     "name": "stdout",
     "output_type": "stream",
     "text": [
      "\b\b\b\b\b\b\b\b\b\b\b\b\b\b\b\b\b\b\b\b\b\b\b\b\b\b\b\b\b\b\b\b\b\b\b\b\b\b\b\b\b\b\b\b\b\b\b\b\b\b\b\b\b\b\b\b\b\b\b\b\b\b\b\b\b\b\b\b\b\b\b\b\b\b\b\b\b\b\b\b\b\b\b\b\b\b\b\b\b\b\b\b\b\b\b\r",
      " 5/11 [============>.................] - ETA: 42s - loss: 0.4207 - categorical_accuracy: 0.8250"
     ]
    },
    {
     "name": "stdout",
     "output_type": "stream",
     "text": [
      "\b\b\b\b\b\b\b\b\b\b\b\b\b\b\b\b\b\b\b\b\b\b\b\b\b\b\b\b\b\b\b\b\b\b\b\b\b\b\b\b\b\b\b\b\b\b\b\b\b\b\b\b\b\b\b\b\b\b\b\b\b\b\b\b\b\b\b\b\b\b\b\b\b\b\b\b\b\b\b\b\b\b\b\b\b\b\b\b\b\b\b\b\b\b\b\r",
      " 6/11 [===============>..............] - ETA: 35s - loss: 0.3801 - categorical_accuracy: 0.8490"
     ]
    },
    {
     "name": "stdout",
     "output_type": "stream",
     "text": [
      "\b\b\b\b\b\b\b\b\b\b\b\b\b\b\b\b\b\b\b\b\b\b\b\b\b\b\b\b\b\b\b\b\b\b\b\b\b\b\b\b\b\b\b\b\b\b\b\b\b\b\b\b\b\b\b\b\b\b\b\b\b\b\b\b\b\b\b\b\b\b\b\b\b\b\b\b\b\b\b\b\b\b\b\b\b\b\b\b\b\b\b\b\b\b\b\r",
      " 7/11 [==================>...........] - ETA: 28s - loss: 0.3893 - categorical_accuracy: 0.8527"
     ]
    },
    {
     "name": "stdout",
     "output_type": "stream",
     "text": [
      "\b\b\b\b\b\b\b\b\b\b\b\b\b\b\b\b\b\b\b\b\b\b\b\b\b\b\b\b\b\b\b\b\b\b\b\b\b\b\b\b\b\b\b\b\b\b\b\b\b\b\b\b\b\b\b\b\b\b\b\b\b\b\b\b\b\b\b\b\b\b\b\b\b\b\b\b\b\b\b\b\b\b\b\b\b\b\b\b\b\b\b\b\b\b\b\r",
      " 8/11 [====================>.........] - ETA: 21s - loss: 0.3709 - categorical_accuracy: 0.8594"
     ]
    },
    {
     "name": "stdout",
     "output_type": "stream",
     "text": [
      "\b\b\b\b\b\b\b\b\b\b\b\b\b\b\b\b\b\b\b\b\b\b\b\b\b\b\b\b\b\b\b\b\b\b\b\b\b\b\b\b\b\b\b\b\b\b\b\b\b\b\b\b\b\b\b\b\b\b\b\b\b\b\b\b\b\b\b\b\b\b\b\b\b\b\b\b\b\b\b\b\b\b\b\b\b\b\b\b\b\b\b\b\b\b\b\r",
      " 9/11 [=======================>......] - ETA: 14s - loss: 0.3639 - categorical_accuracy: 0.8646"
     ]
    },
    {
     "name": "stdout",
     "output_type": "stream",
     "text": [
      "\b\b\b\b\b\b\b\b\b\b\b\b\b\b\b\b\b\b\b\b\b\b\b\b\b\b\b\b\b\b\b\b\b\b\b\b\b\b\b\b\b\b\b\b\b\b\b\b\b\b\b\b\b\b\b\b\b\b\b\b\b\b\b\b\b\b\b\b\b\b\b\b\b\b\b\b\b\b\b\b\b\b\b\b\b\b\b\b\b\b\b\b\b\b\b\r",
      "10/11 [==========================>...] - ETA: 7s - loss: 0.3698 - categorical_accuracy: 0.8625 "
     ]
    },
    {
     "name": "stdout",
     "output_type": "stream",
     "text": [
      "\b\b\b\b\b\b\b\b\b\b\b\b\b\b\b\b\b\b\b\b\b\b\b\b\b\b\b\b\b\b\b\b\b\b\b\b\b\b\b\b\b\b\b\b\b\b\b\b\b\b\b\b\b\b\b\b\b\b\b\b\b\b\b\b\b\b\b\b\b\b\b\b\b\b\b\b\b\b\b\b\b\b\b\b\b\b\b\b\b\b\b\b\b\b\r",
      "11/11 [==============================] - ETA: 0s - loss: 0.3543 - categorical_accuracy: 0.8686"
     ]
    },
    {
     "name": "stdout",
     "output_type": "stream",
     "text": [
      "\b\b\b\b\b\b\b\b\b\b\b\b\b\b\b\b\b\b\b\b\b\b\b\b\b\b\b\b\b\b\b\b\b\b\b\b\b\b\b\b\b\b\b\b\b\b\b\b\b\b\b\b\b\b\b\b\b\b\b\b\b\b\b\b\b\b\b\b\b\b\b\b\b\b\b\b\b\b\b\b\b\b\b\b\b\b\b\b\b\b\b\b\b\b\r",
      "11/11 [==============================] - 84s 8s/step - loss: 0.3543 - categorical_accuracy: 0.8686 - val_loss: 0.3037 - val_categorical_accuracy: 0.9000 - lr: 2.0000e-05\n"
     ]
    },
    {
     "name": "stdout",
     "output_type": "stream",
     "text": [
      "Epoch 4/30\n"
     ]
    },
    {
     "name": "stdout",
     "output_type": "stream",
     "text": [
      "\r",
      " 1/11 [=>............................] - ETA: 1:11 - loss: 0.2385 - categorical_accuracy: 0.9375"
     ]
    },
    {
     "name": "stdout",
     "output_type": "stream",
     "text": [
      "\b\b\b\b\b\b\b\b\b\b\b\b\b\b\b\b\b\b\b\b\b\b\b\b\b\b\b\b\b\b\b\b\b\b\b\b\b\b\b\b\b\b\b\b\b\b\b\b\b\b\b\b\b\b\b\b\b\b\b\b\b\b\b\b\b\b\b\b\b\b\b\b\b\b\b\b\b\b\b\b\b\b\b\b\b\b\b\b\b\b\b\b\b\b\b\b\r",
      " 2/11 [====>.........................] - ETA: 1:04 - loss: 0.2036 - categorical_accuracy: 0.9531"
     ]
    },
    {
     "name": "stdout",
     "output_type": "stream",
     "text": [
      "\b\b\b\b\b\b\b\b\b\b\b\b\b\b\b\b\b\b\b\b\b\b\b\b\b\b\b\b\b\b\b\b\b\b\b\b\b\b\b\b\b\b\b\b\b\b\b\b\b\b\b\b\b\b\b\b\b\b\b\b\b\b\b\b\b\b\b\b\b\b\b\b\b\b\b\b\b\b\b\b\b\b\b\b\b\b\b\b\b\b\b\b\b\b\b\b\r",
      " 3/11 [=======>......................] - ETA: 57s - loss: 0.1851 - categorical_accuracy: 0.9583 "
     ]
    },
    {
     "name": "stdout",
     "output_type": "stream",
     "text": [
      "\b\b\b\b\b\b\b\b\b\b\b\b\b\b\b\b\b\b\b\b\b\b\b\b\b\b\b\b\b\b\b\b\b\b\b\b\b\b\b\b\b\b\b\b\b\b\b\b\b\b\b\b\b\b\b\b\b\b\b\b\b\b\b\b\b\b\b\b\b\b\b\b\b\b\b\b\b\b\b\b\b\b\b\b\b\b\b\b\b\b\b\b\b\b\b\r",
      " 4/11 [=========>....................] - ETA: 50s - loss: 0.2127 - categorical_accuracy: 0.9375"
     ]
    },
    {
     "name": "stdout",
     "output_type": "stream",
     "text": [
      "\b\b\b\b\b\b\b\b\b\b\b\b\b\b\b\b\b\b\b\b\b\b\b\b\b\b\b\b\b\b\b\b\b\b\b\b\b\b\b\b\b\b\b\b\b\b\b\b\b\b\b\b\b\b\b\b\b\b\b\b\b\b\b\b\b\b\b\b\b\b\b\b\b\b\b\b\b\b\b\b\b\b\b\b\b\b\b\b\b\b\b\b\b\b\b\r",
      " 5/11 [============>.................] - ETA: 43s - loss: 0.2048 - categorical_accuracy: 0.9312"
     ]
    },
    {
     "name": "stdout",
     "output_type": "stream",
     "text": [
      "\b\b\b\b\b\b\b\b\b\b\b\b\b\b\b\b\b\b\b\b\b\b\b\b\b\b\b\b\b\b\b\b\b\b\b\b\b\b\b\b\b\b\b\b\b\b\b\b\b\b\b\b\b\b\b\b\b\b\b\b\b\b\b\b\b\b\b\b\b\b\b\b\b\b\b\b\b\b\b\b\b\b\b\b\b\b\b\b\b\b\b\b\b\b\b\r",
      " 6/11 [===============>..............] - ETA: 36s - loss: 0.1947 - categorical_accuracy: 0.9323"
     ]
    },
    {
     "name": "stdout",
     "output_type": "stream",
     "text": [
      "\b\b\b\b\b\b\b\b\b\b\b\b\b\b\b\b\b\b\b\b\b\b\b\b\b\b\b\b\b\b\b\b\b\b\b\b\b\b\b\b\b\b\b\b\b\b\b\b\b\b\b\b\b\b\b\b\b\b\b\b\b\b\b\b\b\b\b\b\b\b\b\b\b\b\b\b\b\b\b\b\b\b\b\b\b\b\b\b\b\b\b\b\b\b\b\r",
      " 7/11 [==================>...........] - ETA: 28s - loss: 0.1800 - categorical_accuracy: 0.9375"
     ]
    },
    {
     "name": "stdout",
     "output_type": "stream",
     "text": [
      "\b\b\b\b\b\b\b\b\b\b\b\b\b\b\b\b\b\b\b\b\b\b\b\b\b\b\b\b\b\b\b\b\b\b\b\b\b\b\b\b\b\b\b\b\b\b\b\b\b\b\b\b\b\b\b\b\b\b\b\b\b\b\b\b\b\b\b\b\b\b\b\b\b\b\b\b\b\b\b\b\b\b\b\b\b\b\b\b\b\b\b\b\b\b\b\r",
      " 8/11 [====================>.........] - ETA: 21s - loss: 0.1872 - categorical_accuracy: 0.9375"
     ]
    },
    {
     "name": "stdout",
     "output_type": "stream",
     "text": [
      "\b\b\b\b\b\b\b\b\b\b\b\b\b\b\b\b\b\b\b\b\b\b\b\b\b\b\b\b\b\b\b\b\b\b\b\b\b\b\b\b\b\b\b\b\b\b\b\b\b\b\b\b\b\b\b\b\b\b\b\b\b\b\b\b\b\b\b\b\b\b\b\b\b\b\b\b\b\b\b\b\b\b\b\b\b\b\b\b\b\b\b\b\b\b\b\r",
      " 9/11 [=======================>......] - ETA: 14s - loss: 0.2015 - categorical_accuracy: 0.9375"
     ]
    },
    {
     "name": "stdout",
     "output_type": "stream",
     "text": [
      "\b\b\b\b\b\b\b\b\b\b\b\b\b\b\b\b\b\b\b\b\b\b\b\b\b\b\b\b\b\b\b\b\b\b\b\b\b\b\b\b\b\b\b\b\b\b\b\b\b\b\b\b\b\b\b\b\b\b\b\b\b\b\b\b\b\b\b\b\b\b\b\b\b\b\b\b\b\b\b\b\b\b\b\b\b\b\b\b\b\b\b\b\b\b\b\r",
      "10/11 [==========================>...] - ETA: 7s - loss: 0.1939 - categorical_accuracy: 0.9406 "
     ]
    },
    {
     "name": "stdout",
     "output_type": "stream",
     "text": [
      "\b\b\b\b\b\b\b\b\b\b\b\b\b\b\b\b\b\b\b\b\b\b\b\b\b\b\b\b\b\b\b\b\b\b\b\b\b\b\b\b\b\b\b\b\b\b\b\b\b\b\b\b\b\b\b\b\b\b\b\b\b\b\b\b\b\b\b\b\b\b\b\b\b\b\b\b\b\b\b\b\b\b\b\b\b\b\b\b\b\b\b\b\b\b\r",
      "11/11 [==============================] - ETA: 0s - loss: 0.1807 - categorical_accuracy: 0.9457"
     ]
    },
    {
     "name": "stdout",
     "output_type": "stream",
     "text": [
      "\b\b\b\b\b\b\b\b\b\b\b\b\b\b\b\b\b\b\b\b\b\b\b\b\b\b\b\b\b\b\b\b\b\b\b\b\b\b\b\b\b\b\b\b\b\b\b\b\b\b\b\b\b\b\b\b\b\b\b\b\b\b\b\b\b\b\b\b\b\b\b\b\b\b\b\b\b\b\b\b\b\b\b\b\b\b\b\b\b\b\b\b\b\b\r",
      "11/11 [==============================] - 83s 8s/step - loss: 0.1807 - categorical_accuracy: 0.9457 - val_loss: 0.2207 - val_categorical_accuracy: 0.9000 - lr: 2.0000e-05\n"
     ]
    },
    {
     "name": "stdout",
     "output_type": "stream",
     "text": [
      "Epoch 5/30\n"
     ]
    },
    {
     "name": "stdout",
     "output_type": "stream",
     "text": [
      "\r",
      " 1/11 [=>............................] - ETA: 1:12 - loss: 0.0509 - categorical_accuracy: 1.0000"
     ]
    },
    {
     "name": "stdout",
     "output_type": "stream",
     "text": [
      "\b\b\b\b\b\b\b\b\b\b\b\b\b\b\b\b\b\b\b\b\b\b\b\b\b\b\b\b\b\b\b\b\b\b\b\b\b\b\b\b\b\b\b\b\b\b\b\b\b\b\b\b\b\b\b\b\b\b\b\b\b\b\b\b\b\b\b\b\b\b\b\b\b\b\b\b\b\b\b\b\b\b\b\b\b\b\b\b\b\b\b\b\b\b\b\b\r",
      " 2/11 [====>.........................] - ETA: 1:07 - loss: 0.1544 - categorical_accuracy: 0.9375"
     ]
    },
    {
     "name": "stdout",
     "output_type": "stream",
     "text": [
      "\b\b\b\b\b\b\b\b\b\b\b\b\b\b\b\b\b\b\b\b\b\b\b\b\b\b\b\b\b\b\b\b\b\b\b\b\b\b\b\b\b\b\b\b\b\b\b\b\b\b\b\b\b\b\b\b\b\b\b\b\b\b\b\b\b\b\b\b\b\b\b\b\b\b\b\b\b\b\b\b\b\b\b\b\b\b\b\b\b\b\b\b\b\b\b\b\r",
      " 3/11 [=======>......................] - ETA: 59s - loss: 0.1197 - categorical_accuracy: 0.9583 "
     ]
    },
    {
     "name": "stdout",
     "output_type": "stream",
     "text": [
      "\b\b\b\b\b\b\b\b\b\b\b\b\b\b\b\b\b\b\b\b\b\b\b\b\b\b\b\b\b\b\b\b\b\b\b\b\b\b\b\b\b\b\b\b\b\b\b\b\b\b\b\b\b\b\b\b\b\b\b\b\b\b\b\b\b\b\b\b\b\b\b\b\b\b\b\b\b\b\b\b\b\b\b\b\b\b\b\b\b\b\b\b\b\b\b\r",
      " 4/11 [=========>....................] - ETA: 51s - loss: 0.1080 - categorical_accuracy: 0.9609"
     ]
    },
    {
     "name": "stdout",
     "output_type": "stream",
     "text": [
      "\b\b\b\b\b\b\b\b\b\b\b\b\b\b\b\b\b\b\b\b\b\b\b\b\b\b\b\b\b\b\b\b\b\b\b\b\b\b\b\b\b\b\b\b\b\b\b\b\b\b\b\b\b\b\b\b\b\b\b\b\b\b\b\b\b\b\b\b\b\b\b\b\b\b\b\b\b\b\b\b\b\b\b\b\b\b\b\b\b\b\b\b\b\b\b\r",
      " 5/11 [============>.................] - ETA: 44s - loss: 0.1389 - categorical_accuracy: 0.9563"
     ]
    },
    {
     "name": "stdout",
     "output_type": "stream",
     "text": [
      "\b\b\b\b\b\b\b\b\b\b\b\b\b\b\b\b\b\b\b\b\b\b\b\b\b\b\b\b\b\b\b\b\b\b\b\b\b\b\b\b\b\b\b\b\b\b\b\b\b\b\b\b\b\b\b\b\b\b\b\b\b\b\b\b\b\b\b\b\b\b\b\b\b\b\b\b\b\b\b\b\b\b\b\b\b\b\b\b\b\b\b\b\b\b\b\r",
      " 6/11 [===============>..............] - ETA: 36s - loss: 0.1475 - categorical_accuracy: 0.9583"
     ]
    },
    {
     "name": "stdout",
     "output_type": "stream",
     "text": [
      "\b\b\b\b\b\b\b\b\b\b\b\b\b\b\b\b\b\b\b\b\b\b\b\b\b\b\b\b\b\b\b\b\b\b\b\b\b\b\b\b\b\b\b\b\b\b\b\b\b\b\b\b\b\b\b\b\b\b\b\b\b\b\b\b\b\b\b\b\b\b\b\b\b\b\b\b\b\b\b\b\b\b\b\b\b\b\b\b\b\b\b\b\b\b\b\r",
      " 7/11 [==================>...........] - ETA: 29s - loss: 0.1285 - categorical_accuracy: 0.9643"
     ]
    },
    {
     "name": "stdout",
     "output_type": "stream",
     "text": [
      "\b\b\b\b\b\b\b\b\b\b\b\b\b\b\b\b\b\b\b\b\b\b\b\b\b\b\b\b\b\b\b\b\b\b\b\b\b\b\b\b\b\b\b\b\b\b\b\b\b\b\b\b\b\b\b\b\b\b\b\b\b\b\b\b\b\b\b\b\b\b\b\b\b\b\b\b\b\b\b\b\b\b\b\b\b\b\b\b\b\b\b\b\b\b\b\r",
      " 8/11 [====================>.........] - ETA: 21s - loss: 0.1350 - categorical_accuracy: 0.9609"
     ]
    },
    {
     "name": "stdout",
     "output_type": "stream",
     "text": [
      "\b\b\b\b\b\b\b\b\b\b\b\b\b\b\b\b\b\b\b\b\b\b\b\b\b\b\b\b\b\b\b\b\b\b\b\b\b\b\b\b\b\b\b\b\b\b\b\b\b\b\b\b\b\b\b\b\b\b\b\b\b\b\b\b\b\b\b\b\b\b\b\b\b\b\b\b\b\b\b\b\b\b\b\b\b\b\b\b\b\b\b\b\b\b\b\r",
      " 9/11 [=======================>......] - ETA: 14s - loss: 0.1336 - categorical_accuracy: 0.9618"
     ]
    },
    {
     "name": "stdout",
     "output_type": "stream",
     "text": [
      "\b\b\b\b\b\b\b\b\b\b\b\b\b\b\b\b\b\b\b\b\b\b\b\b\b\b\b\b\b\b\b\b\b\b\b\b\b\b\b\b\b\b\b\b\b\b\b\b\b\b\b\b\b\b\b\b\b\b\b\b\b\b\b\b\b\b\b\b\b\b\b\b\b\b\b\b\b\b\b\b\b\b\b\b\b\b\b\b\b\b\b\b\b\b\b\r",
      "10/11 [==========================>...] - ETA: 7s - loss: 0.1216 - categorical_accuracy: 0.9656 "
     ]
    },
    {
     "name": "stdout",
     "output_type": "stream",
     "text": [
      "\b\b\b\b\b\b\b\b\b\b\b\b\b\b\b\b\b\b\b\b\b\b\b\b\b\b\b\b\b\b\b\b\b\b\b\b\b\b\b\b\b\b\b\b\b\b\b\b\b\b\b\b\b\b\b\b\b\b\b\b\b\b\b\b\b\b\b\b\b\b\b\b\b\b\b\b\b\b\b\b\b\b\b\b\b\b\b\b\b\b\b\b\b\b\r",
      "11/11 [==============================] - ETA: 0s - loss: 0.1122 - categorical_accuracy: 0.9686"
     ]
    },
    {
     "name": "stdout",
     "output_type": "stream",
     "text": [
      "\b\b\b\b\b\b\b\b\b\b\b\b\b\b\b\b\b\b\b\b\b\b\b\b\b\b\b\b\b\b\b\b\b\b\b\b\b\b\b\b\b\b\b\b\b\b\b\b\b\b\b\b\b\b\b\b\b\b\b\b\b\b\b\b\b\b\b\b\b\b\b\b\b\b\b\b\b\b\b\b\b\b\b\b\b\b\b\b\b\b\b\b\b\b\r",
      "11/11 [==============================] - 84s 8s/step - loss: 0.1122 - categorical_accuracy: 0.9686 - val_loss: 0.2008 - val_categorical_accuracy: 0.9200 - lr: 2.0000e-05\n"
     ]
    },
    {
     "name": "stdout",
     "output_type": "stream",
     "text": [
      "Epoch 6/30\n"
     ]
    },
    {
     "name": "stdout",
     "output_type": "stream",
     "text": [
      "\r",
      " 1/11 [=>............................] - ETA: 1:11 - loss: 0.0077 - categorical_accuracy: 1.0000"
     ]
    },
    {
     "name": "stdout",
     "output_type": "stream",
     "text": [
      "\b\b\b\b\b\b\b\b\b\b\b\b\b\b\b\b\b\b\b\b\b\b\b\b\b\b\b\b\b\b\b\b\b\b\b\b\b\b\b\b\b\b\b\b\b\b\b\b\b\b\b\b\b\b\b\b\b\b\b\b\b\b\b\b\b\b\b\b\b\b\b\b\b\b\b\b\b\b\b\b\b\b\b\b\b\b\b\b\b\b\b\b\b\b\b\b\r",
      " 2/11 [====>.........................] - ETA: 1:06 - loss: 0.0798 - categorical_accuracy: 0.9844"
     ]
    },
    {
     "name": "stdout",
     "output_type": "stream",
     "text": [
      "\b\b\b\b\b\b\b\b\b\b\b\b\b\b\b\b\b\b\b\b\b\b\b\b\b\b\b\b\b\b\b\b\b\b\b\b\b\b\b\b\b\b\b\b\b\b\b\b\b\b\b\b\b\b\b\b\b\b\b\b\b\b\b\b\b\b\b\b\b\b\b\b\b\b\b\b\b\b\b\b\b\b\b\b\b\b\b\b\b\b\b\b\b\b\b\b\r",
      " 3/11 [=======>......................] - ETA: 59s - loss: 0.1007 - categorical_accuracy: 0.9792 "
     ]
    },
    {
     "name": "stdout",
     "output_type": "stream",
     "text": [
      "\b\b\b\b\b\b\b\b\b\b\b\b\b\b\b\b\b\b\b\b\b\b\b\b\b\b\b\b\b\b\b\b\b\b\b\b\b\b\b\b\b\b\b\b\b\b\b\b\b\b\b\b\b\b\b\b\b\b\b\b\b\b\b\b\b\b\b\b\b\b\b\b\b\b\b\b\b\b\b\b\b\b\b\b\b\b\b\b\b\b\b\b\b\b\b\r",
      " 4/11 [=========>....................] - ETA: 51s - loss: 0.0810 - categorical_accuracy: 0.9844"
     ]
    },
    {
     "name": "stdout",
     "output_type": "stream",
     "text": [
      "\b\b\b\b\b\b\b\b\b\b\b\b\b\b\b\b\b\b\b\b\b\b\b\b\b\b\b\b\b\b\b\b\b\b\b\b\b\b\b\b\b\b\b\b\b\b\b\b\b\b\b\b\b\b\b\b\b\b\b\b\b\b\b\b\b\b\b\b\b\b\b\b\b\b\b\b\b\b\b\b\b\b\b\b\b\b\b\b\b\b\b\b\b\b\b\r",
      " 5/11 [============>.................] - ETA: 43s - loss: 0.0662 - categorical_accuracy: 0.9875"
     ]
    },
    {
     "name": "stdout",
     "output_type": "stream",
     "text": [
      "\b\b\b\b\b\b\b\b\b\b\b\b\b\b\b\b\b\b\b\b\b\b\b\b\b\b\b\b\b\b\b\b\b\b\b\b\b\b\b\b\b\b\b\b\b\b\b\b\b\b\b\b\b\b\b\b\b\b\b\b\b\b\b\b\b\b\b\b\b\b\b\b\b\b\b\b\b\b\b\b\b\b\b\b\b\b\b\b\b\b\b\b\b\b\b\r",
      " 6/11 [===============>..............] - ETA: 36s - loss: 0.0569 - categorical_accuracy: 0.9896"
     ]
    },
    {
     "name": "stdout",
     "output_type": "stream",
     "text": [
      "\b\b\b\b\b\b\b\b\b\b\b\b\b\b\b\b\b\b\b\b\b\b\b\b\b\b\b\b\b\b\b\b\b\b\b\b\b\b\b\b\b\b\b\b\b\b\b\b\b\b\b\b\b\b\b\b\b\b\b\b\b\b\b\b\b\b\b\b\b\b\b\b\b\b\b\b\b\b\b\b\b\b\b\b\b\b\b\b\b\b\b\b\b\b\b\r",
      " 7/11 [==================>...........] - ETA: 29s - loss: 0.0495 - categorical_accuracy: 0.9911"
     ]
    },
    {
     "name": "stdout",
     "output_type": "stream",
     "text": [
      "\b\b\b\b\b\b\b\b\b\b\b\b\b\b\b\b\b\b\b\b\b\b\b\b\b\b\b\b\b\b\b\b\b\b\b\b\b\b\b\b\b\b\b\b\b\b\b\b\b\b\b\b\b\b\b\b\b\b\b\b\b\b\b\b\b\b\b\b\b\b\b\b\b\b\b\b\b\b\b\b\b\b\b\b\b\b\b\b\b\b\b\b\b\b\b\r",
      " 8/11 [====================>.........] - ETA: 21s - loss: 0.0458 - categorical_accuracy: 0.9922"
     ]
    },
    {
     "name": "stdout",
     "output_type": "stream",
     "text": [
      "\b\b\b\b\b\b\b\b\b\b\b\b\b\b\b\b\b\b\b\b\b\b\b\b\b\b\b\b\b\b\b\b\b\b\b\b\b\b\b\b\b\b\b\b\b\b\b\b\b\b\b\b\b\b\b\b\b\b\b\b\b\b\b\b\b\b\b\b\b\b\b\b\b\b\b\b\b\b\b\b\b\b\b\b\b\b\b\b\b\b\b\b\b\b\b\r",
      " 9/11 [=======================>......] - ETA: 14s - loss: 0.0414 - categorical_accuracy: 0.9931"
     ]
    },
    {
     "name": "stdout",
     "output_type": "stream",
     "text": [
      "\b\b\b\b\b\b\b\b\b\b\b\b\b\b\b\b\b\b\b\b\b\b\b\b\b\b\b\b\b\b\b\b\b\b\b\b\b\b\b\b\b\b\b\b\b\b\b\b\b\b\b\b\b\b\b\b\b\b\b\b\b\b\b\b\b\b\b\b\b\b\b\b\b\b\b\b\b\b\b\b\b\b\b\b\b\b\b\b\b\b\b\b\b\b\b\r",
      "10/11 [==========================>...] - ETA: 7s - loss: 0.0377 - categorical_accuracy: 0.9937 "
     ]
    },
    {
     "name": "stdout",
     "output_type": "stream",
     "text": [
      "\b\b\b\b\b\b\b\b\b\b\b\b\b\b\b\b\b\b\b\b\b\b\b\b\b\b\b\b\b\b\b\b\b\b\b\b\b\b\b\b\b\b\b\b\b\b\b\b\b\b\b\b\b\b\b\b\b\b\b\b\b\b\b\b\b\b\b\b\b\b\b\b\b\b\b\b\b\b\b\b\b\b\b\b\b\b\b\b\b\b\b\b\b\b\r",
      "11/11 [==============================] - ETA: 0s - loss: 0.0423 - categorical_accuracy: 0.9914"
     ]
    },
    {
     "name": "stdout",
     "output_type": "stream",
     "text": [
      "\b\b\b\b\b\b\b\b\b\b\b\b\b\b\b\b\b\b\b\b\b\b\b\b\b\b\b\b\b\b\b\b\b\b\b\b\b\b\b\b\b\b\b\b\b\b\b\b\b\b\b\b\b\b\b\b\b\b\b\b\b\b\b\b\b\b\b\b\b\b\b\b\b\b\b\b\b\b\b\b\b\b\b\b\b\b\b\b\b\b\b\b\b\b\r",
      "11/11 [==============================] - 84s 8s/step - loss: 0.0423 - categorical_accuracy: 0.9914 - val_loss: 0.3521 - val_categorical_accuracy: 0.9000 - lr: 2.0000e-05\n"
     ]
    },
    {
     "name": "stdout",
     "output_type": "stream",
     "text": [
      "Epoch 7/30\n"
     ]
    },
    {
     "name": "stdout",
     "output_type": "stream",
     "text": [
      "\r",
      " 1/11 [=>............................] - ETA: 1:12 - loss: 0.0116 - categorical_accuracy: 1.0000"
     ]
    },
    {
     "name": "stdout",
     "output_type": "stream",
     "text": [
      "\b\b\b\b\b\b\b\b\b\b\b\b\b\b\b\b\b\b\b\b\b\b\b\b\b\b\b\b\b\b\b\b\b\b\b\b\b\b\b\b\b\b\b\b\b\b\b\b\b\b\b\b\b\b\b\b\b\b\b\b\b\b\b\b\b\b\b\b\b\b\b\b\b\b\b\b\b\b\b\b\b\b\b\b\b\b\b\b\b\b\b\b\b\b\b\b\r",
      " 2/11 [====>.........................] - ETA: 1:04 - loss: 0.1051 - categorical_accuracy: 0.9688"
     ]
    },
    {
     "name": "stdout",
     "output_type": "stream",
     "text": [
      "\b\b\b\b\b\b\b\b\b\b\b\b\b\b\b\b\b\b\b\b\b\b\b\b\b\b\b\b\b\b\b\b\b\b\b\b\b\b\b\b\b\b\b\b\b\b\b\b\b\b\b\b\b\b\b\b\b\b\b\b\b\b\b\b\b\b\b\b\b\b\b\b\b\b\b\b\b\b\b\b\b\b\b\b\b\b\b\b\b\b\b\b\b\b\b\b\r",
      " 3/11 [=======>......................] - ETA: 58s - loss: 0.2090 - categorical_accuracy: 0.9271 "
     ]
    },
    {
     "name": "stdout",
     "output_type": "stream",
     "text": [
      "\b\b\b\b\b\b\b\b\b\b\b\b\b\b\b\b\b\b\b\b\b\b\b\b\b\b\b\b\b\b\b\b\b\b\b\b\b\b\b\b\b\b\b\b\b\b\b\b\b\b\b\b\b\b\b\b\b\b\b\b\b\b\b\b\b\b\b\b\b\b\b\b\b\b\b\b\b\b\b\b\b\b\b\b\b\b\b\b\b\b\b\b\b\b\b\r",
      " 4/11 [=========>....................] - ETA: 50s - loss: 0.1757 - categorical_accuracy: 0.9375"
     ]
    },
    {
     "name": "stdout",
     "output_type": "stream",
     "text": [
      "\b\b\b\b\b\b\b\b\b\b\b\b\b\b\b\b\b\b\b\b\b\b\b\b\b\b\b\b\b\b\b\b\b\b\b\b\b\b\b\b\b\b\b\b\b\b\b\b\b\b\b\b\b\b\b\b\b\b\b\b\b\b\b\b\b\b\b\b\b\b\b\b\b\b\b\b\b\b\b\b\b\b\b\b\b\b\b\b\b\b\b\b\b\b\b\r",
      " 5/11 [============>.................] - ETA: 42s - loss: 0.2673 - categorical_accuracy: 0.9000"
     ]
    },
    {
     "name": "stdout",
     "output_type": "stream",
     "text": [
      "\b\b\b\b\b\b\b\b\b\b\b\b\b\b\b\b\b\b\b\b\b\b\b\b\b\b\b\b\b\b\b\b\b\b\b\b\b\b\b\b\b\b\b\b\b\b\b\b\b\b\b\b\b\b\b\b\b\b\b\b\b\b\b\b\b\b\b\b\b\b\b\b\b\b\b\b\b\b\b\b\b\b\b\b\b\b\b\b\b\b\b\b\b\b\b\r",
      " 6/11 [===============>..............] - ETA: 35s - loss: 0.2263 - categorical_accuracy: 0.9167"
     ]
    },
    {
     "name": "stdout",
     "output_type": "stream",
     "text": [
      "\b\b\b\b\b\b\b\b\b\b\b\b\b\b\b\b\b\b\b\b\b\b\b\b\b\b\b\b\b\b\b\b\b\b\b\b\b\b\b\b\b\b\b\b\b\b\b\b\b\b\b\b\b\b\b\b\b\b\b\b\b\b\b\b\b\b\b\b\b\b\b\b\b\b\b\b\b\b\b\b\b\b\b\b\b\b\b\b\b\b\b\b\b\b\b\r",
      " 7/11 [==================>...........] - ETA: 28s - loss: 0.2086 - categorical_accuracy: 0.9241"
     ]
    },
    {
     "name": "stdout",
     "output_type": "stream",
     "text": [
      "\b\b\b\b\b\b\b\b\b\b\b\b\b\b\b\b\b\b\b\b\b\b\b\b\b\b\b\b\b\b\b\b\b\b\b\b\b\b\b\b\b\b\b\b\b\b\b\b\b\b\b\b\b\b\b\b\b\b\b\b\b\b\b\b\b\b\b\b\b\b\b\b\b\b\b\b\b\b\b\b\b\b\b\b\b\b\b\b\b\b\b\b\b\b\b\r",
      " 8/11 [====================>.........] - ETA: 21s - loss: 0.2054 - categorical_accuracy: 0.9258"
     ]
    },
    {
     "name": "stdout",
     "output_type": "stream",
     "text": [
      "\b\b\b\b\b\b\b\b\b\b\b\b\b\b\b\b\b\b\b\b\b\b\b\b\b\b\b\b\b\b\b\b\b\b\b\b\b\b\b\b\b\b\b\b\b\b\b\b\b\b\b\b\b\b\b\b\b\b\b\b\b\b\b\b\b\b\b\b\b\b\b\b\b\b\b\b\b\b\b\b\b\b\b\b\b\b\b\b\b\b\b\b\b\b\b\r",
      " 9/11 [=======================>......] - ETA: 14s - loss: 0.1845 - categorical_accuracy: 0.9340"
     ]
    },
    {
     "name": "stdout",
     "output_type": "stream",
     "text": [
      "\b\b\b\b\b\b\b\b\b\b\b\b\b\b\b\b\b\b\b\b\b\b\b\b\b\b\b\b\b\b\b\b\b\b\b\b\b\b\b\b\b\b\b\b\b\b\b\b\b\b\b\b\b\b\b\b\b\b\b\b\b\b\b\b\b\b\b\b\b\b\b\b\b\b\b\b\b\b\b\b\b\b\b\b\b\b\b\b\b\b\b\b\b\b\b\r",
      "10/11 [==========================>...] - ETA: 7s - loss: 0.1862 - categorical_accuracy: 0.9344 "
     ]
    },
    {
     "name": "stdout",
     "output_type": "stream",
     "text": [
      "\b\b\b\b\b\b\b\b\b\b\b\b\b\b\b\b\b\b\b\b\b\b\b\b\b\b\b\b\b\b\b\b\b\b\b\b\b\b\b\b\b\b\b\b\b\b\b\b\b\b\b\b\b\b\b\b\b\b\b\b\b\b\b\b\b\b\b\b\b\b\b\b\b\b\b\b\b\b\b\b\b\b\b\b\b\b\b\b\b\b\b\b\b\b\r",
      "11/11 [==============================] - ETA: 0s - loss: 0.1740 - categorical_accuracy: 0.9400"
     ]
    },
    {
     "name": "stdout",
     "output_type": "stream",
     "text": [
      "\b\b\b\b\b\b\b\b\b\b\b\b\b\b\b\b\b\b\b\b\b\b\b\b\b\b\b\b\b\b\b\b\b\b\b\b\b\b\b\b\b\b\b\b\b\b\b\b\b\b\b\b\b\b\b\b\b\b\b\b\b\b\b\b\b\b\b\b\b\b\b\b\b\b\b\b\b\b\b\b\b\b\b\b\b\b\b\b\b\b\b\b\b\b\r",
      "11/11 [==============================] - 83s 8s/step - loss: 0.1740 - categorical_accuracy: 0.9400 - val_loss: 0.3643 - val_categorical_accuracy: 0.9000 - lr: 2.0000e-05\n"
     ]
    },
    {
     "name": "stdout",
     "output_type": "stream",
     "text": [
      "Epoch 8/30\n"
     ]
    },
    {
     "name": "stdout",
     "output_type": "stream",
     "text": [
      "\r",
      " 1/11 [=>............................] - ETA: 1:12 - loss: 0.0466 - categorical_accuracy: 1.0000"
     ]
    },
    {
     "name": "stdout",
     "output_type": "stream",
     "text": [
      "\b\b\b\b\b\b\b\b\b\b\b\b\b\b\b\b\b\b\b\b\b\b\b\b\b\b\b\b\b\b\b\b\b\b\b\b\b\b\b\b\b\b\b\b\b\b\b\b\b\b\b\b\b\b\b\b\b\b\b\b\b\b\b\b\b\b\b\b\b\b\b\b\b\b\b\b\b\b\b\b\b\b\b\b\b\b\b\b\b\b\b\b\b\b\b\b\r",
      " 2/11 [====>.........................] - ETA: 1:06 - loss: 0.0469 - categorical_accuracy: 1.0000"
     ]
    },
    {
     "name": "stdout",
     "output_type": "stream",
     "text": [
      "\b\b\b\b\b\b\b\b\b\b\b\b\b\b\b\b\b\b\b\b\b\b\b\b\b\b\b\b\b\b\b\b\b\b\b\b\b\b\b\b\b\b\b\b\b\b\b\b\b\b\b\b\b\b\b\b\b\b\b\b\b\b\b\b\b\b\b\b\b\b\b\b\b\b\b\b\b\b\b\b\b\b\b\b\b\b\b\b\b\b\b\b\b\b\b\b\r",
      " 3/11 [=======>......................] - ETA: 57s - loss: 0.0535 - categorical_accuracy: 0.9896 "
     ]
    },
    {
     "name": "stdout",
     "output_type": "stream",
     "text": [
      "\b\b\b\b\b\b\b\b\b\b\b\b\b\b\b\b\b\b\b\b\b\b\b\b\b\b\b\b\b\b\b\b\b\b\b\b\b\b\b\b\b\b\b\b\b\b\b\b\b\b\b\b\b\b\b\b\b\b\b\b\b\b\b\b\b\b\b\b\b\b\b\b\b\b\b\b\b\b\b\b\b\b\b\b\b\b\b\b\b\b\b\b\b\b\b\r",
      " 4/11 [=========>....................] - ETA: 50s - loss: 0.0446 - categorical_accuracy: 0.9922"
     ]
    },
    {
     "name": "stdout",
     "output_type": "stream",
     "text": [
      "\b\b\b\b\b\b\b\b\b\b\b\b\b\b\b\b\b\b\b\b\b\b\b\b\b\b\b\b\b\b\b\b\b\b\b\b\b\b\b\b\b\b\b\b\b\b\b\b\b\b\b\b\b\b\b\b\b\b\b\b\b\b\b\b\b\b\b\b\b\b\b\b\b\b\b\b\b\b\b\b\b\b\b\b\b\b\b\b\b\b\b\b\b\b\b\r",
      " 5/11 [============>.................] - ETA: 43s - loss: 0.0410 - categorical_accuracy: 0.9937"
     ]
    },
    {
     "name": "stdout",
     "output_type": "stream",
     "text": [
      "\b\b\b\b\b\b\b\b\b\b\b\b\b\b\b\b\b\b\b\b\b\b\b\b\b\b\b\b\b\b\b\b\b\b\b\b\b\b\b\b\b\b\b\b\b\b\b\b\b\b\b\b\b\b\b\b\b\b\b\b\b\b\b\b\b\b\b\b\b\b\b\b\b\b\b\b\b\b\b\b\b\b\b\b\b\b\b\b\b\b\b\b\b\b\b\r",
      " 6/11 [===============>..............] - ETA: 35s - loss: 0.0376 - categorical_accuracy: 0.9948"
     ]
    },
    {
     "name": "stdout",
     "output_type": "stream",
     "text": [
      "\b\b\b\b\b\b\b\b\b\b\b\b\b\b\b\b\b\b\b\b\b\b\b\b\b\b\b\b\b\b\b\b\b\b\b\b\b\b\b\b\b\b\b\b\b\b\b\b\b\b\b\b\b\b\b\b\b\b\b\b\b\b\b\b\b\b\b\b\b\b\b\b\b\b\b\b\b\b\b\b\b\b\b\b\b\b\b\b\b\b\b\b\b\b\b\r",
      " 7/11 [==================>...........] - ETA: 28s - loss: 0.0359 - categorical_accuracy: 0.9955"
     ]
    },
    {
     "name": "stdout",
     "output_type": "stream",
     "text": [
      "\b\b\b\b\b\b\b\b\b\b\b\b\b\b\b\b\b\b\b\b\b\b\b\b\b\b\b\b\b\b\b\b\b\b\b\b\b\b\b\b\b\b\b\b\b\b\b\b\b\b\b\b\b\b\b\b\b\b\b\b\b\b\b\b\b\b\b\b\b\b\b\b\b\b\b\b\b\b\b\b\b\b\b\b\b\b\b\b\b\b\b\b\b\b\b\r",
      " 8/11 [====================>.........] - ETA: 21s - loss: 0.0390 - categorical_accuracy: 0.9922"
     ]
    },
    {
     "name": "stdout",
     "output_type": "stream",
     "text": [
      "\b\b\b\b\b\b\b\b\b\b\b\b\b\b\b\b\b\b\b\b\b\b\b\b\b\b\b\b\b\b\b\b\b\b\b\b\b\b\b\b\b\b\b\b\b\b\b\b\b\b\b\b\b\b\b\b\b\b\b\b\b\b\b\b\b\b\b\b\b\b\b\b\b\b\b\b\b\b\b\b\b\b\b\b\b\b\b\b\b\b\b\b\b\b\b\r",
      " 9/11 [=======================>......] - ETA: 14s - loss: 0.0658 - categorical_accuracy: 0.9826"
     ]
    },
    {
     "name": "stdout",
     "output_type": "stream",
     "text": [
      "\b\b\b\b\b\b\b\b\b\b\b\b\b\b\b\b\b\b\b\b\b\b\b\b\b\b\b\b\b\b\b\b\b\b\b\b\b\b\b\b\b\b\b\b\b\b\b\b\b\b\b\b\b\b\b\b\b\b\b\b\b\b\b\b\b\b\b\b\b\b\b\b\b\b\b\b\b\b\b\b\b\b\b\b\b\b\b\b\b\b\b\b\b\b\b\r",
      "10/11 [==========================>...] - ETA: 7s - loss: 0.0635 - categorical_accuracy: 0.9844 "
     ]
    },
    {
     "name": "stdout",
     "output_type": "stream",
     "text": [
      "\b\b\b\b\b\b\b\b\b\b\b\b\b\b\b\b\b\b\b\b\b\b\b\b\b\b\b\b\b\b\b\b\b\b\b\b\b\b\b\b\b\b\b\b\b\b\b\b\b\b\b\b\b\b\b\b\b\b\b\b\b\b\b\b\b\b\b\b\b\b\b\b\b\b\b\b\b\b\b\b\b\b\b\b\b\b\b\b\b\b\b\b\b\b\r",
      "11/11 [==============================] - ETA: 0s - loss: 0.0612 - categorical_accuracy: 0.9857"
     ]
    },
    {
     "name": "stdout",
     "output_type": "stream",
     "text": [
      "\b\b\b\b\b\b\b\b\b\b\b\b\b\b\b\b\b\b\b\b\b\b\b\b\b\b\b\b\b\b\b\b\b\b\b\b\b\b\b\b\b\b\b\b\b\b\b\b\b\b\b\b\b\b\b\b\b\b\b\b\b\b\b\b\b\b\b\b\b\b\b\b\b\b\b\b\b\b\b\b\b\b\b\b\b\b\b\b\b\b\b\b\b\b\r",
      "11/11 [==============================] - 83s 8s/step - loss: 0.0612 - categorical_accuracy: 0.9857 - val_loss: 0.3912 - val_categorical_accuracy: 0.9000 - lr: 2.0000e-05\n"
     ]
    },
    {
     "name": "stdout",
     "output_type": "stream",
     "text": [
      "Epoch 9/30\n"
     ]
    },
    {
     "name": "stdout",
     "output_type": "stream",
     "text": [
      "\r",
      " 1/11 [=>............................] - ETA: 1:13 - loss: 0.0052 - categorical_accuracy: 1.0000"
     ]
    },
    {
     "name": "stdout",
     "output_type": "stream",
     "text": [
      "\b\b\b\b\b\b\b\b\b\b\b\b\b\b\b\b\b\b\b\b\b\b\b\b\b\b\b\b\b\b\b\b\b\b\b\b\b\b\b\b\b\b\b\b\b\b\b\b\b\b\b\b\b\b\b\b\b\b\b\b\b\b\b\b\b\b\b\b\b\b\b\b\b\b\b\b\b\b\b\b\b\b\b\b\b\b\b\b\b\b\b\b\b\b\b\b\r",
      " 2/11 [====>.........................] - ETA: 1:04 - loss: 0.0763 - categorical_accuracy: 0.9688"
     ]
    },
    {
     "name": "stdout",
     "output_type": "stream",
     "text": [
      "\b\b\b\b\b\b\b\b\b\b\b\b\b\b\b\b\b\b\b\b\b\b\b\b\b\b\b\b\b\b\b\b\b\b\b\b\b\b\b\b\b\b\b\b\b\b\b\b\b\b\b\b\b\b\b\b\b\b\b\b\b\b\b\b\b\b\b\b\b\b\b\b\b\b\b\b\b\b\b\b\b\b\b\b\b\b\b\b\b\b\b\b\b\b\b\b\r",
      " 3/11 [=======>......................] - ETA: 56s - loss: 0.0591 - categorical_accuracy: 0.9792 "
     ]
    },
    {
     "name": "stdout",
     "output_type": "stream",
     "text": [
      "\b\b\b\b\b\b\b\b\b\b\b\b\b\b\b\b\b\b\b\b\b\b\b\b\b\b\b\b\b\b\b\b\b\b\b\b\b\b\b\b\b\b\b\b\b\b\b\b\b\b\b\b\b\b\b\b\b\b\b\b\b\b\b\b\b\b\b\b\b\b\b\b\b\b\b\b\b\b\b\b\b\b\b\b\b\b\b\b\b\b\b\b\b\b\b\r",
      " 4/11 [=========>....................] - ETA: 49s - loss: 0.0467 - categorical_accuracy: 0.9844"
     ]
    },
    {
     "name": "stdout",
     "output_type": "stream",
     "text": [
      "\b\b\b\b\b\b\b\b\b\b\b\b\b\b\b\b\b\b\b\b\b\b\b\b\b\b\b\b\b\b\b\b\b\b\b\b\b\b\b\b\b\b\b\b\b\b\b\b\b\b\b\b\b\b\b\b\b\b\b\b\b\b\b\b\b\b\b\b\b\b\b\b\b\b\b\b\b\b\b\b\b\b\b\b\b\b\b\b\b\b\b\b\b\b\b\r",
      " 5/11 [============>.................] - ETA: 43s - loss: 0.0907 - categorical_accuracy: 0.9688"
     ]
    },
    {
     "name": "stdout",
     "output_type": "stream",
     "text": [
      "\b\b\b\b\b\b\b\b\b\b\b\b\b\b\b\b\b\b\b\b\b\b\b\b\b\b\b\b\b\b\b\b\b\b\b\b\b\b\b\b\b\b\b\b\b\b\b\b\b\b\b\b\b\b\b\b\b\b\b\b\b\b\b\b\b\b\b\b\b\b\b\b\b\b\b\b\b\b\b\b\b\b\b\b\b\b\b\b\b\b\b\b\b\b\b\r",
      " 6/11 [===============>..............] - ETA: 35s - loss: 0.0796 - categorical_accuracy: 0.9740"
     ]
    },
    {
     "name": "stdout",
     "output_type": "stream",
     "text": [
      "\b\b\b\b\b\b\b\b\b\b\b\b\b\b\b\b\b\b\b\b\b\b\b\b\b\b\b\b\b\b\b\b\b\b\b\b\b\b\b\b\b\b\b\b\b\b\b\b\b\b\b\b\b\b\b\b\b\b\b\b\b\b\b\b\b\b\b\b\b\b\b\b\b\b\b\b\b\b\b\b\b\b\b\b\b\b\b\b\b\b\b\b\b\b\b\r",
      " 7/11 [==================>...........] - ETA: 28s - loss: 0.0695 - categorical_accuracy: 0.9777"
     ]
    },
    {
     "name": "stdout",
     "output_type": "stream",
     "text": [
      "\b\b\b\b\b\b\b\b\b\b\b\b\b\b\b\b\b\b\b\b\b\b\b\b\b\b\b\b\b\b\b\b\b\b\b\b\b\b\b\b\b\b\b\b\b\b\b\b\b\b\b\b\b\b\b\b\b\b\b\b\b\b\b\b\b\b\b\b\b\b\b\b\b\b\b\b\b\b\b\b\b\b\b\b\b\b\b\b\b\b\b\b\b\b\b\r",
      " 8/11 [====================>.........] - ETA: 21s - loss: 0.0617 - categorical_accuracy: 0.9805"
     ]
    },
    {
     "name": "stdout",
     "output_type": "stream",
     "text": [
      "\b\b\b\b\b\b\b\b\b\b\b\b\b\b\b\b\b\b\b\b\b\b\b\b\b\b\b\b\b\b\b\b\b\b\b\b\b\b\b\b\b\b\b\b\b\b\b\b\b\b\b\b\b\b\b\b\b\b\b\b\b\b\b\b\b\b\b\b\b\b\b\b\b\b\b\b\b\b\b\b\b\b\b\b\b\b\b\b\b\b\b\b\b\b\b\r",
      " 9/11 [=======================>......] - ETA: 14s - loss: 0.0559 - categorical_accuracy: 0.9826"
     ]
    },
    {
     "name": "stdout",
     "output_type": "stream",
     "text": [
      "\b\b\b\b\b\b\b\b\b\b\b\b\b\b\b\b\b\b\b\b\b\b\b\b\b\b\b\b\b\b\b\b\b\b\b\b\b\b\b\b\b\b\b\b\b\b\b\b\b\b\b\b\b\b\b\b\b\b\b\b\b\b\b\b\b\b\b\b\b\b\b\b\b\b\b\b\b\b\b\b\b\b\b\b\b\b\b\b\b\b\b\b\b\b\b\r",
      "10/11 [==========================>...] - ETA: 7s - loss: 0.0513 - categorical_accuracy: 0.9844 "
     ]
    },
    {
     "name": "stdout",
     "output_type": "stream",
     "text": [
      "\b\b\b\b\b\b\b\b\b\b\b\b\b\b\b\b\b\b\b\b\b\b\b\b\b\b\b\b\b\b\b\b\b\b\b\b\b\b\b\b\b\b\b\b\b\b\b\b\b\b\b\b\b\b\b\b\b\b\b\b\b\b\b\b\b\b\b\b\b\b\b\b\b\b\b\b\b\b\b\b\b\b\b\b\b\b\b\b\b\b\b\b\b\b\r",
      "11/11 [==============================] - ETA: 0s - loss: 0.0528 - categorical_accuracy: 0.9829"
     ]
    },
    {
     "name": "stdout",
     "output_type": "stream",
     "text": [
      "\b\b\b\b\b\b\b\b\b\b\b\b\b\b\b\b\b\b\b\b\b\b\b\b\b\b\b\b\b\b\b\b\b\b\b\b\b\b\b\b\b\b\b\b\b\b\b\b\b\b\b\b\b\b\b\b\b\b\b\b\b\b\b\b\b\b\b\b\b\b\b\b\b\b\b\b\b\b\b\b\b\b\b\b\b\b\b\b\b\b\b\b\b\b\r",
      "11/11 [==============================] - 84s 8s/step - loss: 0.0528 - categorical_accuracy: 0.9829 - val_loss: 0.6781 - val_categorical_accuracy: 0.8600 - lr: 2.0000e-05\n"
     ]
    },
    {
     "name": "stdout",
     "output_type": "stream",
     "text": [
      "Epoch 10/30\n"
     ]
    },
    {
     "name": "stdout",
     "output_type": "stream",
     "text": [
      "\r",
      " 1/11 [=>............................] - ETA: 1:11 - loss: 0.0131 - categorical_accuracy: 1.0000"
     ]
    },
    {
     "name": "stdout",
     "output_type": "stream",
     "text": [
      "\b\b\b\b\b\b\b\b\b\b\b\b\b\b\b\b\b\b\b\b\b\b\b\b\b\b\b\b\b\b\b\b\b\b\b\b\b\b\b\b\b\b\b\b\b\b\b\b\b\b\b\b\b\b\b\b\b\b\b\b\b\b\b\b\b\b\b\b\b\b\b\b\b\b\b\b\b\b\b\b\b\b\b\b\b\b\b\b\b\b\b\b\b\b\b\b\r",
      " 2/11 [====>.........................] - ETA: 1:03 - loss: 0.0118 - categorical_accuracy: 1.0000"
     ]
    },
    {
     "name": "stdout",
     "output_type": "stream",
     "text": [
      "\b\b\b\b\b\b\b\b\b\b\b\b\b\b\b\b\b\b\b\b\b\b\b\b\b\b\b\b\b\b\b\b\b\b\b\b\b\b\b\b\b\b\b\b\b\b\b\b\b\b\b\b\b\b\b\b\b\b\b\b\b\b\b\b\b\b\b\b\b\b\b\b\b\b\b\b\b\b\b\b\b\b\b\b\b\b\b\b\b\b\b\b\b\b\b\b\r",
      " 3/11 [=======>......................] - ETA: 58s - loss: 0.0575 - categorical_accuracy: 0.9896 "
     ]
    },
    {
     "name": "stdout",
     "output_type": "stream",
     "text": [
      "\b\b\b\b\b\b\b\b\b\b\b\b\b\b\b\b\b\b\b\b\b\b\b\b\b\b\b\b\b\b\b\b\b\b\b\b\b\b\b\b\b\b\b\b\b\b\b\b\b\b\b\b\b\b\b\b\b\b\b\b\b\b\b\b\b\b\b\b\b\b\b\b\b\b\b\b\b\b\b\b\b\b\b\b\b\b\b\b\b\b\b\b\b\b\b\r",
      " 4/11 [=========>....................] - ETA: 51s - loss: 0.0445 - categorical_accuracy: 0.9922"
     ]
    },
    {
     "name": "stdout",
     "output_type": "stream",
     "text": [
      "\b\b\b\b\b\b\b\b\b\b\b\b\b\b\b\b\b\b\b\b\b\b\b\b\b\b\b\b\b\b\b\b\b\b\b\b\b\b\b\b\b\b\b\b\b\b\b\b\b\b\b\b\b\b\b\b\b\b\b\b\b\b\b\b\b\b\b\b\b\b\b\b\b\b\b\b\b\b\b\b\b\b\b\b\b\b\b\b\b\b\b\b\b\b\b\r",
      " 5/11 [============>.................] - ETA: 43s - loss: 0.0371 - categorical_accuracy: 0.9937"
     ]
    },
    {
     "name": "stdout",
     "output_type": "stream",
     "text": [
      "\b\b\b\b\b\b\b\b\b\b\b\b\b\b\b\b\b\b\b\b\b\b\b\b\b\b\b\b\b\b\b\b\b\b\b\b\b\b\b\b\b\b\b\b\b\b\b\b\b\b\b\b\b\b\b\b\b\b\b\b\b\b\b\b\b\b\b\b\b\b\b\b\b\b\b\b\b\b\b\b\b\b\b\b\b\b\b\b\b\b\b\b\b\b\b\r",
      " 6/11 [===============>..............] - ETA: 35s - loss: 0.0317 - categorical_accuracy: 0.9948"
     ]
    },
    {
     "name": "stdout",
     "output_type": "stream",
     "text": [
      "\b\b\b\b\b\b\b\b\b\b\b\b\b\b\b\b\b\b\b\b\b\b\b\b\b\b\b\b\b\b\b\b\b\b\b\b\b\b\b\b\b\b\b\b\b\b\b\b\b\b\b\b\b\b\b\b\b\b\b\b\b\b\b\b\b\b\b\b\b\b\b\b\b\b\b\b\b\b\b\b\b\b\b\b\b\b\b\b\b\b\b\b\b\b\b\r",
      " 7/11 [==================>...........] - ETA: 28s - loss: 0.0326 - categorical_accuracy: 0.9911"
     ]
    },
    {
     "name": "stdout",
     "output_type": "stream",
     "text": [
      "\b\b\b\b\b\b\b\b\b\b\b\b\b\b\b\b\b\b\b\b\b\b\b\b\b\b\b\b\b\b\b\b\b\b\b\b\b\b\b\b\b\b\b\b\b\b\b\b\b\b\b\b\b\b\b\b\b\b\b\b\b\b\b\b\b\b\b\b\b\b\b\b\b\b\b\b\b\b\b\b\b\b\b\b\b\b\b\b\b\b\b\b\b\b\b\r",
      " 8/11 [====================>.........] - ETA: 21s - loss: 0.0393 - categorical_accuracy: 0.9883"
     ]
    },
    {
     "name": "stdout",
     "output_type": "stream",
     "text": [
      "\b\b\b\b\b\b\b\b\b\b\b\b\b\b\b\b\b\b\b\b\b\b\b\b\b\b\b\b\b\b\b\b\b\b\b\b\b\b\b\b\b\b\b\b\b\b\b\b\b\b\b\b\b\b\b\b\b\b\b\b\b\b\b\b\b\b\b\b\b\b\b\b\b\b\b\b\b\b\b\b\b\b\b\b\b\b\b\b\b\b\b\b\b\b\b\r",
      " 9/11 [=======================>......] - ETA: 14s - loss: 0.0356 - categorical_accuracy: 0.9896"
     ]
    },
    {
     "name": "stdout",
     "output_type": "stream",
     "text": [
      "\b\b\b\b\b\b\b\b\b\b\b\b\b\b\b\b\b\b\b\b\b\b\b\b\b\b\b\b\b\b\b\b\b\b\b\b\b\b\b\b\b\b\b\b\b\b\b\b\b\b\b\b\b\b\b\b\b\b\b\b\b\b\b\b\b\b\b\b\b\b\b\b\b\b\b\b\b\b\b\b\b\b\b\b\b\b\b\b\b\b\b\b\b\b\b\r",
      "10/11 [==========================>...] - ETA: 7s - loss: 0.0323 - categorical_accuracy: 0.9906 "
     ]
    },
    {
     "name": "stdout",
     "output_type": "stream",
     "text": [
      "\b\b\b\b\b\b\b\b\b\b\b\b\b\b\b\b\b\b\b\b\b\b\b\b\b\b\b\b\b\b\b\b\b\b\b\b\b\b\b\b\b\b\b\b\b\b\b\b\b\b\b\b\b\b\b\b\b\b\b\b\b\b\b\b\b\b\b\b\b\b\b\b\b\b\b\b\b\b\b\b\b\b\b\b\b\b\b\b\b\b\b\b\b\b\r",
      "11/11 [==============================] - ETA: 0s - loss: 0.0301 - categorical_accuracy: 0.9914"
     ]
    },
    {
     "name": "stdout",
     "output_type": "stream",
     "text": [
      "\n",
      "Epoch 10: ReduceLROnPlateau reducing learning rate to 1.9999999494757505e-06.\n"
     ]
    },
    {
     "name": "stdout",
     "output_type": "stream",
     "text": [
      "\b\b\b\b\b\b\b\b\b\b\b\b\b\b\b\b\b\b\b\b\b\b\b\b\b\b\b\b\b\b\b\b\b\b\b\b\b\b\b\b\b\b\b\b\b\b\b\b\b\b\b\b\b\b\b\b\b\b\b\b\b\b\b\b\b\b\b\b\b\b\b\b\b\b\b\b\b\b\b\b\b\b\b\b\b\b\b\b\b\b\b\b\b\b\r",
      "11/11 [==============================] - 82s 8s/step - loss: 0.0301 - categorical_accuracy: 0.9914 - val_loss: 0.5402 - val_categorical_accuracy: 0.8600 - lr: 2.0000e-05\n"
     ]
    },
    {
     "name": "stdout",
     "output_type": "stream",
     "text": [
      "Epoch 11/30\n"
     ]
    },
    {
     "name": "stdout",
     "output_type": "stream",
     "text": [
      "\r",
      " 1/11 [=>............................] - ETA: 1:13 - loss: 0.1531 - categorical_accuracy: 0.9688"
     ]
    },
    {
     "name": "stdout",
     "output_type": "stream",
     "text": [
      "\b\b\b\b\b\b\b\b\b\b\b\b\b\b\b\b\b\b\b\b\b\b\b\b\b\b\b\b\b\b\b\b\b\b\b\b\b\b\b\b\b\b\b\b\b\b\b\b\b\b\b\b\b\b\b\b\b\b\b\b\b\b\b\b\b\b\b\b\b\b\b\b\b\b\b\b\b\b\b\b\b\b\b\b\b\b\b\b\b\b\b\b\b\b\b\b\r",
      " 2/11 [====>.........................] - ETA: 1:06 - loss: 0.0914 - categorical_accuracy: 0.9688"
     ]
    },
    {
     "name": "stdout",
     "output_type": "stream",
     "text": [
      "\b\b\b\b\b\b\b\b\b\b\b\b\b\b\b\b\b\b\b\b\b\b\b\b\b\b\b\b\b\b\b\b\b\b\b\b\b\b\b\b\b\b\b\b\b\b\b\b\b\b\b\b\b\b\b\b\b\b\b\b\b\b\b\b\b\b\b\b\b\b\b\b\b\b\b\b\b\b\b\b\b\b\b\b\b\b\b\b\b\b\b\b\b\b\b\b\r",
      " 3/11 [=======>......................] - ETA: 59s - loss: 0.0640 - categorical_accuracy: 0.9792 "
     ]
    },
    {
     "name": "stdout",
     "output_type": "stream",
     "text": [
      "\b\b\b\b\b\b\b\b\b\b\b\b\b\b\b\b\b\b\b\b\b\b\b\b\b\b\b\b\b\b\b\b\b\b\b\b\b\b\b\b\b\b\b\b\b\b\b\b\b\b\b\b\b\b\b\b\b\b\b\b\b\b\b\b\b\b\b\b\b\b\b\b\b\b\b\b\b\b\b\b\b\b\b\b\b\b\b\b\b\b\b\b\b\b\b\r",
      " 4/11 [=========>....................] - ETA: 52s - loss: 0.0492 - categorical_accuracy: 0.9844"
     ]
    },
    {
     "name": "stdout",
     "output_type": "stream",
     "text": [
      "\b\b\b\b\b\b\b\b\b\b\b\b\b\b\b\b\b\b\b\b\b\b\b\b\b\b\b\b\b\b\b\b\b\b\b\b\b\b\b\b\b\b\b\b\b\b\b\b\b\b\b\b\b\b\b\b\b\b\b\b\b\b\b\b\b\b\b\b\b\b\b\b\b\b\b\b\b\b\b\b\b\b\b\b\b\b\b\b\b\b\b\b\b\b\b\r",
      " 5/11 [============>.................] - ETA: 44s - loss: 0.0409 - categorical_accuracy: 0.9875"
     ]
    },
    {
     "name": "stdout",
     "output_type": "stream",
     "text": [
      "\b\b\b\b\b\b\b\b\b\b\b\b\b\b\b\b\b\b\b\b\b\b\b\b\b\b\b\b\b\b\b\b\b\b\b\b\b\b\b\b\b\b\b\b\b\b\b\b\b\b\b\b\b\b\b\b\b\b\b\b\b\b\b\b\b\b\b\b\b\b\b\b\b\b\b\b\b\b\b\b\b\b\b\b\b\b\b\b\b\b\b\b\b\b\b\r",
      " 6/11 [===============>..............] - ETA: 37s - loss: 0.0350 - categorical_accuracy: 0.9896"
     ]
    },
    {
     "name": "stdout",
     "output_type": "stream",
     "text": [
      "\b\b\b\b\b\b\b\b\b\b\b\b\b\b\b\b\b\b\b\b\b\b\b\b\b\b\b\b\b\b\b\b\b\b\b\b\b\b\b\b\b\b\b\b\b\b\b\b\b\b\b\b\b\b\b\b\b\b\b\b\b\b\b\b\b\b\b\b\b\b\b\b\b\b\b\b\b\b\b\b\b\b\b\b\b\b\b\b\b\b\b\b\b\b\b\r",
      " 7/11 [==================>...........] - ETA: 29s - loss: 0.0309 - categorical_accuracy: 0.9911"
     ]
    },
    {
     "name": "stdout",
     "output_type": "stream",
     "text": [
      "\b\b\b\b\b\b\b\b\b\b\b\b\b\b\b\b\b\b\b\b\b\b\b\b\b\b\b\b\b\b\b\b\b\b\b\b\b\b\b\b\b\b\b\b\b\b\b\b\b\b\b\b\b\b\b\b\b\b\b\b\b\b\b\b\b\b\b\b\b\b\b\b\b\b\b\b\b\b\b\b\b\b\b\b\b\b\b\b\b\b\b\b\b\b\b\r",
      " 8/11 [====================>.........] - ETA: 22s - loss: 0.0282 - categorical_accuracy: 0.9922"
     ]
    },
    {
     "name": "stdout",
     "output_type": "stream",
     "text": [
      "\b\b\b\b\b\b\b\b\b\b\b\b\b\b\b\b\b\b\b\b\b\b\b\b\b\b\b\b\b\b\b\b\b\b\b\b\b\b\b\b\b\b\b\b\b\b\b\b\b\b\b\b\b\b\b\b\b\b\b\b\b\b\b\b\b\b\b\b\b\b\b\b\b\b\b\b\b\b\b\b\b\b\b\b\b\b\b\b\b\b\b\b\b\b\b\r",
      " 9/11 [=======================>......] - ETA: 14s - loss: 0.0257 - categorical_accuracy: 0.9931"
     ]
    },
    {
     "name": "stdout",
     "output_type": "stream",
     "text": [
      "\b\b\b\b\b\b\b\b\b\b\b\b\b\b\b\b\b\b\b\b\b\b\b\b\b\b\b\b\b\b\b\b\b\b\b\b\b\b\b\b\b\b\b\b\b\b\b\b\b\b\b\b\b\b\b\b\b\b\b\b\b\b\b\b\b\b\b\b\b\b\b\b\b\b\b\b\b\b\b\b\b\b\b\b\b\b\b\b\b\b\b\b\b\b\b\r",
      "10/11 [==========================>...] - ETA: 7s - loss: 0.0236 - categorical_accuracy: 0.9937 "
     ]
    },
    {
     "name": "stdout",
     "output_type": "stream",
     "text": [
      "\b\b\b\b\b\b\b\b\b\b\b\b\b\b\b\b\b\b\b\b\b\b\b\b\b\b\b\b\b\b\b\b\b\b\b\b\b\b\b\b\b\b\b\b\b\b\b\b\b\b\b\b\b\b\b\b\b\b\b\b\b\b\b\b\b\b\b\b\b\b\b\b\b\b\b\b\b\b\b\b\b\b\b\b\b\b\b\b\b\b\b\b\b\b\r",
      "11/11 [==============================] - ETA: 0s - loss: 0.0220 - categorical_accuracy: 0.9943"
     ]
    },
    {
     "name": "stdout",
     "output_type": "stream",
     "text": [
      "\b\b\b\b\b\b\b\b\b\b\b\b\b\b\b\b\b\b\b\b\b\b\b\b\b\b\b\b\b\b\b\b\b\b\b\b\b\b\b\b\b\b\b\b\b\b\b\b\b\b\b\b\b\b\b\b\b\b\b\b\b\b\b\b\b\b\b\b\b\b\b\b\b\b\b\b\b\b\b\b\b\b\b\b\b\b\b\b\b\b\b\b\b\b\r",
      "11/11 [==============================] - 85s 8s/step - loss: 0.0220 - categorical_accuracy: 0.9943 - val_loss: 0.5214 - val_categorical_accuracy: 0.8600 - lr: 2.0000e-06\n"
     ]
    },
    {
     "name": "stdout",
     "output_type": "stream",
     "text": [
      "Epoch 12/30\n"
     ]
    },
    {
     "name": "stdout",
     "output_type": "stream",
     "text": [
      "\r",
      " 1/11 [=>............................] - ETA: 1:12 - loss: 0.0051 - categorical_accuracy: 1.0000"
     ]
    },
    {
     "name": "stdout",
     "output_type": "stream",
     "text": [
      "\b\b\b\b\b\b\b\b\b\b\b\b\b\b\b\b\b\b\b\b\b\b\b\b\b\b\b\b\b\b\b\b\b\b\b\b\b\b\b\b\b\b\b\b\b\b\b\b\b\b\b\b\b\b\b\b\b\b\b\b\b\b\b\b\b\b\b\b\b\b\b\b\b\b\b\b\b\b\b\b\b\b\b\b\b\b\b\b\b\b\b\b\b\b\b\b\r",
      " 2/11 [====>.........................] - ETA: 1:04 - loss: 0.0067 - categorical_accuracy: 1.0000"
     ]
    },
    {
     "name": "stdout",
     "output_type": "stream",
     "text": [
      "\b\b\b\b\b\b\b\b\b\b\b\b\b\b\b\b\b\b\b\b\b\b\b\b\b\b\b\b\b\b\b\b\b\b\b\b\b\b\b\b\b\b\b\b\b\b\b\b\b\b\b\b\b\b\b\b\b\b\b\b\b\b\b\b\b\b\b\b\b\b\b\b\b\b\b\b\b\b\b\b\b\b\b\b\b\b\b\b\b\b\b\b\b\b\b\b\r",
      " 3/11 [=======>......................] - ETA: 57s - loss: 0.0064 - categorical_accuracy: 1.0000 "
     ]
    },
    {
     "name": "stdout",
     "output_type": "stream",
     "text": [
      "\b\b\b\b\b\b\b\b\b\b\b\b\b\b\b\b\b\b\b\b\b\b\b\b\b\b\b\b\b\b\b\b\b\b\b\b\b\b\b\b\b\b\b\b\b\b\b\b\b\b\b\b\b\b\b\b\b\b\b\b\b\b\b\b\b\b\b\b\b\b\b\b\b\b\b\b\b\b\b\b\b\b\b\b\b\b\b\b\b\b\b\b\b\b\b\r",
      " 4/11 [=========>....................] - ETA: 50s - loss: 0.0069 - categorical_accuracy: 1.0000"
     ]
    },
    {
     "name": "stdout",
     "output_type": "stream",
     "text": [
      "\b\b\b\b\b\b\b\b\b\b\b\b\b\b\b\b\b\b\b\b\b\b\b\b\b\b\b\b\b\b\b\b\b\b\b\b\b\b\b\b\b\b\b\b\b\b\b\b\b\b\b\b\b\b\b\b\b\b\b\b\b\b\b\b\b\b\b\b\b\b\b\b\b\b\b\b\b\b\b\b\b\b\b\b\b\b\b\b\b\b\b\b\b\b\b\r",
      " 5/11 [============>.................] - ETA: 43s - loss: 0.0064 - categorical_accuracy: 1.0000"
     ]
    },
    {
     "name": "stdout",
     "output_type": "stream",
     "text": [
      "\b\b\b\b\b\b\b\b\b\b\b\b\b\b\b\b\b\b\b\b\b\b\b\b\b\b\b\b\b\b\b\b\b\b\b\b\b\b\b\b\b\b\b\b\b\b\b\b\b\b\b\b\b\b\b\b\b\b\b\b\b\b\b\b\b\b\b\b\b\b\b\b\b\b\b\b\b\b\b\b\b\b\b\b\b\b\b\b\b\b\b\b\b\b\b\r",
      " 6/11 [===============>..............] - ETA: 36s - loss: 0.0062 - categorical_accuracy: 1.0000"
     ]
    },
    {
     "name": "stdout",
     "output_type": "stream",
     "text": [
      "\b\b\b\b\b\b\b\b\b\b\b\b\b\b\b\b\b\b\b\b\b\b\b\b\b\b\b\b\b\b\b\b\b\b\b\b\b\b\b\b\b\b\b\b\b\b\b\b\b\b\b\b\b\b\b\b\b\b\b\b\b\b\b\b\b\b\b\b\b\b\b\b\b\b\b\b\b\b\b\b\b\b\b\b\b\b\b\b\b\b\b\b\b\b\b\r",
      " 7/11 [==================>...........] - ETA: 29s - loss: 0.0061 - categorical_accuracy: 1.0000"
     ]
    },
    {
     "name": "stdout",
     "output_type": "stream",
     "text": [
      "\b\b\b\b\b\b\b\b\b\b\b\b\b\b\b\b\b\b\b\b\b\b\b\b\b\b\b\b\b\b\b\b\b\b\b\b\b\b\b\b\b\b\b\b\b\b\b\b\b\b\b\b\b\b\b\b\b\b\b\b\b\b\b\b\b\b\b\b\b\b\b\b\b\b\b\b\b\b\b\b\b\b\b\b\b\b\b\b\b\b\b\b\b\b\b\r",
      " 8/11 [====================>.........] - ETA: 22s - loss: 0.0258 - categorical_accuracy: 0.9961"
     ]
    },
    {
     "name": "stdout",
     "output_type": "stream",
     "text": [
      "\b\b\b\b\b\b\b\b\b\b\b\b\b\b\b\b\b\b\b\b\b\b\b\b\b\b\b\b\b\b\b\b\b\b\b\b\b\b\b\b\b\b\b\b\b\b\b\b\b\b\b\b\b\b\b\b\b\b\b\b\b\b\b\b\b\b\b\b\b\b\b\b\b\b\b\b\b\b\b\b\b\b\b\b\b\b\b\b\b\b\b\b\b\b\b\r",
      " 9/11 [=======================>......] - ETA: 14s - loss: 0.0234 - categorical_accuracy: 0.9965"
     ]
    },
    {
     "name": "stdout",
     "output_type": "stream",
     "text": [
      "\b\b\b\b\b\b\b\b\b\b\b\b\b\b\b\b\b\b\b\b\b\b\b\b\b\b\b\b\b\b\b\b\b\b\b\b\b\b\b\b\b\b\b\b\b\b\b\b\b\b\b\b\b\b\b\b\b\b\b\b\b\b\b\b\b\b\b\b\b\b\b\b\b\b\b\b\b\b\b\b\b\b\b\b\b\b\b\b\b\b\b\b\b\b\b\r",
      "10/11 [==========================>...] - ETA: 7s - loss: 0.0215 - categorical_accuracy: 0.9969 "
     ]
    },
    {
     "name": "stdout",
     "output_type": "stream",
     "text": [
      "\b\b\b\b\b\b\b\b\b\b\b\b\b\b\b\b\b\b\b\b\b\b\b\b\b\b\b\b\b\b\b\b\b\b\b\b\b\b\b\b\b\b\b\b\b\b\b\b\b\b\b\b\b\b\b\b\b\b\b\b\b\b\b\b\b\b\b\b\b\b\b\b\b\b\b\b\b\b\b\b\b\b\b\b\b\b\b\b\b\b\b\b\b\b\r",
      "11/11 [==============================] - ETA: 0s - loss: 0.0204 - categorical_accuracy: 0.9971"
     ]
    },
    {
     "name": "stdout",
     "output_type": "stream",
     "text": [
      "\b\b\b\b\b\b\b\b\b\b\b\b\b\b\b\b\b\b\b\b\b\b\b\b\b\b\b\b\b\b\b\b\b\b\b\b\b\b\b\b\b\b\b\b\b\b\b\b\b\b\b\b\b\b\b\b\b\b\b\b\b\b\b\b\b\b\b\b\b\b\b\b\b\b\b\b\b\b\b\b\b\b\b\b\b\b\b\b\b\b\b\b\b\b\r",
      "11/11 [==============================] - 85s 8s/step - loss: 0.0204 - categorical_accuracy: 0.9971 - val_loss: 0.5087 - val_categorical_accuracy: 0.8600 - lr: 2.0000e-06\n"
     ]
    },
    {
     "name": "stdout",
     "output_type": "stream",
     "text": [
      "Epoch 13/30\n"
     ]
    },
    {
     "name": "stdout",
     "output_type": "stream",
     "text": [
      "\r",
      " 1/11 [=>............................] - ETA: 1:11 - loss: 0.0048 - categorical_accuracy: 1.0000"
     ]
    },
    {
     "name": "stdout",
     "output_type": "stream",
     "text": [
      "\b\b\b\b\b\b\b\b\b\b\b\b\b\b\b\b\b\b\b\b\b\b\b\b\b\b\b\b\b\b\b\b\b\b\b\b\b\b\b\b\b\b\b\b\b\b\b\b\b\b\b\b\b\b\b\b\b\b\b\b\b\b\b\b\b\b\b\b\b\b\b\b\b\b\b\b\b\b\b\b\b\b\b\b\b\b\b\b\b\b\b\b\b\b\b\b\r",
      " 2/11 [====>.........................] - ETA: 1:04 - loss: 0.0044 - categorical_accuracy: 1.0000"
     ]
    },
    {
     "name": "stdout",
     "output_type": "stream",
     "text": [
      "\b\b\b\b\b\b\b\b\b\b\b\b\b\b\b\b\b\b\b\b\b\b\b\b\b\b\b\b\b\b\b\b\b\b\b\b\b\b\b\b\b\b\b\b\b\b\b\b\b\b\b\b\b\b\b\b\b\b\b\b\b\b\b\b\b\b\b\b\b\b\b\b\b\b\b\b\b\b\b\b\b\b\b\b\b\b\b\b\b\b\b\b\b\b\b\b\r",
      " 3/11 [=======>......................] - ETA: 58s - loss: 0.0599 - categorical_accuracy: 0.9896 "
     ]
    },
    {
     "name": "stdout",
     "output_type": "stream",
     "text": [
      "\b\b\b\b\b\b\b\b\b\b\b\b\b\b\b\b\b\b\b\b\b\b\b\b\b\b\b\b\b\b\b\b\b\b\b\b\b\b\b\b\b\b\b\b\b\b\b\b\b\b\b\b\b\b\b\b\b\b\b\b\b\b\b\b\b\b\b\b\b\b\b\b\b\b\b\b\b\b\b\b\b\b\b\b\b\b\b\b\b\b\b\b\b\b\b\r",
      " 4/11 [=========>....................] - ETA: 51s - loss: 0.0459 - categorical_accuracy: 0.9922"
     ]
    },
    {
     "name": "stdout",
     "output_type": "stream",
     "text": [
      "\b\b\b\b\b\b\b\b\b\b\b\b\b\b\b\b\b\b\b\b\b\b\b\b\b\b\b\b\b\b\b\b\b\b\b\b\b\b\b\b\b\b\b\b\b\b\b\b\b\b\b\b\b\b\b\b\b\b\b\b\b\b\b\b\b\b\b\b\b\b\b\b\b\b\b\b\b\b\b\b\b\b\b\b\b\b\b\b\b\b\b\b\b\b\b\r",
      " 5/11 [============>.................] - ETA: 43s - loss: 0.0388 - categorical_accuracy: 0.9937"
     ]
    },
    {
     "name": "stdout",
     "output_type": "stream",
     "text": [
      "\b\b\b\b\b\b\b\b\b\b\b\b\b\b\b\b\b\b\b\b\b\b\b\b\b\b\b\b\b\b\b\b\b\b\b\b\b\b\b\b\b\b\b\b\b\b\b\b\b\b\b\b\b\b\b\b\b\b\b\b\b\b\b\b\b\b\b\b\b\b\b\b\b\b\b\b\b\b\b\b\b\b\b\b\b\b\b\b\b\b\b\b\b\b\b\r",
      " 6/11 [===============>..............] - ETA: 36s - loss: 0.0334 - categorical_accuracy: 0.9948"
     ]
    },
    {
     "name": "stdout",
     "output_type": "stream",
     "text": [
      "\b\b\b\b\b\b\b\b\b\b\b\b\b\b\b\b\b\b\b\b\b\b\b\b\b\b\b\b\b\b\b\b\b\b\b\b\b\b\b\b\b\b\b\b\b\b\b\b\b\b\b\b\b\b\b\b\b\b\b\b\b\b\b\b\b\b\b\b\b\b\b\b\b\b\b\b\b\b\b\b\b\b\b\b\b\b\b\b\b\b\b\b\b\b\b\r",
      " 7/11 [==================>...........] - ETA: 28s - loss: 0.0296 - categorical_accuracy: 0.9955"
     ]
    },
    {
     "name": "stdout",
     "output_type": "stream",
     "text": [
      "\b\b\b\b\b\b\b\b\b\b\b\b\b\b\b\b\b\b\b\b\b\b\b\b\b\b\b\b\b\b\b\b\b\b\b\b\b\b\b\b\b\b\b\b\b\b\b\b\b\b\b\b\b\b\b\b\b\b\b\b\b\b\b\b\b\b\b\b\b\b\b\b\b\b\b\b\b\b\b\b\b\b\b\b\b\b\b\b\b\b\b\b\b\b\b\r",
      " 8/11 [====================>.........] - ETA: 21s - loss: 0.0264 - categorical_accuracy: 0.9961"
     ]
    },
    {
     "name": "stdout",
     "output_type": "stream",
     "text": [
      "\b\b\b\b\b\b\b\b\b\b\b\b\b\b\b\b\b\b\b\b\b\b\b\b\b\b\b\b\b\b\b\b\b\b\b\b\b\b\b\b\b\b\b\b\b\b\b\b\b\b\b\b\b\b\b\b\b\b\b\b\b\b\b\b\b\b\b\b\b\b\b\b\b\b\b\b\b\b\b\b\b\b\b\b\b\b\b\b\b\b\b\b\b\b\b\r",
      " 9/11 [=======================>......] - ETA: 14s - loss: 0.0241 - categorical_accuracy: 0.9965"
     ]
    },
    {
     "name": "stdout",
     "output_type": "stream",
     "text": [
      "\b\b\b\b\b\b\b\b\b\b\b\b\b\b\b\b\b\b\b\b\b\b\b\b\b\b\b\b\b\b\b\b\b\b\b\b\b\b\b\b\b\b\b\b\b\b\b\b\b\b\b\b\b\b\b\b\b\b\b\b\b\b\b\b\b\b\b\b\b\b\b\b\b\b\b\b\b\b\b\b\b\b\b\b\b\b\b\b\b\b\b\b\b\b\b\r",
      "10/11 [==========================>...] - ETA: 7s - loss: 0.0224 - categorical_accuracy: 0.9969 "
     ]
    },
    {
     "name": "stdout",
     "output_type": "stream",
     "text": [
      "\b\b\b\b\b\b\b\b\b\b\b\b\b\b\b\b\b\b\b\b\b\b\b\b\b\b\b\b\b\b\b\b\b\b\b\b\b\b\b\b\b\b\b\b\b\b\b\b\b\b\b\b\b\b\b\b\b\b\b\b\b\b\b\b\b\b\b\b\b\b\b\b\b\b\b\b\b\b\b\b\b\b\b\b\b\b\b\b\b\b\b\b\b\b\r",
      "11/11 [==============================] - ETA: 0s - loss: 0.0208 - categorical_accuracy: 0.9971"
     ]
    },
    {
     "name": "stdout",
     "output_type": "stream",
     "text": [
      "\b\b\b\b\b\b\b\b\b\b\b\b\b\b\b\b\b\b\b\b\b\b\b\b\b\b\b\b\b\b\b\b\b\b\b\b\b\b\b\b\b\b\b\b\b\b\b\b\b\b\b\b\b\b\b\b\b\b\b\b\b\b\b\b\b\b\b\b\b\b\b\b\b\b\b\b\b\b\b\b\b\b\b\b\b\b\b\b\b\b\b\b\b\b\r",
      "11/11 [==============================] - 83s 8s/step - loss: 0.0208 - categorical_accuracy: 0.9971 - val_loss: 0.5129 - val_categorical_accuracy: 0.8600 - lr: 2.0000e-06\n"
     ]
    },
    {
     "name": "stdout",
     "output_type": "stream",
     "text": [
      "Epoch 14/30\n"
     ]
    },
    {
     "name": "stdout",
     "output_type": "stream",
     "text": [
      "\r",
      " 1/11 [=>............................] - ETA: 1:13 - loss: 0.0062 - categorical_accuracy: 1.0000"
     ]
    },
    {
     "name": "stdout",
     "output_type": "stream",
     "text": [
      "\b\b\b\b\b\b\b\b\b\b\b\b\b\b\b\b\b\b\b\b\b\b\b\b\b\b\b\b\b\b\b\b\b\b\b\b\b\b\b\b\b\b\b\b\b\b\b\b\b\b\b\b\b\b\b\b\b\b\b\b\b\b\b\b\b\b\b\b\b\b\b\b\b\b\b\b\b\b\b\b\b\b\b\b\b\b\b\b\b\b\b\b\b\b\b\b\r",
      " 2/11 [====>.........................] - ETA: 1:05 - loss: 0.0047 - categorical_accuracy: 1.0000"
     ]
    },
    {
     "name": "stdout",
     "output_type": "stream",
     "text": [
      "\b\b\b\b\b\b\b\b\b\b\b\b\b\b\b\b\b\b\b\b\b\b\b\b\b\b\b\b\b\b\b\b\b\b\b\b\b\b\b\b\b\b\b\b\b\b\b\b\b\b\b\b\b\b\b\b\b\b\b\b\b\b\b\b\b\b\b\b\b\b\b\b\b\b\b\b\b\b\b\b\b\b\b\b\b\b\b\b\b\b\b\b\b\b\b\b\r",
      " 3/11 [=======>......................] - ETA: 57s - loss: 0.0048 - categorical_accuracy: 1.0000 "
     ]
    },
    {
     "name": "stdout",
     "output_type": "stream",
     "text": [
      "\b\b\b\b\b\b\b\b\b\b\b\b\b\b\b\b\b\b\b\b\b\b\b\b\b\b\b\b\b\b\b\b\b\b\b\b\b\b\b\b\b\b\b\b\b\b\b\b\b\b\b\b\b\b\b\b\b\b\b\b\b\b\b\b\b\b\b\b\b\b\b\b\b\b\b\b\b\b\b\b\b\b\b\b\b\b\b\b\b\b\b\b\b\b\b\r",
      " 4/11 [=========>....................] - ETA: 50s - loss: 0.0046 - categorical_accuracy: 1.0000"
     ]
    },
    {
     "name": "stdout",
     "output_type": "stream",
     "text": [
      "\b\b\b\b\b\b\b\b\b\b\b\b\b\b\b\b\b\b\b\b\b\b\b\b\b\b\b\b\b\b\b\b\b\b\b\b\b\b\b\b\b\b\b\b\b\b\b\b\b\b\b\b\b\b\b\b\b\b\b\b\b\b\b\b\b\b\b\b\b\b\b\b\b\b\b\b\b\b\b\b\b\b\b\b\b\b\b\b\b\b\b\b\b\b\b\r",
      " 5/11 [============>.................] - ETA: 42s - loss: 0.0046 - categorical_accuracy: 1.0000"
     ]
    },
    {
     "name": "stdout",
     "output_type": "stream",
     "text": [
      "\b\b\b\b\b\b\b\b\b\b\b\b\b\b\b\b\b\b\b\b\b\b\b\b\b\b\b\b\b\b\b\b\b\b\b\b\b\b\b\b\b\b\b\b\b\b\b\b\b\b\b\b\b\b\b\b\b\b\b\b\b\b\b\b\b\b\b\b\b\b\b\b\b\b\b\b\b\b\b\b\b\b\b\b\b\b\b\b\b\b\b\b\b\b\b\r",
      " 6/11 [===============>..............] - ETA: 36s - loss: 0.0046 - categorical_accuracy: 1.0000"
     ]
    },
    {
     "name": "stdout",
     "output_type": "stream",
     "text": [
      "\b\b\b\b\b\b\b\b\b\b\b\b\b\b\b\b\b\b\b\b\b\b\b\b\b\b\b\b\b\b\b\b\b\b\b\b\b\b\b\b\b\b\b\b\b\b\b\b\b\b\b\b\b\b\b\b\b\b\b\b\b\b\b\b\b\b\b\b\b\b\b\b\b\b\b\b\b\b\b\b\b\b\b\b\b\b\b\b\b\b\b\b\b\b\b\r",
      " 7/11 [==================>...........] - ETA: 28s - loss: 0.0045 - categorical_accuracy: 1.0000"
     ]
    },
    {
     "name": "stdout",
     "output_type": "stream",
     "text": [
      "\b\b\b\b\b\b\b\b\b\b\b\b\b\b\b\b\b\b\b\b\b\b\b\b\b\b\b\b\b\b\b\b\b\b\b\b\b\b\b\b\b\b\b\b\b\b\b\b\b\b\b\b\b\b\b\b\b\b\b\b\b\b\b\b\b\b\b\b\b\b\b\b\b\b\b\b\b\b\b\b\b\b\b\b\b\b\b\b\b\b\b\b\b\b\b\r",
      " 8/11 [====================>.........] - ETA: 21s - loss: 0.0044 - categorical_accuracy: 1.0000"
     ]
    },
    {
     "name": "stdout",
     "output_type": "stream",
     "text": [
      "\b\b\b\b\b\b\b\b\b\b\b\b\b\b\b\b\b\b\b\b\b\b\b\b\b\b\b\b\b\b\b\b\b\b\b\b\b\b\b\b\b\b\b\b\b\b\b\b\b\b\b\b\b\b\b\b\b\b\b\b\b\b\b\b\b\b\b\b\b\b\b\b\b\b\b\b\b\b\b\b\b\b\b\b\b\b\b\b\b\b\b\b\b\b\b\r",
      " 9/11 [=======================>......] - ETA: 14s - loss: 0.0045 - categorical_accuracy: 1.0000"
     ]
    },
    {
     "name": "stdout",
     "output_type": "stream",
     "text": [
      "\b\b\b\b\b\b\b\b\b\b\b\b\b\b\b\b\b\b\b\b\b\b\b\b\b\b\b\b\b\b\b\b\b\b\b\b\b\b\b\b\b\b\b\b\b\b\b\b\b\b\b\b\b\b\b\b\b\b\b\b\b\b\b\b\b\b\b\b\b\b\b\b\b\b\b\b\b\b\b\b\b\b\b\b\b\b\b\b\b\b\b\b\b\b\b\r",
      "10/11 [==========================>...] - ETA: 7s - loss: 0.0044 - categorical_accuracy: 1.0000 "
     ]
    },
    {
     "name": "stdout",
     "output_type": "stream",
     "text": [
      "\b\b\b\b\b\b\b\b\b\b\b\b\b\b\b\b\b\b\b\b\b\b\b\b\b\b\b\b\b\b\b\b\b\b\b\b\b\b\b\b\b\b\b\b\b\b\b\b\b\b\b\b\b\b\b\b\b\b\b\b\b\b\b\b\b\b\b\b\b\b\b\b\b\b\b\b\b\b\b\b\b\b\b\b\b\b\b\b\b\b\b\b\b\b\r",
      "11/11 [==============================] - ETA: 0s - loss: 0.0149 - categorical_accuracy: 0.9971"
     ]
    },
    {
     "name": "stdout",
     "output_type": "stream",
     "text": [
      "\b\b\b\b\b\b\b\b\b\b\b\b\b\b\b\b\b\b\b\b\b\b\b\b\b\b\b\b\b\b\b\b\b\b\b\b\b\b\b\b\b\b\b\b\b\b\b\b\b\b\b\b\b\b\b\b\b\b\b\b\b\b\b\b\b\b\b\b\b\b\b\b\b\b\b\b\b\b\b\b\b\b\b\b\b\b\b\b\b\b\b\b\b\b\r",
      "11/11 [==============================] - 84s 8s/step - loss: 0.0149 - categorical_accuracy: 0.9971 - val_loss: 0.5147 - val_categorical_accuracy: 0.8600 - lr: 2.0000e-06\n"
     ]
    },
    {
     "name": "stdout",
     "output_type": "stream",
     "text": [
      "Epoch 15/30\n"
     ]
    },
    {
     "name": "stdout",
     "output_type": "stream",
     "text": [
      "\r",
      " 1/11 [=>............................] - ETA: 1:11 - loss: 0.0032 - categorical_accuracy: 1.0000"
     ]
    },
    {
     "name": "stdout",
     "output_type": "stream",
     "text": [
      "\b\b\b\b\b\b\b\b\b\b\b\b\b\b\b\b\b\b\b\b\b\b\b\b\b\b\b\b\b\b\b\b\b\b\b\b\b\b\b\b\b\b\b\b\b\b\b\b\b\b\b\b\b\b\b\b\b\b\b\b\b\b\b\b\b\b\b\b\b\b\b\b\b\b\b\b\b\b\b\b\b\b\b\b\b\b\b\b\b\b\b\b\b\b\b\b\r",
      " 2/11 [====>.........................] - ETA: 1:05 - loss: 0.0035 - categorical_accuracy: 1.0000"
     ]
    },
    {
     "name": "stdout",
     "output_type": "stream",
     "text": [
      "\b\b\b\b\b\b\b\b\b\b\b\b\b\b\b\b\b\b\b\b\b\b\b\b\b\b\b\b\b\b\b\b\b\b\b\b\b\b\b\b\b\b\b\b\b\b\b\b\b\b\b\b\b\b\b\b\b\b\b\b\b\b\b\b\b\b\b\b\b\b\b\b\b\b\b\b\b\b\b\b\b\b\b\b\b\b\b\b\b\b\b\b\b\b\b\b\r",
      " 3/11 [=======>......................] - ETA: 57s - loss: 0.0040 - categorical_accuracy: 1.0000 "
     ]
    },
    {
     "name": "stdout",
     "output_type": "stream",
     "text": [
      "\b\b\b\b\b\b\b\b\b\b\b\b\b\b\b\b\b\b\b\b\b\b\b\b\b\b\b\b\b\b\b\b\b\b\b\b\b\b\b\b\b\b\b\b\b\b\b\b\b\b\b\b\b\b\b\b\b\b\b\b\b\b\b\b\b\b\b\b\b\b\b\b\b\b\b\b\b\b\b\b\b\b\b\b\b\b\b\b\b\b\b\b\b\b\b\r",
      " 4/11 [=========>....................] - ETA: 50s - loss: 0.0038 - categorical_accuracy: 1.0000"
     ]
    },
    {
     "name": "stdout",
     "output_type": "stream",
     "text": [
      "\b\b\b\b\b\b\b\b\b\b\b\b\b\b\b\b\b\b\b\b\b\b\b\b\b\b\b\b\b\b\b\b\b\b\b\b\b\b\b\b\b\b\b\b\b\b\b\b\b\b\b\b\b\b\b\b\b\b\b\b\b\b\b\b\b\b\b\b\b\b\b\b\b\b\b\b\b\b\b\b\b\b\b\b\b\b\b\b\b\b\b\b\b\b\b\r",
      " 5/11 [============>.................] - ETA: 43s - loss: 0.0041 - categorical_accuracy: 1.0000"
     ]
    },
    {
     "name": "stdout",
     "output_type": "stream",
     "text": [
      "\b\b\b\b\b\b\b\b\b\b\b\b\b\b\b\b\b\b\b\b\b\b\b\b\b\b\b\b\b\b\b\b\b\b\b\b\b\b\b\b\b\b\b\b\b\b\b\b\b\b\b\b\b\b\b\b\b\b\b\b\b\b\b\b\b\b\b\b\b\b\b\b\b\b\b\b\b\b\b\b\b\b\b\b\b\b\b\b\b\b\b\b\b\b\b\r",
      " 6/11 [===============>..............] - ETA: 36s - loss: 0.0277 - categorical_accuracy: 0.9948"
     ]
    },
    {
     "name": "stdout",
     "output_type": "stream",
     "text": [
      "\b\b\b\b\b\b\b\b\b\b\b\b\b\b\b\b\b\b\b\b\b\b\b\b\b\b\b\b\b\b\b\b\b\b\b\b\b\b\b\b\b\b\b\b\b\b\b\b\b\b\b\b\b\b\b\b\b\b\b\b\b\b\b\b\b\b\b\b\b\b\b\b\b\b\b\b\b\b\b\b\b\b\b\b\b\b\b\b\b\b\b\b\b\b\b\r",
      " 7/11 [==================>...........] - ETA: 28s - loss: 0.0244 - categorical_accuracy: 0.9955"
     ]
    },
    {
     "name": "stdout",
     "output_type": "stream",
     "text": [
      "\b\b\b\b\b\b\b\b\b\b\b\b\b\b\b\b\b\b\b\b\b\b\b\b\b\b\b\b\b\b\b\b\b\b\b\b\b\b\b\b\b\b\b\b\b\b\b\b\b\b\b\b\b\b\b\b\b\b\b\b\b\b\b\b\b\b\b\b\b\b\b\b\b\b\b\b\b\b\b\b\b\b\b\b\b\b\b\b\b\b\b\b\b\b\b\r",
      " 8/11 [====================>.........] - ETA: 21s - loss: 0.0219 - categorical_accuracy: 0.9961"
     ]
    },
    {
     "name": "stdout",
     "output_type": "stream",
     "text": [
      "\b\b\b\b\b\b\b\b\b\b\b\b\b\b\b\b\b\b\b\b\b\b\b\b\b\b\b\b\b\b\b\b\b\b\b\b\b\b\b\b\b\b\b\b\b\b\b\b\b\b\b\b\b\b\b\b\b\b\b\b\b\b\b\b\b\b\b\b\b\b\b\b\b\b\b\b\b\b\b\b\b\b\b\b\b\b\b\b\b\b\b\b\b\b\b\r",
      " 9/11 [=======================>......] - ETA: 14s - loss: 0.0198 - categorical_accuracy: 0.9965"
     ]
    },
    {
     "name": "stdout",
     "output_type": "stream",
     "text": [
      "\b\b\b\b\b\b\b\b\b\b\b\b\b\b\b\b\b\b\b\b\b\b\b\b\b\b\b\b\b\b\b\b\b\b\b\b\b\b\b\b\b\b\b\b\b\b\b\b\b\b\b\b\b\b\b\b\b\b\b\b\b\b\b\b\b\b\b\b\b\b\b\b\b\b\b\b\b\b\b\b\b\b\b\b\b\b\b\b\b\b\b\b\b\b\b\r",
      "10/11 [==========================>...] - ETA: 7s - loss: 0.0183 - categorical_accuracy: 0.9969 "
     ]
    },
    {
     "name": "stdout",
     "output_type": "stream",
     "text": [
      "\b\b\b\b\b\b\b\b\b\b\b\b\b\b\b\b\b\b\b\b\b\b\b\b\b\b\b\b\b\b\b\b\b\b\b\b\b\b\b\b\b\b\b\b\b\b\b\b\b\b\b\b\b\b\b\b\b\b\b\b\b\b\b\b\b\b\b\b\b\b\b\b\b\b\b\b\b\b\b\b\b\b\b\b\b\b\b\b\b\b\b\b\b\b\r",
      "11/11 [==============================] - ETA: 0s - loss: 0.0170 - categorical_accuracy: 0.9971"
     ]
    },
    {
     "name": "stdout",
     "output_type": "stream",
     "text": [
      "\n",
      "Epoch 15: ReduceLROnPlateau reducing learning rate to 1.9999999949504855e-07.\n"
     ]
    },
    {
     "name": "stdout",
     "output_type": "stream",
     "text": [
      "\b\b\b\b\b\b\b\b\b\b\b\b\b\b\b\b\b\b\b\b\b\b\b\b\b\b\b\b\b\b\b\b\b\b\b\b\b\b\b\b\b\b\b\b\b\b\b\b\b\b\b\b\b\b\b\b\b\b\b\b\b\b\b\b\b\b\b\b\b\b\b\b\b\b\b\b\b\b\b\b\b\b\b\b\b\b\b\b\b\b\b\b\b\b\r",
      "11/11 [==============================] - 83s 8s/step - loss: 0.0170 - categorical_accuracy: 0.9971 - val_loss: 0.5166 - val_categorical_accuracy: 0.8600 - lr: 2.0000e-06\n"
     ]
    }
   ],
   "source": [
    "\n",
    "# ===== TRAINING =====\n",
    "model = create_model(max_len=128)   # pastikan max_len konsisten dengan tokenisasi\n",
    "\n",
    "early_stop = tf.keras.callbacks.EarlyStopping(\n",
    "    monitor='val_loss',\n",
    "    patience=10,\n",
    "    restore_best_weights=True\n",
    ")\n",
    "reduce_lr = tf.keras.callbacks.ReduceLROnPlateau(\n",
    "    monitor='val_loss',\n",
    "    factor=0.1,\n",
    "    patience=5,\n",
    "    verbose=1\n",
    ")\n",
    "\n",
    "history_bert = model.fit(\n",
    "    [train_input_ids, train_attention_masks], y_train,\n",
    "    validation_data=([val_input_ids, val_attention_masks], y_valid),\n",
    "    epochs=30,\n",
    "    batch_size=32,\n",
    "    class_weight=class_weight,          # dict {kelas: bobot}\n",
    "    callbacks=[reduce_lr, early_stop],\n",
    "    verbose=1\n",
    ")\n"
   ]
  },
  {
   "cell_type": "code",
   "execution_count": 33,
   "id": "3bf131f9",
   "metadata": {
    "execution": {
     "iopub.execute_input": "2025-10-07T18:25:24.832155Z",
     "iopub.status.busy": "2025-10-07T18:25:24.831945Z",
     "iopub.status.idle": "2025-10-07T18:25:42.820891Z",
     "shell.execute_reply": "2025-10-07T18:25:42.820001Z"
    },
    "papermill": {
     "duration": 18.008852,
     "end_time": "2025-10-07T18:25:42.822333",
     "exception": false,
     "start_time": "2025-10-07T18:25:24.813481",
     "status": "completed"
    },
    "tags": []
   },
   "outputs": [
    {
     "name": "stdout",
     "output_type": "stream",
     "text": [
      "\r",
      "1/4 [======>.......................] - ETA: 35s"
     ]
    },
    {
     "name": "stdout",
     "output_type": "stream",
     "text": [
      "\b\b\b\b\b\b\b\b\b\b\b\b\b\b\b\b\b\b\b\b\b\b\b\b\b\b\b\b\b\b\b\b\b\b\b\b\b\b\b\b\b\b\b\b\b\b\b\r",
      "2/4 [==============>...............] - ETA: 5s "
     ]
    },
    {
     "name": "stdout",
     "output_type": "stream",
     "text": [
      "\b\b\b\b\b\b\b\b\b\b\b\b\b\b\b\b\b\b\b\b\b\b\b\b\b\b\b\b\b\b\b\b\b\b\b\b\b\b\b\b\b\b\b\b\b\b\r",
      "3/4 [=====================>........] - ETA: 2s"
     ]
    },
    {
     "name": "stdout",
     "output_type": "stream",
     "text": [
      "\b\b\b\b\b\b\b\b\b\b\b\b\b\b\b\b\b\b\b\b\b\b\b\b\b\b\b\b\b\b\b\b\b\b\b\b\b\b\b\b\b\b\b\b\b\b\r",
      "4/4 [==============================] - ETA: 0s"
     ]
    },
    {
     "name": "stdout",
     "output_type": "stream",
     "text": [
      "\b\b\b\b\b\b\b\b\b\b\b\b\b\b\b\b\b\b\b\b\b\b\b\b\b\b\b\b\b\b\b\b\b\b\b\b\b\b\b\b\b\b\b\b\b\b\r",
      "4/4 [==============================] - 18s 2s/step\n"
     ]
    }
   ],
   "source": [
    "result = model.predict([test_input_ids, test_attention_masks])"
   ]
  },
  {
   "cell_type": "code",
   "execution_count": 34,
   "id": "1f10ae33",
   "metadata": {
    "execution": {
     "iopub.execute_input": "2025-10-07T18:25:42.858296Z",
     "iopub.status.busy": "2025-10-07T18:25:42.858070Z",
     "iopub.status.idle": "2025-10-07T18:25:42.861730Z",
     "shell.execute_reply": "2025-10-07T18:25:42.861094Z"
    },
    "papermill": {
     "duration": 0.02253,
     "end_time": "2025-10-07T18:25:42.862846",
     "exception": false,
     "start_time": "2025-10-07T18:25:42.840316",
     "status": "completed"
    },
    "tags": []
   },
   "outputs": [],
   "source": [
    "y_true_idx = y_test.argmax(1) if y_test.ndim > 1 else y_test\n",
    "y_pred_idx = result.argmax(1)\n",
    "                             "
   ]
  },
  {
   "cell_type": "code",
   "execution_count": 35,
   "id": "b5c72858",
   "metadata": {
    "execution": {
     "iopub.execute_input": "2025-10-07T18:25:42.898355Z",
     "iopub.status.busy": "2025-10-07T18:25:42.898052Z",
     "iopub.status.idle": "2025-10-07T18:25:42.902816Z",
     "shell.execute_reply": "2025-10-07T18:25:42.901938Z"
    },
    "papermill": {
     "duration": 0.024325,
     "end_time": "2025-10-07T18:25:42.904196",
     "exception": false,
     "start_time": "2025-10-07T18:25:42.879871",
     "status": "completed"
    },
    "tags": []
   },
   "outputs": [],
   "source": [
    "class_names_raw = ohe.categories_[0].tolist()             # contoh: [0, 1]\n",
    "# Kalau kamu punya label_dict = {'negative':0, 'positive':1}:\n",
    "inv_label_dict = {v:k for k,v in label_dict.items()}      # {0:'negative', 1:'positive'}\n",
    "class_names_str = [str(inv_label_dict.get(x, x)) for x in class_names_raw]  # ['negative','positive'] atau string lain\n"
   ]
  },
  {
   "cell_type": "code",
   "execution_count": 36,
   "id": "1b4836f2",
   "metadata": {
    "execution": {
     "iopub.execute_input": "2025-10-07T18:25:42.939968Z",
     "iopub.status.busy": "2025-10-07T18:25:42.939702Z",
     "iopub.status.idle": "2025-10-07T18:25:43.152778Z",
     "shell.execute_reply": "2025-10-07T18:25:43.151702Z"
    },
    "papermill": {
     "duration": 0.232382,
     "end_time": "2025-10-07T18:25:43.154056",
     "exception": true,
     "start_time": "2025-10-07T18:25:42.921674",
     "status": "failed"
    },
    "tags": []
   },
   "outputs": [
    {
     "ename": "NameError",
     "evalue": "name 'classification_report' is not defined",
     "output_type": "error",
     "traceback": [
      "\u001b[0;31m---------------------------------------------------------------------------\u001b[0m",
      "\u001b[0;31mNameError\u001b[0m                                 Traceback (most recent call last)",
      "Cell \u001b[0;32mIn[36], line 2\u001b[0m\n\u001b[1;32m      1\u001b[0m \u001b[38;5;66;03m# ===== CLASSIFICATION REPORT (tabel teks) =====\u001b[39;00m\n\u001b[0;32m----> 2\u001b[0m \u001b[38;5;28mprint\u001b[39m(\u001b[43mclassification_report\u001b[49m(\n\u001b[1;32m      3\u001b[0m     y_true_idx, y_pred_idx,\n\u001b[1;32m      4\u001b[0m     labels\u001b[38;5;241m=\u001b[39mlabels_idx,               \u001b[38;5;66;03m# urutan harus selaras\u001b[39;00m\n\u001b[1;32m      5\u001b[0m     target_names\u001b[38;5;241m=\u001b[39mclass_names_str, \u001b[38;5;66;03m# wajib string\u001b[39;00m\n\u001b[1;32m      6\u001b[0m     digits\u001b[38;5;241m=\u001b[39m\u001b[38;5;241m4\u001b[39m, \n\u001b[1;32m      7\u001b[0m     zero_division\u001b[38;5;241m=\u001b[39m\u001b[38;5;241m0\u001b[39m\n\u001b[1;32m      8\u001b[0m ))\n",
      "\u001b[0;31mNameError\u001b[0m: name 'classification_report' is not defined"
     ]
    }
   ],
   "source": [
    "# ===== CLASSIFICATION REPORT (tabel teks) =====\n",
    "print(classification_report(\n",
    "    y_true_idx, y_pred_idx,\n",
    "    labels=labels_idx,               # urutan harus selaras\n",
    "    target_names=class_names_str, # wajib string\n",
    "    digits=4, \n",
    "    zero_division=0\n",
    "))"
   ]
  },
  {
   "cell_type": "code",
   "execution_count": null,
   "id": "d5803981",
   "metadata": {
    "execution": {
     "execution_failed": "2025-10-07T18:00:19.438Z"
    },
    "papermill": {
     "duration": null,
     "end_time": null,
     "exception": null,
     "start_time": null,
     "status": "pending"
    },
    "tags": []
   },
   "outputs": [],
   "source": [
    "model.save(\"/kaggle/working/save_model/promt_model.h5\", save_format=\"h5\")\n"
   ]
  },
  {
   "cell_type": "code",
   "execution_count": null,
   "id": "1723106a",
   "metadata": {
    "execution": {
     "execution_failed": "2025-10-07T18:00:19.438Z"
    },
    "papermill": {
     "duration": null,
     "end_time": null,
     "exception": null,
     "start_time": null,
     "status": "pending"
    },
    "tags": []
   },
   "outputs": [],
   "source": [
    "# ---- Load (H5)\n",
    "from transformers import TFAlbertModel\n",
    "model2 = tf.keras.models.load_model(\n",
    "    \"/kaggle/working/save_model/promt_model.h5\",\n",
    "    custom_objects={\"TFAlbertModel\": TFAlbertModel},\n",
    "    compile=False\n",
    ")"
   ]
  },
  {
   "cell_type": "code",
   "execution_count": null,
   "id": "9d24f39d",
   "metadata": {
    "execution": {
     "execution_failed": "2025-10-07T18:00:19.439Z"
    },
    "papermill": {
     "duration": null,
     "end_time": null,
     "exception": null,
     "start_time": null,
     "status": "pending"
    },
    "tags": []
   },
   "outputs": [],
   "source": [
    "from transformers import TFAlbertModel\n",
    "\n",
    "# Muat model dengan custom_objects\n",
    "model2 = tf.keras.models.load_model(\n",
    "    \"/kaggle/working/save_model/promt_model.h5\",\n",
    "    custom_objects={\"TFAlbertModel\": TFAlbertModel}\n",
    ")"
   ]
  },
  {
   "cell_type": "code",
   "execution_count": null,
   "id": "35182dc7",
   "metadata": {
    "execution": {
     "execution_failed": "2025-10-07T18:00:19.439Z"
    },
    "papermill": {
     "duration": null,
     "end_time": null,
     "exception": null,
     "start_time": null,
     "status": "pending"
    },
    "tags": []
   },
   "outputs": [],
   "source": [
    "promt = \"sunblock cukup mahal buat seukuran ini. spf nya sih katanya 45, tapi masih gosong aja pake ini walau udah retouch. gak waterproof gak sweatproof. greasy. dipake nya lumayan cepet menyerap ke kulit. pas panas-panasan kulit jadi lengket gak jelas. clog pores juga. big no bua lt dipake di muka.\""
   ]
  },
  {
   "cell_type": "code",
   "execution_count": null,
   "id": "913adcca",
   "metadata": {
    "execution": {
     "execution_failed": "2025-10-07T18:00:19.439Z"
    },
    "papermill": {
     "duration": null,
     "end_time": null,
     "exception": null,
     "start_time": null,
     "status": "pending"
    },
    "tags": []
   },
   "outputs": [],
   "source": [
    "# CELL 50\n",
    "processed_promt = preprocess_text(promt)"
   ]
  },
  {
   "cell_type": "code",
   "execution_count": null,
   "id": "ddc57129",
   "metadata": {
    "execution": {
     "execution_failed": "2025-10-07T18:00:19.439Z"
    },
    "papermill": {
     "duration": null,
     "end_time": null,
     "exception": null,
     "start_time": null,
     "status": "pending"
    },
    "tags": []
   },
   "outputs": [],
   "source": [
    "prom_input_ids, prom_attention_masks = tokenize([processed_promt], 128)"
   ]
  },
  {
   "cell_type": "code",
   "execution_count": null,
   "id": "4c72f342",
   "metadata": {
    "execution": {
     "execution_failed": "2025-10-07T18:00:19.439Z"
    },
    "papermill": {
     "duration": null,
     "end_time": null,
     "exception": null,
     "start_time": null,
     "status": "pending"
    },
    "tags": []
   },
   "outputs": [],
   "source": [
    "promt_class = model2.predict([prom_input_ids, prom_attention_masks])"
   ]
  },
  {
   "cell_type": "code",
   "execution_count": null,
   "id": "0a92ecad",
   "metadata": {
    "execution": {
     "execution_failed": "2025-10-07T18:00:19.439Z"
    },
    "papermill": {
     "duration": null,
     "end_time": null,
     "exception": null,
     "start_time": null,
     "status": "pending"
    },
    "tags": []
   },
   "outputs": [],
   "source": [
    "# Nama kelas\n",
    "class_names = ['negative', 'positive']\n",
    "\n",
    "# Prediksi probabilitas\n",
    "probabilities = promt_class[0]  # Ambil prediksi untuk instance pertama (hanya 1 input)\n",
    "\n",
    "# Indeks kelas dengan probabilitas tertinggi\n",
    "predicted_index = np.argmax(probabilities)\n",
    "\n",
    "# Nama kelas\n",
    "predicted_class_name = class_names[predicted_index]\n",
    "\n",
    "# Probabilitas kelas yang diprediksi\n",
    "predicted_probability = probabilities[predicted_index]\n",
    "\n",
    "print(f\"Predicted Class: {predicted_class_name}\")\n",
    "print(f\"Probability: {predicted_probability:.4f}\")"
   ]
  },
  {
   "cell_type": "code",
   "execution_count": null,
   "id": "4bc95add",
   "metadata": {
    "execution": {
     "execution_failed": "2025-10-07T18:00:19.439Z"
    },
    "papermill": {
     "duration": null,
     "end_time": null,
     "exception": null,
     "start_time": null,
     "status": "pending"
    },
    "tags": []
   },
   "outputs": [],
   "source": [
    "# CELL 54\n",
    "# from transformers import TFAutoModel, AutoTokenizer\n",
    "# tokenizer  = AutoTokenizer.from_pretrained(\"indobenchmark/indobert-lite-large-p1\")\n",
    "# bert_model = TFAutoModel.from_pretrained(\"indobenchmark/indobert-lite-large-p1\", from_pt=True)\n"
   ]
  },
  {
   "cell_type": "code",
   "execution_count": null,
   "id": "10d89170",
   "metadata": {
    "execution": {
     "execution_failed": "2025-10-07T18:00:19.439Z"
    },
    "papermill": {
     "duration": null,
     "end_time": null,
     "exception": null,
     "start_time": null,
     "status": "pending"
    },
    "tags": []
   },
   "outputs": [],
   "source": [
    "import numpy as np, pandas as pd, matplotlib.pyplot as plt\n",
    "\n",
    "# --- 1A. TABEL HISTORY ---\n",
    "hist = history_bert.history\n",
    "df_hist = pd.DataFrame(hist)\n",
    "display(df_hist.head())   # tampilan tabel\n",
    "# Simpan jika perlu\n",
    "df_hist.to_csv(\"training_history.csv\", index=False)"
   ]
  },
  {
   "cell_type": "code",
   "execution_count": null,
   "id": "d7af93b4",
   "metadata": {
    "execution": {
     "execution_failed": "2025-10-07T18:00:19.440Z"
    },
    "papermill": {
     "duration": null,
     "end_time": null,
     "exception": null,
     "start_time": null,
     "status": "pending"
    },
    "tags": []
   },
   "outputs": [],
   "source": [
    "import numpy as np, pandas as pd, matplotlib.pyplot as plt\n",
    "\n",
    "# --- 1B. KURVA LOSS ---\n",
    "plt.figure()\n",
    "plt.plot(hist.get(\"loss\", []), label=\"loss\")\n",
    "plt.plot(hist.get(\"val_loss\", []), label=\"val_loss\")\n",
    "plt.title(\"Kurva Loss (Train vs Validasi)\")\n",
    "plt.xlabel(\"Epoch\")\n",
    "plt.ylabel(\"Loss\")\n",
    "plt.legend()\n",
    "plt.grid(True)\n",
    "plt.show()\n"
   ]
  },
  {
   "cell_type": "code",
   "execution_count": null,
   "id": "6731279a",
   "metadata": {
    "execution": {
     "execution_failed": "2025-10-07T18:00:19.440Z"
    },
    "papermill": {
     "duration": null,
     "end_time": null,
     "exception": null,
     "start_time": null,
     "status": "pending"
    },
    "tags": []
   },
   "outputs": [],
   "source": [
    "import numpy as np, pandas as pd, matplotlib.pyplot as plt\n",
    "\n",
    "# --- 1C. KURVA AKURASI (nama metrik bisa 'categorical_accuracy' atau 'accuracy') ---\n",
    "acc_key = \"categorical_accuracy\" if \"categorical_accuracy\" in hist else \"accuracy\"\n",
    "val_acc_key = f\"val_{acc_key}\"\n",
    "if acc_key in hist and val_acc_key in hist:\n",
    "    plt.figure()\n",
    "    plt.plot(hist[acc_key], label=acc_key)\n",
    "    plt.plot(hist[val_acc_key], label=val_acc_key)\n",
    "    plt.title(\"Kurva Akurasi (Train vs Validasi)\")\n",
    "    plt.xlabel(\"Epoch\")\n",
    "    plt.ylabel(\"Akurasi\")\n",
    "    plt.legend()\n",
    "    plt.grid(True)\n",
    "    plt.show()"
   ]
  },
  {
   "cell_type": "code",
   "execution_count": null,
   "id": "37b04542",
   "metadata": {
    "execution": {
     "execution_failed": "2025-10-07T18:00:19.440Z"
    },
    "papermill": {
     "duration": null,
     "end_time": null,
     "exception": null,
     "start_time": null,
     "status": "pending"
    },
    "tags": []
   },
   "outputs": [],
   "source": [
    "import numpy as np, pandas as pd, matplotlib.pyplot as plt\n",
    "\n",
    "# --- 1C. KURVA AKURASI (nama metrik bisa 'categorical_accuracy' atau 'accuracy') ---\n",
    "acc_key = \"categorical_accuracy\" if \"categorical_accuracy\" in hist else \"accuracy\"\n",
    "val_acc_key = f\"val_{acc_key}\"\n",
    "if acc_key in hist and val_acc_key in hist:\n",
    "    plt.figure()\n",
    "    plt.plot(hist[acc_key], label=acc_key)\n",
    "    plt.plot(hist[val_acc_key], label=val_acc_key)\n",
    "    plt.title(\"Kurva Akurasi (Train vs Validasi)\")\n",
    "    plt.xlabel(\"Epoch\")\n",
    "    plt.ylabel(\"Akurasi\")\n",
    "    plt.legend()\n",
    "    plt.grid(True)\n",
    "    plt.show()"
   ]
  },
  {
   "cell_type": "code",
   "execution_count": null,
   "id": "a50c1746",
   "metadata": {
    "execution": {
     "execution_failed": "2025-10-07T18:00:19.440Z"
    },
    "papermill": {
     "duration": null,
     "end_time": null,
     "exception": null,
     "start_time": null,
     "status": "pending"
    },
    "tags": []
   },
   "outputs": [],
   "source": [
    "# CELL 59\n",
    "from sklearn.metrics import classification_report, confusion_matrix, balanced_accuracy_score\n",
    "import numpy as np, pandas as pd, matplotlib.pyplot as plt\n",
    "\n",
    "# --- pastikan y_true & y_pred ---\n",
    "y_true_idx = y_test.argmax(1) if y_test.ndim > 1 else y_test\n",
    "y_pred_idx = result.argmax(1)  # dari softmax\n",
    "\n",
    "class_names = [\"Negative\",\"Positive\"]  # sesuaikan\n",
    "\n",
    "# --- 2A. TABEL CLASSIFICATION REPORT ---\n",
    "report = classification_report(\n",
    "    y_true_idx, y_pred_idx,\n",
    "    target_names=class_names_str,\n",
    "    output_dict=True,\n",
    "    digits=4,\n",
    "    zero_division=0\n",
    ")\n",
    "df_report = pd.DataFrame(report).T\n",
    "display(df_report)\n",
    "df_report.to_csv(\"classification_report.csv\", index=False)\n",
    "\n",
    "# --- 2B. TABEL CONFUSION MATRIX ---\n",
    "cm = confusion_matrix(y_true_idx, y_pred_idx, labels=list(range(len(class_names_str))))\n",
    "print(\"Confusion Matrix (angka):\\n\", cm)\n",
    "\n",
    "plt.figure()\n",
    "plt.imshow(cm, interpolation=\"nearest\")\n",
    "plt.title(\"Confusion Matrix\")\n",
    "plt.colorbar()\n",
    "tick_marks = np.arange(len(class_names_str))\n",
    "plt.xticks(tick_marks, class_names_str, rotation=45)\n",
    "plt.yticks(tick_marks, class_names_str)\n",
    "thresh = cm.max() / 2.0\n",
    "for i in range(cm.shape[0]):\n",
    "    for j in range(cm.shape[1]):\n",
    "        plt.text(j, i, format(cm[i, j], \"d\"),\n",
    "                 ha=\"center\", va=\"center\",\n",
    "                 color=\"white\" if cm[i, j] > thresh else \"black\")\n",
    "plt.ylabel(\"Aktual\")\n",
    "plt.xlabel(\"Prediksi\")\n",
    "plt.tight_layout()\n",
    "plt.show()\n",
    "\n",
    "# --- 2C. GAMBAR CONFUSION MATRIX (tanpa seaborn) ---\n",
    "bal_acc = balanced_accuracy_score(y_true_idx, y_pred_idx)\n",
    "print(f\"Balanced Accuracy: {bal_acc:.4f}\")"
   ]
  },
  {
   "cell_type": "code",
   "execution_count": null,
   "id": "6907a028",
   "metadata": {
    "execution": {
     "execution_failed": "2025-10-07T18:00:19.440Z"
    },
    "papermill": {
     "duration": null,
     "end_time": null,
     "exception": null,
     "start_time": null,
     "status": "pending"
    },
    "tags": []
   },
   "outputs": [],
   "source": [
    "from sklearn.metrics import roc_auc_score, roc_curve, precision_recall_curve, average_precision_score\n",
    "import numpy as np, matplotlib.pyplot as plt\n",
    "\n",
    "# Ambil probabilitas kelas positif (kolom 1 untuk binary softmax [neg, pos])\n",
    "y_true_idx = y_test.argmax(1) if y_test.ndim > 1 else y_test\n",
    "y_score_pos = result[:, 1]\n",
    "\n",
    "# --- ROC ---\n",
    "auc = roc_auc_score(y_true_idx, y_score_pos)\n",
    "fpr, tpr, _ = roc_curve(y_true_idx, y_score_pos)\n",
    "plt.figure()\n",
    "plt.plot(fpr, tpr, label=f\"AUC = {auc:.4f}\")\n",
    "plt.plot([0,1],[0,1], linestyle=\"--\")\n",
    "plt.title(\"ROC Curve\")\n",
    "plt.xlabel(\"False Positive Rate\")\n",
    "plt.ylabel(\"True Positive Rate\")\n",
    "plt.legend(); plt.grid(True); plt.show()\n",
    "\n",
    "# --- Precision–Recall ---\n",
    "prec, rec, _ = precision_recall_curve(y_true_idx, y_score_pos)\n",
    "ap = average_precision_score(y_true_idx, y_score_pos)\n",
    "plt.figure()\n",
    "plt.plot(rec, prec, label=f\"AP = {ap:.4f}\")\n",
    "plt.title(\"Precision–Recall Curve\")\n",
    "plt.xlabel(\"Recall\")\n",
    "plt.ylabel(\"Precision\")\n",
    "plt.legend(); plt.grid(True); plt.show()\n"
   ]
  },
  {
   "cell_type": "code",
   "execution_count": null,
   "id": "dacbf106",
   "metadata": {
    "execution": {
     "execution_failed": "2025-10-07T18:00:19.440Z"
    },
    "papermill": {
     "duration": null,
     "end_time": null,
     "exception": null,
     "start_time": null,
     "status": "pending"
    },
    "tags": []
   },
   "outputs": [],
   "source": [
    "import numpy as np, matplotlib.pyplot as plt\n",
    "\n",
    "def plot_class_dist(y, title):\n",
    "    y_idx = y.argmax(1) if y.ndim > 1 else y\n",
    "    counts = np.bincount(y_idx)\n",
    "    plt.figure()\n",
    "    plt.bar(range(len(counts)), counts)\n",
    "    plt.title(title)\n",
    "    plt.xlabel(\"Kelas\")\n",
    "    plt.ylabel(\"Jumlah\")\n",
    "    plt.xticks(range(len(counts)))\n",
    "    plt.grid(axis=\"y\")\n",
    "    plt.show()\n",
    "\n",
    "plot_class_dist(y_train, \"Distribusi Kelas - Train\")\n",
    "plot_class_dist(y_valid, \"Distribusi Kelas - Validasi\")\n",
    "plot_class_dist(y_test,  \"Distribusi Kelas - Test\")\n"
   ]
  },
  {
   "cell_type": "code",
   "execution_count": null,
   "id": "2e8bfc38",
   "metadata": {
    "execution": {
     "execution_failed": "2025-10-07T18:00:19.440Z"
    },
    "papermill": {
     "duration": null,
     "end_time": null,
     "exception": null,
     "start_time": null,
     "status": "pending"
    },
    "tags": []
   },
   "outputs": [],
   "source": [
    "# CELL 62\n",
    "# from sklearn.metrics import classification_report, confusion_matrix, balanced_accuracy_score\n",
    "# import numpy as np\n",
    "\n",
    "# # ===== CLASSIFICATION REPORT (tabel teks) =====\n",
    "# print(classification_report(\n",
    "#     y_true_idx, y_pred_idx, target_names=class_names, digits=4, zero_division=0\n",
    "# ))\n",
    "\n",
    "# # ===== CONFUSION MATRIX (angka mentah) =====\n",
    "# cm = confusion_matrix(y_true_idx, y_pred_idx, labels=range(len(class_names)))\n",
    "# print(\"Confusion Matrix:\\n\", cm)\n",
    "\n",
    "# # Jika Anda sudah punya helper `conf_matrix(y_true, y_pred, title, class_names)`\n",
    "# # panggil dengan indeks, bukan one-hot:\n",
    "# conf_matrix(y_true_idx, y_pred_idx, \"Sentiment Analysis — Confusion Matrix\", class_names_str)\n",
    "\n",
    "# # ===== BALANCED ACCURACY =====\n",
    "# bal_acc = balanced_accuracy_score(y_true_idx, y_pred_idx)\n",
    "# print(f\"Balanced Accuracy: {bal_acc:.4f}\")\n"
   ]
  }
 ],
 "metadata": {
  "kaggle": {
   "accelerator": "tpuV5e8",
   "dataSources": [
    {
     "datasetId": 6894264,
     "sourceId": 11064286,
     "sourceType": "datasetVersion"
    }
   ],
   "dockerImageVersionId": 30734,
   "isGpuEnabled": false,
   "isInternetEnabled": true,
   "language": "python",
   "sourceType": "notebook"
  },
  "kernelspec": {
   "display_name": "Python 3",
   "language": "python",
   "name": "python3"
  },
  "language_info": {
   "codemirror_mode": {
    "name": "ipython",
    "version": 3
   },
   "file_extension": ".py",
   "mimetype": "text/x-python",
   "name": "python",
   "nbconvert_exporter": "python",
   "pygments_lexer": "ipython3",
   "version": "3.10.14"
  },
  "papermill": {
   "default_parameters": {},
   "duration": 1478.603327,
   "end_time": "2025-10-07T18:25:47.300523",
   "environment_variables": {},
   "exception": true,
   "input_path": "__notebook__.ipynb",
   "output_path": "__notebook__.ipynb",
   "parameters": {},
   "start_time": "2025-10-07T18:01:08.697196",
   "version": "2.6.0"
  }
 },
 "nbformat": 4,
 "nbformat_minor": 5
}
